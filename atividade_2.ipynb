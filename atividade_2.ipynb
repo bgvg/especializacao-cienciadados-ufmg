{
 "cells": [
  {
   "cell_type": "markdown",
   "id": "5de66c0f-2c0b-46d6-a45a-de61c5e6d849",
   "metadata": {},
   "source": [
    "Atividade 2 TÓPICOS COMPUTACIONAIS EM CIÊNCIA DE DADOS - Ciências da Computação <br>\n",
    "Bernardo Gontijo Vaz Guimarães<br>\n",
    "Dados escolhidos UNSW_NB15"
   ]
  },
  {
   "cell_type": "code",
   "execution_count": 58,
   "id": "271ce6ff-3b6e-4daf-962c-31e998d580c7",
   "metadata": {},
   "outputs": [],
   "source": [
    "# Importando as bibliotecas a serem utilizadas\n",
    "import pandas as pd\n",
    "import numpy as np\n",
    "\n",
    "# Geração de gráficos\n",
    "import seaborn as sns\n",
    "import matplotlib.pyplot as plt\n",
    "from sklearn.metrics import ConfusionMatrixDisplay\n",
    "\n",
    "#Análise de correlação entre cat\n",
    "from scipy.stats import chi2_contingency\n",
    "\n",
    "# Preproc, normalização\n",
    "from sklearn.preprocessing import StandardScaler\n",
    "\n",
    "#Dividir dataset entre teste e reino\n",
    "from sklearn.model_selection import train_test_split\n",
    "\n",
    "#Modelos\n",
    "from sklearn.linear_model import LogisticRegression\n",
    "from sklearn.ensemble import GradientBoostingClassifier\n",
    "from sklearn.svm import SVC\n",
    "\n",
    "# Avaliação dos modelos\n",
    "from sklearn.metrics import confusion_matrix\n",
    "from sklearn.metrics import classification_report\n",
    "\n",
    "#Redução de dimensionalidade\n",
    "from sklearn.decomposition import PCA\n",
    "from sklearn.manifold import TSNE"
   ]
  },
  {
   "cell_type": "markdown",
   "id": "108b4933-90b8-4a2c-83c5-41f726ecd8ed",
   "metadata": {},
   "source": [
    "Carregando os dados a serem utilizados"
   ]
  },
  {
   "cell_type": "code",
   "execution_count": 2,
   "id": "2b9d1ba3-f183-4f1a-af2c-0b06a9c3d352",
   "metadata": {},
   "outputs": [],
   "source": [
    "# Carregando a lista de Features\n",
    "features = pd.read_csv('csv_files/NUSW-NB15_features.csv',\n",
    "                       encoding_errors='ignore',\n",
    "                       index_col='No.'\n",
    "                      )"
   ]
  },
  {
   "cell_type": "code",
   "execution_count": 3,
   "id": "b4e4f088-7340-455f-bd70-f9c551724e11",
   "metadata": {
    "scrolled": true
   },
   "outputs": [],
   "source": [
    "# Informações das colunas do Dataset\n",
    "#print(features)"
   ]
  },
  {
   "cell_type": "code",
   "execution_count": 4,
   "id": "2ae9987b-603f-4847-9a38-35a337e70579",
   "metadata": {
    "scrolled": true
   },
   "outputs": [
    {
     "data": {
      "text/plain": [
       "['srcip',\n",
       " 'sport',\n",
       " 'dstip',\n",
       " 'dsport',\n",
       " 'proto',\n",
       " 'state',\n",
       " 'dur',\n",
       " 'sbytes',\n",
       " 'dbytes',\n",
       " 'sttl',\n",
       " 'dttl',\n",
       " 'sloss',\n",
       " 'dloss',\n",
       " 'service',\n",
       " 'Sload',\n",
       " 'Dload',\n",
       " 'Spkts',\n",
       " 'Dpkts',\n",
       " 'swin',\n",
       " 'dwin',\n",
       " 'stcpb',\n",
       " 'dtcpb',\n",
       " 'smeansz',\n",
       " 'dmeansz',\n",
       " 'trans_depth',\n",
       " 'res_bdy_len',\n",
       " 'Sjit',\n",
       " 'Djit',\n",
       " 'Stime',\n",
       " 'Ltime',\n",
       " 'Sintpkt',\n",
       " 'Dintpkt',\n",
       " 'tcprtt',\n",
       " 'synack',\n",
       " 'ackdat',\n",
       " 'is_sm_ips_ports',\n",
       " 'ct_state_ttl',\n",
       " 'ct_flw_http_mthd',\n",
       " 'is_ftp_login',\n",
       " 'ct_ftp_cmd',\n",
       " 'ct_srv_src',\n",
       " 'ct_srv_dst',\n",
       " 'ct_dst_ltm',\n",
       " 'ct_src_ ltm',\n",
       " 'ct_src_dport_ltm',\n",
       " 'ct_dst_sport_ltm',\n",
       " 'ct_dst_src_ltm',\n",
       " 'attack_cat',\n",
       " 'Label']"
      ]
     },
     "execution_count": 4,
     "metadata": {},
     "output_type": "execute_result"
    }
   ],
   "source": [
    "# Lista para ser usada como header dos dados\n",
    "header = list(features['Name'])\n",
    "header"
   ]
  },
  {
   "cell_type": "code",
   "execution_count": 5,
   "id": "1c20d4f2-a666-4459-94ff-901e9bb34802",
   "metadata": {},
   "outputs": [],
   "source": [
    "# Selecionando colunas a serem usadas\n",
    "columns = [\n",
    "     'proto',\n",
    "     'state',\n",
    "     'dur',\n",
    "     'sbytes',\n",
    "     'dbytes',\n",
    "     'sttl',\n",
    "     'dttl',\n",
    "     'sloss',\n",
    "     'dloss',\n",
    "     'service',\n",
    "     'Spkts',\n",
    "     'Dpkts',\n",
    "     'ct_state_ttl',\n",
    "     'ct_srv_src',\n",
    "     'ct_srv_dst',\n",
    "     'ct_src_dport_ltm',\n",
    "     'ct_dst_sport_ltm',\n",
    "     'ct_dst_src_ltm',\n",
    "     'attack_cat',\n",
    "     'Label'\n",
    "    ]"
   ]
  },
  {
   "cell_type": "markdown",
   "id": "9ed20f87-ffad-418b-ac9f-ada52c53cb49",
   "metadata": {},
   "source": [
    "**Colunas não usadas:** <br>\n",
    "srcip e dstip -> outros atributos já trabalham as relações entre a origem e o destino <br>\n",
    "stime e ltime -> colunas dur já trabalha o tratamento de tempo necessário <br>\n",
    "ct_flw_http_mthd -> mais de 50% dos valores faltantes <br>\n",
    "dsport -> outros atributos já trabalham as relações entre a origem e o destino <br>\n",
    "Atributos abaixo foram retirados por conta de baixa correlação com labels <br>\n",
    "swin e dwin <br>\n",
    "stcpb e dtcpb <br>\n",
    "is_sm_ips_ports <br>\n",
    "trans_depth <br>\n",
    "res_bdy_len <br>\n",
    "ct_ftp_cmd <br>\n",
    "is_ftp_login <br>\n",
    "ct_dst_ltm <br>\n",
    "ct_src_ ltm <br>\n",
    "Sjit<br>\n",
    "Djit<br>\n",
    "tcprtt<br>\n",
    "synack<br> \n",
    "smeansz<br>\n",
    "dmeansz<br>\n",
    "Sload<br>\n",
    "Dload<br>"
   ]
  },
  {
   "cell_type": "code",
   "execution_count": 6,
   "id": "0b754ff2-274b-4533-bcf5-ce69e6af7a81",
   "metadata": {},
   "outputs": [],
   "source": [
    "# Conversores para tratar os dados no carregamento\n",
    "converter = {\n",
    "    'is_ftp_login': lambda x: np.int64(1) if x=='1' else np.int64(0),\n",
    "    'is_sm_ips_ports': lambda x: np.int64(1) if x=='1' else np.int64(0),\n",
    "    'ct_ftp_cmd': lambda x: np.int64(x) if x != ' ' else np.int64(0)\n",
    "}"
   ]
  },
  {
   "cell_type": "code",
   "execution_count": 7,
   "id": "b08ab116-fc27-44a3-abbe-0048c353b6c5",
   "metadata": {},
   "outputs": [],
   "source": [
    "# Definição dos tipos das colunas no carregamento\n",
    "dtype = {\n",
    "    'attack_cat': np.str_\n",
    "}"
   ]
  },
  {
   "cell_type": "markdown",
   "id": "621e5bbe-964e-47ea-b047-8df329082e65",
   "metadata": {},
   "source": [
    "Carregando os arquivos em 4 processos"
   ]
  },
  {
   "cell_type": "code",
   "execution_count": 8,
   "id": "3d99341a-efcb-430e-98c7-278ec5e5679c",
   "metadata": {},
   "outputs": [],
   "source": [
    "data1 = pd.read_csv('csv_files/data/UNSW-NB15_1.csv',names=header, usecols=columns, dtype=dtype, converters = converter)"
   ]
  },
  {
   "cell_type": "code",
   "execution_count": 9,
   "id": "8da31f23-a594-4383-a5ca-2129d2c2be5f",
   "metadata": {},
   "outputs": [],
   "source": [
    "data2 = pd.read_csv('csv_files/data/UNSW-NB15_2.csv',names=header, usecols=columns, dtype=dtype, converters = converter)"
   ]
  },
  {
   "cell_type": "code",
   "execution_count": 10,
   "id": "e1c94466-f3cc-4d5e-95f0-5cc50caa54aa",
   "metadata": {},
   "outputs": [],
   "source": [
    "data3 = pd.read_csv('csv_files/data/UNSW-NB15_3.csv',names=header, usecols=columns, dtype=dtype, converters = converter)"
   ]
  },
  {
   "cell_type": "code",
   "execution_count": 11,
   "id": "182edbd3-c0d3-486f-a30c-72cbef85e781",
   "metadata": {},
   "outputs": [],
   "source": [
    "data4 = pd.read_csv('csv_files/data/UNSW-NB15_4.csv',names=header, usecols=columns, dtype=dtype, converters = converter)"
   ]
  },
  {
   "cell_type": "markdown",
   "id": "35971e52-f9b7-4a61-a81b-6c0dce8811ab",
   "metadata": {},
   "source": [
    "Concatenando os arquivos"
   ]
  },
  {
   "cell_type": "code",
   "execution_count": 12,
   "id": "14d0718b-6103-4b53-911a-c524f85c4a22",
   "metadata": {},
   "outputs": [
    {
     "data": {
      "text/plain": [
       "(2540047, 20)"
      ]
     },
     "execution_count": 12,
     "metadata": {},
     "output_type": "execute_result"
    }
   ],
   "source": [
    "data = pd.concat([data1,data2,data3,data4],ignore_index=True)\n",
    "data.head()\n",
    "data.shape"
   ]
  },
  {
   "cell_type": "code",
   "execution_count": 13,
   "id": "970d176b-6c3c-484b-b100-1dfdd8b03a59",
   "metadata": {
    "scrolled": true
   },
   "outputs": [
    {
     "name": "stdout",
     "output_type": "stream",
     "text": [
      "<class 'pandas.core.frame.DataFrame'>\n",
      "RangeIndex: 2540047 entries, 0 to 2540046\n",
      "Data columns (total 20 columns):\n",
      " #   Column            Dtype  \n",
      "---  ------            -----  \n",
      " 0   proto             object \n",
      " 1   state             object \n",
      " 2   dur               float64\n",
      " 3   sbytes            int64  \n",
      " 4   dbytes            int64  \n",
      " 5   sttl              int64  \n",
      " 6   dttl              int64  \n",
      " 7   sloss             int64  \n",
      " 8   dloss             int64  \n",
      " 9   service           object \n",
      " 10  Spkts             int64  \n",
      " 11  Dpkts             int64  \n",
      " 12  ct_state_ttl      int64  \n",
      " 13  ct_srv_src        int64  \n",
      " 14  ct_srv_dst        int64  \n",
      " 15  ct_src_dport_ltm  int64  \n",
      " 16  ct_dst_sport_ltm  int64  \n",
      " 17  ct_dst_src_ltm    int64  \n",
      " 18  attack_cat        object \n",
      " 19  Label             int64  \n",
      "dtypes: float64(1), int64(15), object(4)\n",
      "memory usage: 387.6+ MB\n"
     ]
    }
   ],
   "source": [
    "# Verificando tipos das colunas e adicionando funções ao converter para consertar\n",
    "data.info()"
   ]
  },
  {
   "cell_type": "code",
   "execution_count": 14,
   "id": "d3623de2-fac0-40c8-85fb-94c4bf2775a8",
   "metadata": {},
   "outputs": [],
   "source": [
    "# Verificando a Coluna que possuia valores vazios\n",
    "#data['ct_ftp_cmd'].unique()"
   ]
  },
  {
   "cell_type": "code",
   "execution_count": 15,
   "id": "a18db4b2-52e1-4d0c-9d87-64f219523a33",
   "metadata": {},
   "outputs": [
    {
     "name": "stdout",
     "output_type": "stream",
     "text": [
      "proto 0\n",
      "state 0\n",
      "dur 0\n",
      "sbytes 0\n",
      "dbytes 0\n",
      "sttl 0\n",
      "dttl 0\n",
      "sloss 0\n",
      "dloss 0\n",
      "service 0\n",
      "Spkts 0\n",
      "Dpkts 0\n",
      "ct_state_ttl 0\n",
      "ct_srv_src 0\n",
      "ct_srv_dst 0\n",
      "ct_src_dport_ltm 0\n",
      "ct_dst_sport_ltm 0\n",
      "ct_dst_src_ltm 0\n",
      "attack_cat 2218764\n",
      "Label 0\n"
     ]
    }
   ],
   "source": [
    "# Contando os NAs nas colunas\n",
    "for i in range(data.shape[1]):\n",
    "    print(data.columns[i],data.isna().sum().iloc[i])"
   ]
  },
  {
   "cell_type": "code",
   "execution_count": 16,
   "id": "5a70d715-3667-4407-bd92-0a41b53b1a65",
   "metadata": {},
   "outputs": [],
   "source": [
    "# Usado para verificar a % de NAs na coluna\n",
    "#data['ct_flw_http_mthd'].isna().sum()/data.shape[0]"
   ]
  },
  {
   "cell_type": "code",
   "execution_count": 17,
   "id": "2604608b-abf7-4ed8-87a8-c80590328710",
   "metadata": {},
   "outputs": [
    {
     "data": {
      "text/plain": [
       "np.float64(0.8735129704292873)"
      ]
     },
     "execution_count": 17,
     "metadata": {},
     "output_type": "execute_result"
    }
   ],
   "source": [
    "# % de NAs no attack cat\n",
    "data['attack_cat'].isna().sum()/data.shape[0]"
   ]
  },
  {
   "cell_type": "code",
   "execution_count": 18,
   "id": "ca50f8df-b800-440f-b10a-5b69df3f3e14",
   "metadata": {},
   "outputs": [],
   "source": [
    "# Pegando as colunas numéricas descritivass\n",
    "descr_cols = list(data.describe().columns)[:-1] # até -1 para tirar o label"
   ]
  },
  {
   "cell_type": "code",
   "execution_count": 19,
   "id": "8940aa68-a473-4353-97ab-4e349d1d6184",
   "metadata": {},
   "outputs": [
    {
     "data": {
      "text/plain": [
       "['dur',\n",
       " 'sbytes',\n",
       " 'dbytes',\n",
       " 'sttl',\n",
       " 'dttl',\n",
       " 'sloss',\n",
       " 'dloss',\n",
       " 'Spkts',\n",
       " 'Dpkts',\n",
       " 'ct_state_ttl',\n",
       " 'ct_srv_src',\n",
       " 'ct_srv_dst',\n",
       " 'ct_src_dport_ltm',\n",
       " 'ct_dst_sport_ltm',\n",
       " 'ct_dst_src_ltm']"
      ]
     },
     "execution_count": 19,
     "metadata": {},
     "output_type": "execute_result"
    }
   ],
   "source": [
    "descr_cols"
   ]
  },
  {
   "cell_type": "code",
   "execution_count": 20,
   "id": "af4819b8-3d61-4214-906b-7595abb4ed8b",
   "metadata": {
    "scrolled": true
   },
   "outputs": [
    {
     "data": {
      "text/html": [
       "<div>\n",
       "<style scoped>\n",
       "    .dataframe tbody tr th:only-of-type {\n",
       "        vertical-align: middle;\n",
       "    }\n",
       "\n",
       "    .dataframe tbody tr th {\n",
       "        vertical-align: top;\n",
       "    }\n",
       "\n",
       "    .dataframe thead th {\n",
       "        text-align: right;\n",
       "    }\n",
       "</style>\n",
       "<table border=\"1\" class=\"dataframe\">\n",
       "  <thead>\n",
       "    <tr style=\"text-align: right;\">\n",
       "      <th></th>\n",
       "      <th>dur</th>\n",
       "      <th>sbytes</th>\n",
       "      <th>dbytes</th>\n",
       "      <th>sttl</th>\n",
       "      <th>dttl</th>\n",
       "      <th>sloss</th>\n",
       "      <th>dloss</th>\n",
       "      <th>Spkts</th>\n",
       "      <th>Dpkts</th>\n",
       "      <th>ct_state_ttl</th>\n",
       "      <th>ct_srv_src</th>\n",
       "      <th>ct_srv_dst</th>\n",
       "      <th>ct_src_dport_ltm</th>\n",
       "      <th>ct_dst_sport_ltm</th>\n",
       "      <th>ct_dst_src_ltm</th>\n",
       "    </tr>\n",
       "    <tr>\n",
       "      <th>Label</th>\n",
       "      <th></th>\n",
       "      <th></th>\n",
       "      <th></th>\n",
       "      <th></th>\n",
       "      <th></th>\n",
       "      <th></th>\n",
       "      <th></th>\n",
       "      <th></th>\n",
       "      <th></th>\n",
       "      <th></th>\n",
       "      <th></th>\n",
       "      <th></th>\n",
       "      <th></th>\n",
       "      <th></th>\n",
       "      <th></th>\n",
       "    </tr>\n",
       "  </thead>\n",
       "  <tbody>\n",
       "    <tr>\n",
       "      <th>0</th>\n",
       "      <td>0.648411</td>\n",
       "      <td>4121.088225</td>\n",
       "      <td>41058.519224</td>\n",
       "      <td>37.100686</td>\n",
       "      <td>28.566358</td>\n",
       "      <td>5.534693</td>\n",
       "      <td>18.393768</td>\n",
       "      <td>36.797789</td>\n",
       "      <td>48.087476</td>\n",
       "      <td>0.034048</td>\n",
       "      <td>7.627581</td>\n",
       "      <td>7.397207</td>\n",
       "      <td>3.362240</td>\n",
       "      <td>2.608133</td>\n",
       "      <td>4.961239</td>\n",
       "    </tr>\n",
       "    <tr>\n",
       "      <th>1</th>\n",
       "      <td>0.730478</td>\n",
       "      <td>5848.631674</td>\n",
       "      <td>4446.658613</td>\n",
       "      <td>240.135647</td>\n",
       "      <td>45.963020</td>\n",
       "      <td>2.603390</td>\n",
       "      <td>2.073325</td>\n",
       "      <td>9.056246</td>\n",
       "      <td>5.704986</td>\n",
       "      <td>1.829543</td>\n",
       "      <td>20.114295</td>\n",
       "      <td>19.981509</td>\n",
       "      <td>13.481059</td>\n",
       "      <td>10.392299</td>\n",
       "      <td>19.861163</td>\n",
       "    </tr>\n",
       "  </tbody>\n",
       "</table>\n",
       "</div>"
      ],
      "text/plain": [
       "            dur       sbytes        dbytes        sttl       dttl     sloss  \\\n",
       "Label                                                                         \n",
       "0      0.648411  4121.088225  41058.519224   37.100686  28.566358  5.534693   \n",
       "1      0.730478  5848.631674   4446.658613  240.135647  45.963020  2.603390   \n",
       "\n",
       "           dloss      Spkts      Dpkts  ct_state_ttl  ct_srv_src  ct_srv_dst  \\\n",
       "Label                                                                          \n",
       "0      18.393768  36.797789  48.087476      0.034048    7.627581    7.397207   \n",
       "1       2.073325   9.056246   5.704986      1.829543   20.114295   19.981509   \n",
       "\n",
       "       ct_src_dport_ltm  ct_dst_sport_ltm  ct_dst_src_ltm  \n",
       "Label                                                      \n",
       "0              3.362240          2.608133        4.961239  \n",
       "1             13.481059         10.392299       19.861163  "
      ]
     },
     "execution_count": 20,
     "metadata": {},
     "output_type": "execute_result"
    }
   ],
   "source": [
    "# Verificar relação entre os atributos numéricos e label\n",
    "data.groupby(['Label'])[descr_cols].mean().iloc[:,0:15]"
   ]
  },
  {
   "cell_type": "code",
   "execution_count": 21,
   "id": "82392071-306b-4449-8e53-4330928d8b79",
   "metadata": {},
   "outputs": [
    {
     "data": {
      "text/html": [
       "<div>\n",
       "<style scoped>\n",
       "    .dataframe tbody tr th:only-of-type {\n",
       "        vertical-align: middle;\n",
       "    }\n",
       "\n",
       "    .dataframe tbody tr th {\n",
       "        vertical-align: top;\n",
       "    }\n",
       "\n",
       "    .dataframe thead th {\n",
       "        text-align: right;\n",
       "    }\n",
       "</style>\n",
       "<table border=\"1\" class=\"dataframe\">\n",
       "  <thead>\n",
       "    <tr style=\"text-align: right;\">\n",
       "      <th></th>\n",
       "    </tr>\n",
       "    <tr>\n",
       "      <th>Label</th>\n",
       "    </tr>\n",
       "  </thead>\n",
       "  <tbody>\n",
       "    <tr>\n",
       "      <th>0</th>\n",
       "    </tr>\n",
       "    <tr>\n",
       "      <th>1</th>\n",
       "    </tr>\n",
       "  </tbody>\n",
       "</table>\n",
       "</div>"
      ],
      "text/plain": [
       "Empty DataFrame\n",
       "Columns: []\n",
       "Index: [0, 1]"
      ]
     },
     "execution_count": 21,
     "metadata": {},
     "output_type": "execute_result"
    }
   ],
   "source": [
    "data.groupby(['Label'])[descr_cols].mean().iloc[:,16:30]"
   ]
  },
  {
   "cell_type": "code",
   "execution_count": 22,
   "id": "5dcde45c-eb2e-4530-967d-b8c8e0409710",
   "metadata": {},
   "outputs": [
    {
     "data": {
      "text/html": [
       "<div>\n",
       "<style scoped>\n",
       "    .dataframe tbody tr th:only-of-type {\n",
       "        vertical-align: middle;\n",
       "    }\n",
       "\n",
       "    .dataframe tbody tr th {\n",
       "        vertical-align: top;\n",
       "    }\n",
       "\n",
       "    .dataframe thead th {\n",
       "        text-align: right;\n",
       "    }\n",
       "</style>\n",
       "<table border=\"1\" class=\"dataframe\">\n",
       "  <thead>\n",
       "    <tr style=\"text-align: right;\">\n",
       "      <th></th>\n",
       "    </tr>\n",
       "    <tr>\n",
       "      <th>Label</th>\n",
       "    </tr>\n",
       "  </thead>\n",
       "  <tbody>\n",
       "    <tr>\n",
       "      <th>0</th>\n",
       "    </tr>\n",
       "    <tr>\n",
       "      <th>1</th>\n",
       "    </tr>\n",
       "  </tbody>\n",
       "</table>\n",
       "</div>"
      ],
      "text/plain": [
       "Empty DataFrame\n",
       "Columns: []\n",
       "Index: [0, 1]"
      ]
     },
     "execution_count": 22,
     "metadata": {},
     "output_type": "execute_result"
    }
   ],
   "source": [
    "data.groupby(['Label'])[descr_cols].mean().iloc[:,30:-1]"
   ]
  },
  {
   "cell_type": "code",
   "execution_count": 23,
   "id": "c842039e-5e1f-4718-a8c1-40e87abea169",
   "metadata": {},
   "outputs": [],
   "source": [
    "data_mean_label = data.groupby(['Label'])[descr_cols].mean()"
   ]
  },
  {
   "cell_type": "markdown",
   "id": "be380774-3455-44c4-a086-37e37c066883",
   "metadata": {},
   "source": [
    "Verificação da relação das médias calc na mão"
   ]
  },
  {
   "cell_type": "code",
   "execution_count": 24,
   "id": "c801c688-4b79-4648-8519-daf0cafe3301",
   "metadata": {},
   "outputs": [
    {
     "name": "stdout",
     "output_type": "stream",
     "text": [
      "1.12656645299003\n",
      "1.4191959391803253\n",
      "0.10830051099180006\n",
      "6.472539298692753\n",
      "1.6089912714405996\n",
      "0.47037663704751126\n",
      "0.11271887178715687\n",
      "0.2461084392630613\n",
      "0.11863766618906847\n",
      "53.73456138352663\n",
      "2.6370477125525724\n",
      "2.701223480052429\n",
      "4.009546874705317\n",
      "3.984573753148697\n",
      "4.003266881833508\n"
     ]
    }
   ],
   "source": [
    "for i in range(len(data_mean_label.columns)):\n",
    "    relation = (data_mean_label.iloc[:,i][1])/(data_mean_label.iloc[:,i][0])\n",
    "    print(relation)"
   ]
  },
  {
   "cell_type": "code",
   "execution_count": 25,
   "id": "f1f1505e-a8da-4417-91a9-8440fad6b890",
   "metadata": {},
   "outputs": [
    {
     "name": "stdout",
     "output_type": "stream",
     "text": [
      "0.7304782731268072 0.6484111711191456\n",
      "1.12656645299003\n",
      "5848.631673633526 4121.088224795427\n",
      "1.4191959391803253\n",
      "4446.658612500506 41058.51922376602\n",
      "0.10830051099180006\n",
      "240.13564676624657 37.100685787222076\n",
      "6.472539298692753\n",
      "45.96302014112169 28.56635766579952\n",
      "1.6089912714405996\n",
      "2.603390157586925 5.534692738840183\n",
      "0.47037663704751126\n",
      "2.073324763526237 18.39376788157731\n",
      "0.11271887178715687\n",
      "9.056246362241389 36.797788768882135\n",
      "0.2461084392630613\n",
      "5.704985946968872 48.08747618043199\n",
      "0.11863766618906847\n",
      "1.8295428018289173 0.03404778516327108\n",
      "53.73456138352663\n",
      "20.114294873989596 7.627580941461102\n",
      "2.6370477125525724\n",
      "19.981508514300476 7.397206733118078\n",
      "2.701223480052429\n",
      "13.481058755053956 3.3622399678379495\n",
      "4.009546874705317\n",
      "10.392299001192095 2.6081331768498135\n",
      "3.984573753148697\n",
      "19.861162899997822 4.961238779789108\n",
      "4.003266881833508\n"
     ]
    }
   ],
   "source": [
    "for i in range(len(data_mean_label.columns)):\n",
    "    print(data_mean_label.iloc[:,i][1],data_mean_label.iloc[:,i][0])\n",
    "    print(data_mean_label.iloc[:,i][1]/data_mean_label.iloc[:,i][0])"
   ]
  },
  {
   "cell_type": "code",
   "execution_count": 26,
   "id": "786063b0-d2ad-4495-945e-49a6a9a5343b",
   "metadata": {
    "scrolled": true
   },
   "outputs": [
    {
     "name": "stdout",
     "output_type": "stream",
     "text": [
      "dbytes 0.10830051099180006\n",
      "sttl 6.472539298692753\n",
      "sloss 0.47037663704751126\n",
      "dloss 0.11271887178715687\n",
      "Spkts 0.2461084392630613\n",
      "Dpkts 0.11863766618906847\n",
      "ct_state_ttl 53.73456138352663\n",
      "ct_srv_src 2.6370477125525724\n",
      "ct_srv_dst 2.701223480052429\n",
      "ct_src_dport_ltm 4.009546874705317\n",
      "ct_dst_sport_ltm 3.984573753148697\n",
      "ct_dst_src_ltm 4.003266881833508\n"
     ]
    },
    {
     "data": {
      "text/plain": [
       "['dbytes',\n",
       " 'sttl',\n",
       " 'sloss',\n",
       " 'dloss',\n",
       " 'Spkts',\n",
       " 'Dpkts',\n",
       " 'ct_state_ttl',\n",
       " 'ct_srv_src',\n",
       " 'ct_srv_dst',\n",
       " 'ct_src_dport_ltm',\n",
       " 'ct_dst_sport_ltm',\n",
       " 'ct_dst_src_ltm']"
      ]
     },
     "execution_count": 26,
     "metadata": {},
     "output_type": "execute_result"
    }
   ],
   "source": [
    "# Iterar sobre o agrupado e calcular a diferença entre as médias dos marcados como ataque e não marcados para encontrar os que têm diferença maior que 2x\n",
    "big_mean_diff = list()\n",
    "for i in range(len(data_mean_label.columns)):\n",
    "    relation = (data_mean_label.iloc[:,i][1])/(data_mean_label.iloc[:,i][0])\n",
    "    if relation >= 2 or relation <=0.5: \n",
    "        print(data_mean_label.columns[i],relation)\n",
    "        big_mean_diff.append(data_mean_label.columns[i])\n",
    "big_mean_diff"
   ]
  },
  {
   "cell_type": "markdown",
   "id": "3fb1aaf5-02e8-46bd-a3fb-75f98676f5d2",
   "metadata": {},
   "source": [
    "Produzindo uma matriz de correlação para avaliar os atributos com"
   ]
  },
  {
   "cell_type": "code",
   "execution_count": 27,
   "id": "105ef050-8a2c-431b-aeb6-373e0e958bc3",
   "metadata": {},
   "outputs": [
    {
     "data": {
      "text/plain": [
       "Spkts              -0.120880\n",
       "Dpkts              -0.115947\n",
       "dloss              -0.095855\n",
       "dbytes             -0.075543\n",
       "sloss              -0.043272\n",
       "dur                 0.001959\n",
       "sbytes              0.010180\n",
       "dttl                0.134947\n",
       "ct_srv_src          0.383007\n",
       "ct_srv_dst          0.386509\n",
       "ct_src_dport_ltm    0.396749\n",
       "ct_dst_sport_ltm    0.419056\n",
       "ct_dst_src_ltm      0.439916\n",
       "ct_state_ttl        0.873694\n",
       "sttl                0.904393\n",
       "Label               1.000000\n",
       "Name: Label, dtype: float64"
      ]
     },
     "execution_count": 27,
     "metadata": {},
     "output_type": "execute_result"
    }
   ],
   "source": [
    "# Pearson correlation\n",
    "num_corr = data.corr(numeric_only=True)\n",
    "num_corr.iloc[:,-1].sort_values()"
   ]
  },
  {
   "cell_type": "code",
   "execution_count": 28,
   "id": "bb05ed4f-8f32-4bb3-a9da-f9a9c587ac97",
   "metadata": {},
   "outputs": [
    {
     "data": {
      "text/plain": [
       "dttl               -0.416054\n",
       "Dpkts              -0.364095\n",
       "dbytes             -0.363397\n",
       "sbytes             -0.348955\n",
       "Spkts              -0.292236\n",
       "dloss              -0.281369\n",
       "sloss              -0.280588\n",
       "dur                -0.258458\n",
       "ct_srv_dst          0.215734\n",
       "ct_srv_src          0.222227\n",
       "ct_dst_src_ltm      0.309146\n",
       "ct_src_dport_ltm    0.378263\n",
       "ct_dst_sport_ltm    0.458937\n",
       "sttl                0.736718\n",
       "ct_state_ttl        0.919764\n",
       "Label               1.000000\n",
       "Name: Label, dtype: float64"
      ]
     },
     "execution_count": 28,
     "metadata": {},
     "output_type": "execute_result"
    }
   ],
   "source": [
    "# Kendall correlation\n",
    "num_corr = data.corr(numeric_only=True, method='kendall')\n",
    "num_corr.iloc[:,-1].sort_values()"
   ]
  },
  {
   "cell_type": "code",
   "execution_count": 29,
   "id": "a2d27e7f-8b88-4096-9405-855f6896a0b5",
   "metadata": {},
   "outputs": [
    {
     "data": {
      "text/plain": [
       "dbytes             -0.433614\n",
       "Dpkts              -0.429284\n",
       "dttl               -0.422565\n",
       "sbytes             -0.420797\n",
       "Spkts              -0.340038\n",
       "dloss              -0.322032\n",
       "dur                -0.315860\n",
       "sloss              -0.312964\n",
       "ct_srv_dst          0.254983\n",
       "ct_srv_src          0.263057\n",
       "ct_dst_src_ltm      0.349463\n",
       "ct_src_dport_ltm    0.407662\n",
       "ct_dst_sport_ltm    0.484185\n",
       "sttl                0.760892\n",
       "ct_state_ttl        0.932251\n",
       "Label               1.000000\n",
       "Name: Label, dtype: float64"
      ]
     },
     "execution_count": 29,
     "metadata": {},
     "output_type": "execute_result"
    }
   ],
   "source": [
    "# Spearman correlation\n",
    "num_corr = data.corr(numeric_only=True, method='spearman')\n",
    "num_corr.iloc[:,-1].sort_values()"
   ]
  },
  {
   "cell_type": "markdown",
   "id": "60599889-21c3-4534-97b8-ff01fd10486c",
   "metadata": {},
   "source": [
    "**Colunas com correlação forte à label em todos os métodos:**<br>\n",
    "sttl <br>\n",
    "ct_state_ttl <br>"
   ]
  },
  {
   "cell_type": "markdown",
   "id": "482c3815-1b5a-4824-b665-60b14cd08cb2",
   "metadata": {},
   "source": [
    "Investigando a proporção de linha para ataque e para não ataque."
   ]
  },
  {
   "cell_type": "code",
   "execution_count": 30,
   "id": "c4df26f2-b5c2-443a-82dd-7b1eebe26644",
   "metadata": {},
   "outputs": [
    {
     "data": {
      "text/plain": [
       "Label\n",
       "0    2218764\n",
       "1     321283\n",
       "Name: count, dtype: int64"
      ]
     },
     "execution_count": 30,
     "metadata": {},
     "output_type": "execute_result"
    }
   ],
   "source": [
    "data['Label'].value_counts()"
   ]
  },
  {
   "cell_type": "code",
   "execution_count": 31,
   "id": "e60f1031-05f6-4cb3-83e2-1cec0fd06665",
   "metadata": {
    "scrolled": true
   },
   "outputs": [
    {
     "name": "stdout",
     "output_type": "stream",
     "text": [
      "Percentual de Atq: 0.12648702957071267\n",
      "Percentual de Normal: 0.8735129704292873\n"
     ]
    }
   ],
   "source": [
    "# Percentual de linhas de ataque\n",
    "perc_ataque = data['Label'].value_counts()[1]/data['Label'].value_counts().sum()\n",
    "perc_normal = data['Label'].value_counts()[0]/data['Label'].value_counts().sum()\n",
    "print('Percentual de Atq:',perc_ataque)\n",
    "print('Percentual de Normal:',perc_normal)"
   ]
  },
  {
   "cell_type": "code",
   "execution_count": 32,
   "id": "a454fcc2-9ac0-4cbe-b9a1-f8c92eebce1c",
   "metadata": {},
   "outputs": [
    {
     "data": {
      "text/plain": [
       "[0, 1]"
      ]
     },
     "execution_count": 32,
     "metadata": {},
     "output_type": "execute_result"
    }
   ],
   "source": [
    "list(data['Label'].value_counts().index)"
   ]
  },
  {
   "cell_type": "code",
   "execution_count": 33,
   "id": "c7915947-fad1-40e5-a901-a330cb55f16b",
   "metadata": {},
   "outputs": [
    {
     "data": {
      "image/png": "[encoded data removed]",
      "text/plain": [
       "<Figure size 640x480 with 1 Axes>"
      ]
     },
     "metadata": {},
     "output_type": "display_data"
    }
   ],
   "source": [
    "fig, ax = plt.subplots()\n",
    "plt.title('Label')\n",
    "ax.pie(data['Label'].value_counts(),\n",
    "       autopct='%1.1f%%'\n",
    "      );\n",
    "labels = [f'{l}, {s*100/data['Label'].value_counts().sum():.2f}%' for l, s in zip(['Normal','Ataque'], data['Label'].value_counts())]\n",
    "plt.legend(bbox_to_anchor=(0.85, 1), loc='upper left', labels=labels);"
   ]
  },
  {
   "cell_type": "markdown",
   "id": "c0a14d51-35af-4d4f-9498-9b0f86dae781",
   "metadata": {},
   "source": [
    "**Investigando os atributos categóricos:**"
   ]
  },
  {
   "cell_type": "code",
   "execution_count": 34,
   "id": "cdb10d05-d293-4539-8a01-597057dfaf2f",
   "metadata": {},
   "outputs": [
    {
     "data": {
      "text/plain": [
       "Index(['proto', 'state', 'service', 'attack_cat'], dtype='object')"
      ]
     },
     "execution_count": 34,
     "metadata": {},
     "output_type": "execute_result"
    }
   ],
   "source": [
    "# Colunas categóricas\n",
    "data.select_dtypes(include='object').columns"
   ]
  },
  {
   "cell_type": "code",
   "execution_count": 35,
   "id": "7cb06536-2b6a-45d2-a1ae-65af443f9f6b",
   "metadata": {},
   "outputs": [
    {
     "name": "stdout",
     "output_type": "stream",
     "text": [
      "proto\n",
      "tcp     1495074\n",
      "udp      990435\n",
      "unas      16202\n",
      "arp       10064\n",
      "ospf       7798\n",
      "         ...   \n",
      "3pc         137\n",
      "igmp         64\n",
      "udt           8\n",
      "rtp           7\n",
      "esp           2\n",
      "Name: count, Length: 135, dtype: int64\n",
      "state\n",
      "FIN    1478689\n",
      "CON     560588\n",
      "INT     490471\n",
      "REQ       9043\n",
      "RST        528\n",
      "ECO        337\n",
      "CLO        161\n",
      "URH        108\n",
      "ACC         43\n",
      "PAR         30\n",
      "TST          9\n",
      "ECR          9\n",
      "URN          8\n",
      "no           8\n",
      "MAS          8\n",
      "TXD          7\n",
      "Name: count, dtype: int64\n",
      "service\n",
      "-           1246397\n",
      "dns          781668\n",
      "http         206273\n",
      "ftp-data     125783\n",
      "smtp          81645\n",
      "ftp           49090\n",
      "ssh           47160\n",
      "pop3           1533\n",
      "dhcp            172\n",
      "ssl             142\n",
      "snmp            113\n",
      "radius           40\n",
      "irc              31\n",
      "Name: count, dtype: int64\n",
      "attack_cat\n",
      "Generic             215481\n",
      "Exploits             44525\n",
      " Fuzzers             19195\n",
      "DoS                  16353\n",
      " Reconnaissance      12228\n",
      " Fuzzers              5051\n",
      "Analysis              2677\n",
      "Backdoor              1795\n",
      "Reconnaissance        1759\n",
      " Shellcode            1288\n",
      "Backdoors              534\n",
      "Shellcode              223\n",
      "Worms                  174\n",
      "Name: count, dtype: int64\n"
     ]
    }
   ],
   "source": [
    "# Pegar colunas categóricas\n",
    "cat_columns = list(data.select_dtypes(include='object').columns)\n",
    "for coluna in cat_columns:\n",
    "    print(data[coluna].value_counts())"
   ]
  },
  {
   "cell_type": "markdown",
   "id": "7125694a-5cc4-4b66-a31e-831cf77c4819",
   "metadata": {},
   "source": [
    "Forte correlação entre label e as variáveis categóricas"
   ]
  },
  {
   "cell_type": "markdown",
   "id": "f432cab9-0b07-4ff4-a9cb-11803caadd6a",
   "metadata": {},
   "source": [
    "**Pre-processamento: OHE nos dados categóricos**"
   ]
  },
  {
   "cell_type": "code",
   "execution_count": 36,
   "id": "2845ca40-acf9-4a08-90e0-7c5bf7fd1dcb",
   "metadata": {},
   "outputs": [],
   "source": [
    "#One Hot encoding colunas categóricas\n",
    "ohe_cat_data = pd.get_dummies(\n",
    "    data[cat_columns[:-1]],\n",
    "    dtype=np.int32\n",
    ")"
   ]
  },
  {
   "cell_type": "code",
   "execution_count": 37,
   "id": "0776c7ce-d0f2-4337-af3a-c11d99c3579f",
   "metadata": {},
   "outputs": [
    {
     "data": {
      "text/plain": [
       "Index(['proto_3pc', 'proto_a/n', 'proto_aes-sp3-d', 'proto_any', 'proto_argus',\n",
       "       'proto_aris', 'proto_arp', 'proto_ax.25', 'proto_bbn-rcc', 'proto_bna',\n",
       "       ...\n",
       "       'service_ftp', 'service_ftp-data', 'service_http', 'service_irc',\n",
       "       'service_pop3', 'service_radius', 'service_smtp', 'service_snmp',\n",
       "       'service_ssh', 'service_ssl'],\n",
       "      dtype='object', length=164)"
      ]
     },
     "execution_count": 37,
     "metadata": {},
     "output_type": "execute_result"
    }
   ],
   "source": [
    "ohe_columns = ohe_cat_data.columns\n",
    "ohe_columns"
   ]
  },
  {
   "cell_type": "code",
   "execution_count": 38,
   "id": "3de719e2-722e-4797-b0bb-c9725a004924",
   "metadata": {},
   "outputs": [
    {
     "data": {
      "text/plain": [
       "(2540047, 164)"
      ]
     },
     "execution_count": 38,
     "metadata": {},
     "output_type": "execute_result"
    }
   ],
   "source": [
    "ohe_cat_data.shape"
   ]
  },
  {
   "cell_type": "code",
   "execution_count": 39,
   "id": "55b9f782-938b-475e-98cf-36112a89878e",
   "metadata": {},
   "outputs": [
    {
     "data": {
      "text/html": [
       "<div>\n",
       "<style scoped>\n",
       "    .dataframe tbody tr th:only-of-type {\n",
       "        vertical-align: middle;\n",
       "    }\n",
       "\n",
       "    .dataframe tbody tr th {\n",
       "        vertical-align: top;\n",
       "    }\n",
       "\n",
       "    .dataframe thead th {\n",
       "        text-align: right;\n",
       "    }\n",
       "</style>\n",
       "<table border=\"1\" class=\"dataframe\">\n",
       "  <thead>\n",
       "    <tr style=\"text-align: right;\">\n",
       "      <th></th>\n",
       "      <th>proto_3pc</th>\n",
       "      <th>proto_a/n</th>\n",
       "      <th>proto_aes-sp3-d</th>\n",
       "      <th>proto_any</th>\n",
       "      <th>proto_argus</th>\n",
       "      <th>proto_aris</th>\n",
       "      <th>proto_arp</th>\n",
       "      <th>proto_ax.25</th>\n",
       "      <th>proto_bbn-rcc</th>\n",
       "      <th>proto_bna</th>\n",
       "      <th>...</th>\n",
       "      <th>service_ftp</th>\n",
       "      <th>service_ftp-data</th>\n",
       "      <th>service_http</th>\n",
       "      <th>service_irc</th>\n",
       "      <th>service_pop3</th>\n",
       "      <th>service_radius</th>\n",
       "      <th>service_smtp</th>\n",
       "      <th>service_snmp</th>\n",
       "      <th>service_ssh</th>\n",
       "      <th>service_ssl</th>\n",
       "    </tr>\n",
       "  </thead>\n",
       "  <tbody>\n",
       "    <tr>\n",
       "      <th>0</th>\n",
       "      <td>0</td>\n",
       "      <td>0</td>\n",
       "      <td>0</td>\n",
       "      <td>0</td>\n",
       "      <td>0</td>\n",
       "      <td>0</td>\n",
       "      <td>0</td>\n",
       "      <td>0</td>\n",
       "      <td>0</td>\n",
       "      <td>0</td>\n",
       "      <td>...</td>\n",
       "      <td>0</td>\n",
       "      <td>0</td>\n",
       "      <td>0</td>\n",
       "      <td>0</td>\n",
       "      <td>0</td>\n",
       "      <td>0</td>\n",
       "      <td>0</td>\n",
       "      <td>0</td>\n",
       "      <td>0</td>\n",
       "      <td>0</td>\n",
       "    </tr>\n",
       "    <tr>\n",
       "      <th>1</th>\n",
       "      <td>0</td>\n",
       "      <td>0</td>\n",
       "      <td>0</td>\n",
       "      <td>0</td>\n",
       "      <td>0</td>\n",
       "      <td>0</td>\n",
       "      <td>0</td>\n",
       "      <td>0</td>\n",
       "      <td>0</td>\n",
       "      <td>0</td>\n",
       "      <td>...</td>\n",
       "      <td>0</td>\n",
       "      <td>0</td>\n",
       "      <td>0</td>\n",
       "      <td>0</td>\n",
       "      <td>0</td>\n",
       "      <td>0</td>\n",
       "      <td>0</td>\n",
       "      <td>0</td>\n",
       "      <td>0</td>\n",
       "      <td>0</td>\n",
       "    </tr>\n",
       "    <tr>\n",
       "      <th>2</th>\n",
       "      <td>0</td>\n",
       "      <td>0</td>\n",
       "      <td>0</td>\n",
       "      <td>0</td>\n",
       "      <td>0</td>\n",
       "      <td>0</td>\n",
       "      <td>0</td>\n",
       "      <td>0</td>\n",
       "      <td>0</td>\n",
       "      <td>0</td>\n",
       "      <td>...</td>\n",
       "      <td>0</td>\n",
       "      <td>0</td>\n",
       "      <td>0</td>\n",
       "      <td>0</td>\n",
       "      <td>0</td>\n",
       "      <td>0</td>\n",
       "      <td>0</td>\n",
       "      <td>0</td>\n",
       "      <td>0</td>\n",
       "      <td>0</td>\n",
       "    </tr>\n",
       "    <tr>\n",
       "      <th>3</th>\n",
       "      <td>0</td>\n",
       "      <td>0</td>\n",
       "      <td>0</td>\n",
       "      <td>0</td>\n",
       "      <td>0</td>\n",
       "      <td>0</td>\n",
       "      <td>0</td>\n",
       "      <td>0</td>\n",
       "      <td>0</td>\n",
       "      <td>0</td>\n",
       "      <td>...</td>\n",
       "      <td>0</td>\n",
       "      <td>0</td>\n",
       "      <td>0</td>\n",
       "      <td>0</td>\n",
       "      <td>0</td>\n",
       "      <td>0</td>\n",
       "      <td>0</td>\n",
       "      <td>0</td>\n",
       "      <td>0</td>\n",
       "      <td>0</td>\n",
       "    </tr>\n",
       "    <tr>\n",
       "      <th>4</th>\n",
       "      <td>0</td>\n",
       "      <td>0</td>\n",
       "      <td>0</td>\n",
       "      <td>0</td>\n",
       "      <td>0</td>\n",
       "      <td>0</td>\n",
       "      <td>0</td>\n",
       "      <td>0</td>\n",
       "      <td>0</td>\n",
       "      <td>0</td>\n",
       "      <td>...</td>\n",
       "      <td>0</td>\n",
       "      <td>0</td>\n",
       "      <td>0</td>\n",
       "      <td>0</td>\n",
       "      <td>0</td>\n",
       "      <td>0</td>\n",
       "      <td>0</td>\n",
       "      <td>0</td>\n",
       "      <td>0</td>\n",
       "      <td>0</td>\n",
       "    </tr>\n",
       "  </tbody>\n",
       "</table>\n",
       "<p>5 rows × 164 columns</p>\n",
       "</div>"
      ],
      "text/plain": [
       "   proto_3pc  proto_a/n  proto_aes-sp3-d  proto_any  proto_argus  proto_aris  \\\n",
       "0          0          0                0          0            0           0   \n",
       "1          0          0                0          0            0           0   \n",
       "2          0          0                0          0            0           0   \n",
       "3          0          0                0          0            0           0   \n",
       "4          0          0                0          0            0           0   \n",
       "\n",
       "   proto_arp  proto_ax.25  proto_bbn-rcc  proto_bna  ...  service_ftp  \\\n",
       "0          0            0              0          0  ...            0   \n",
       "1          0            0              0          0  ...            0   \n",
       "2          0            0              0          0  ...            0   \n",
       "3          0            0              0          0  ...            0   \n",
       "4          0            0              0          0  ...            0   \n",
       "\n",
       "   service_ftp-data  service_http  service_irc  service_pop3  service_radius  \\\n",
       "0                 0             0            0             0               0   \n",
       "1                 0             0            0             0               0   \n",
       "2                 0             0            0             0               0   \n",
       "3                 0             0            0             0               0   \n",
       "4                 0             0            0             0               0   \n",
       "\n",
       "   service_smtp  service_snmp  service_ssh  service_ssl  \n",
       "0             0             0            0            0  \n",
       "1             0             0            0            0  \n",
       "2             0             0            0            0  \n",
       "3             0             0            0            0  \n",
       "4             0             0            0            0  \n",
       "\n",
       "[5 rows x 164 columns]"
      ]
     },
     "execution_count": 39,
     "metadata": {},
     "output_type": "execute_result"
    }
   ],
   "source": [
    "ohe_cat_data.head()"
   ]
  },
  {
   "cell_type": "code",
   "execution_count": 40,
   "id": "fb151824-5e68-45ee-afcf-8bf4b055a49e",
   "metadata": {
    "scrolled": true
   },
   "outputs": [
    {
     "data": {
      "text/html": [
       "<div>\n",
       "<style scoped>\n",
       "    .dataframe tbody tr th:only-of-type {\n",
       "        vertical-align: middle;\n",
       "    }\n",
       "\n",
       "    .dataframe tbody tr th {\n",
       "        vertical-align: top;\n",
       "    }\n",
       "\n",
       "    .dataframe thead th {\n",
       "        text-align: right;\n",
       "    }\n",
       "</style>\n",
       "<table border=\"1\" class=\"dataframe\">\n",
       "  <thead>\n",
       "    <tr style=\"text-align: right;\">\n",
       "      <th></th>\n",
       "      <th>dur</th>\n",
       "      <th>sbytes</th>\n",
       "      <th>dbytes</th>\n",
       "      <th>sttl</th>\n",
       "      <th>dttl</th>\n",
       "      <th>sloss</th>\n",
       "      <th>dloss</th>\n",
       "      <th>Spkts</th>\n",
       "      <th>Dpkts</th>\n",
       "      <th>ct_state_ttl</th>\n",
       "      <th>...</th>\n",
       "      <th>service_ftp</th>\n",
       "      <th>service_ftp-data</th>\n",
       "      <th>service_http</th>\n",
       "      <th>service_irc</th>\n",
       "      <th>service_pop3</th>\n",
       "      <th>service_radius</th>\n",
       "      <th>service_smtp</th>\n",
       "      <th>service_snmp</th>\n",
       "      <th>service_ssh</th>\n",
       "      <th>service_ssl</th>\n",
       "    </tr>\n",
       "  </thead>\n",
       "  <tbody>\n",
       "    <tr>\n",
       "      <th>0</th>\n",
       "      <td>0.001055</td>\n",
       "      <td>132</td>\n",
       "      <td>164</td>\n",
       "      <td>31</td>\n",
       "      <td>29</td>\n",
       "      <td>0</td>\n",
       "      <td>0</td>\n",
       "      <td>2</td>\n",
       "      <td>2</td>\n",
       "      <td>0</td>\n",
       "      <td>...</td>\n",
       "      <td>0</td>\n",
       "      <td>0</td>\n",
       "      <td>0</td>\n",
       "      <td>0</td>\n",
       "      <td>0</td>\n",
       "      <td>0</td>\n",
       "      <td>0</td>\n",
       "      <td>0</td>\n",
       "      <td>0</td>\n",
       "      <td>0</td>\n",
       "    </tr>\n",
       "    <tr>\n",
       "      <th>1</th>\n",
       "      <td>0.036133</td>\n",
       "      <td>528</td>\n",
       "      <td>304</td>\n",
       "      <td>31</td>\n",
       "      <td>29</td>\n",
       "      <td>0</td>\n",
       "      <td>0</td>\n",
       "      <td>4</td>\n",
       "      <td>4</td>\n",
       "      <td>0</td>\n",
       "      <td>...</td>\n",
       "      <td>0</td>\n",
       "      <td>0</td>\n",
       "      <td>0</td>\n",
       "      <td>0</td>\n",
       "      <td>0</td>\n",
       "      <td>0</td>\n",
       "      <td>0</td>\n",
       "      <td>0</td>\n",
       "      <td>0</td>\n",
       "      <td>0</td>\n",
       "    </tr>\n",
       "    <tr>\n",
       "      <th>2</th>\n",
       "      <td>0.001119</td>\n",
       "      <td>146</td>\n",
       "      <td>178</td>\n",
       "      <td>31</td>\n",
       "      <td>29</td>\n",
       "      <td>0</td>\n",
       "      <td>0</td>\n",
       "      <td>2</td>\n",
       "      <td>2</td>\n",
       "      <td>0</td>\n",
       "      <td>...</td>\n",
       "      <td>0</td>\n",
       "      <td>0</td>\n",
       "      <td>0</td>\n",
       "      <td>0</td>\n",
       "      <td>0</td>\n",
       "      <td>0</td>\n",
       "      <td>0</td>\n",
       "      <td>0</td>\n",
       "      <td>0</td>\n",
       "      <td>0</td>\n",
       "    </tr>\n",
       "    <tr>\n",
       "      <th>3</th>\n",
       "      <td>0.001209</td>\n",
       "      <td>132</td>\n",
       "      <td>164</td>\n",
       "      <td>31</td>\n",
       "      <td>29</td>\n",
       "      <td>0</td>\n",
       "      <td>0</td>\n",
       "      <td>2</td>\n",
       "      <td>2</td>\n",
       "      <td>0</td>\n",
       "      <td>...</td>\n",
       "      <td>0</td>\n",
       "      <td>0</td>\n",
       "      <td>0</td>\n",
       "      <td>0</td>\n",
       "      <td>0</td>\n",
       "      <td>0</td>\n",
       "      <td>0</td>\n",
       "      <td>0</td>\n",
       "      <td>0</td>\n",
       "      <td>0</td>\n",
       "    </tr>\n",
       "    <tr>\n",
       "      <th>4</th>\n",
       "      <td>0.001169</td>\n",
       "      <td>146</td>\n",
       "      <td>178</td>\n",
       "      <td>31</td>\n",
       "      <td>29</td>\n",
       "      <td>0</td>\n",
       "      <td>0</td>\n",
       "      <td>2</td>\n",
       "      <td>2</td>\n",
       "      <td>0</td>\n",
       "      <td>...</td>\n",
       "      <td>0</td>\n",
       "      <td>0</td>\n",
       "      <td>0</td>\n",
       "      <td>0</td>\n",
       "      <td>0</td>\n",
       "      <td>0</td>\n",
       "      <td>0</td>\n",
       "      <td>0</td>\n",
       "      <td>0</td>\n",
       "      <td>0</td>\n",
       "    </tr>\n",
       "    <tr>\n",
       "      <th>...</th>\n",
       "      <td>...</td>\n",
       "      <td>...</td>\n",
       "      <td>...</td>\n",
       "      <td>...</td>\n",
       "      <td>...</td>\n",
       "      <td>...</td>\n",
       "      <td>...</td>\n",
       "      <td>...</td>\n",
       "      <td>...</td>\n",
       "      <td>...</td>\n",
       "      <td>...</td>\n",
       "      <td>...</td>\n",
       "      <td>...</td>\n",
       "      <td>...</td>\n",
       "      <td>...</td>\n",
       "      <td>...</td>\n",
       "      <td>...</td>\n",
       "      <td>...</td>\n",
       "      <td>...</td>\n",
       "      <td>...</td>\n",
       "      <td>...</td>\n",
       "    </tr>\n",
       "    <tr>\n",
       "      <th>2540042</th>\n",
       "      <td>0.087306</td>\n",
       "      <td>320</td>\n",
       "      <td>1828</td>\n",
       "      <td>31</td>\n",
       "      <td>29</td>\n",
       "      <td>1</td>\n",
       "      <td>2</td>\n",
       "      <td>6</td>\n",
       "      <td>8</td>\n",
       "      <td>0</td>\n",
       "      <td>...</td>\n",
       "      <td>0</td>\n",
       "      <td>1</td>\n",
       "      <td>0</td>\n",
       "      <td>0</td>\n",
       "      <td>0</td>\n",
       "      <td>0</td>\n",
       "      <td>0</td>\n",
       "      <td>0</td>\n",
       "      <td>0</td>\n",
       "      <td>0</td>\n",
       "    </tr>\n",
       "    <tr>\n",
       "      <th>2540043</th>\n",
       "      <td>0.365058</td>\n",
       "      <td>456</td>\n",
       "      <td>346</td>\n",
       "      <td>31</td>\n",
       "      <td>29</td>\n",
       "      <td>2</td>\n",
       "      <td>2</td>\n",
       "      <td>8</td>\n",
       "      <td>6</td>\n",
       "      <td>0</td>\n",
       "      <td>...</td>\n",
       "      <td>1</td>\n",
       "      <td>0</td>\n",
       "      <td>0</td>\n",
       "      <td>0</td>\n",
       "      <td>0</td>\n",
       "      <td>0</td>\n",
       "      <td>0</td>\n",
       "      <td>0</td>\n",
       "      <td>0</td>\n",
       "      <td>0</td>\n",
       "    </tr>\n",
       "    <tr>\n",
       "      <th>2540044</th>\n",
       "      <td>6.335154</td>\n",
       "      <td>1802</td>\n",
       "      <td>2088</td>\n",
       "      <td>31</td>\n",
       "      <td>29</td>\n",
       "      <td>7</td>\n",
       "      <td>9</td>\n",
       "      <td>32</td>\n",
       "      <td>30</td>\n",
       "      <td>0</td>\n",
       "      <td>...</td>\n",
       "      <td>1</td>\n",
       "      <td>0</td>\n",
       "      <td>0</td>\n",
       "      <td>0</td>\n",
       "      <td>0</td>\n",
       "      <td>0</td>\n",
       "      <td>0</td>\n",
       "      <td>0</td>\n",
       "      <td>0</td>\n",
       "      <td>0</td>\n",
       "    </tr>\n",
       "    <tr>\n",
       "      <th>2540045</th>\n",
       "      <td>2.200934</td>\n",
       "      <td>3498</td>\n",
       "      <td>166054</td>\n",
       "      <td>31</td>\n",
       "      <td>29</td>\n",
       "      <td>2</td>\n",
       "      <td>57</td>\n",
       "      <td>58</td>\n",
       "      <td>116</td>\n",
       "      <td>0</td>\n",
       "      <td>...</td>\n",
       "      <td>0</td>\n",
       "      <td>0</td>\n",
       "      <td>1</td>\n",
       "      <td>0</td>\n",
       "      <td>0</td>\n",
       "      <td>0</td>\n",
       "      <td>0</td>\n",
       "      <td>0</td>\n",
       "      <td>0</td>\n",
       "      <td>0</td>\n",
       "    </tr>\n",
       "    <tr>\n",
       "      <th>2540046</th>\n",
       "      <td>0.942984</td>\n",
       "      <td>574</td>\n",
       "      <td>676</td>\n",
       "      <td>62</td>\n",
       "      <td>252</td>\n",
       "      <td>5</td>\n",
       "      <td>6</td>\n",
       "      <td>12</td>\n",
       "      <td>12</td>\n",
       "      <td>3</td>\n",
       "      <td>...</td>\n",
       "      <td>0</td>\n",
       "      <td>0</td>\n",
       "      <td>0</td>\n",
       "      <td>0</td>\n",
       "      <td>1</td>\n",
       "      <td>0</td>\n",
       "      <td>0</td>\n",
       "      <td>0</td>\n",
       "      <td>0</td>\n",
       "      <td>0</td>\n",
       "    </tr>\n",
       "  </tbody>\n",
       "</table>\n",
       "<p>2540047 rows × 179 columns</p>\n",
       "</div>"
      ],
      "text/plain": [
       "              dur  sbytes  dbytes  sttl  dttl  sloss  dloss  Spkts  Dpkts  \\\n",
       "0        0.001055     132     164    31    29      0      0      2      2   \n",
       "1        0.036133     528     304    31    29      0      0      4      4   \n",
       "2        0.001119     146     178    31    29      0      0      2      2   \n",
       "3        0.001209     132     164    31    29      0      0      2      2   \n",
       "4        0.001169     146     178    31    29      0      0      2      2   \n",
       "...           ...     ...     ...   ...   ...    ...    ...    ...    ...   \n",
       "2540042  0.087306     320    1828    31    29      1      2      6      8   \n",
       "2540043  0.365058     456     346    31    29      2      2      8      6   \n",
       "2540044  6.335154    1802    2088    31    29      7      9     32     30   \n",
       "2540045  2.200934    3498  166054    31    29      2     57     58    116   \n",
       "2540046  0.942984     574     676    62   252      5      6     12     12   \n",
       "\n",
       "         ct_state_ttl  ...  service_ftp  service_ftp-data  service_http  \\\n",
       "0                   0  ...            0                 0             0   \n",
       "1                   0  ...            0                 0             0   \n",
       "2                   0  ...            0                 0             0   \n",
       "3                   0  ...            0                 0             0   \n",
       "4                   0  ...            0                 0             0   \n",
       "...               ...  ...          ...               ...           ...   \n",
       "2540042             0  ...            0                 1             0   \n",
       "2540043             0  ...            1                 0             0   \n",
       "2540044             0  ...            1                 0             0   \n",
       "2540045             0  ...            0                 0             1   \n",
       "2540046             3  ...            0                 0             0   \n",
       "\n",
       "         service_irc  service_pop3  service_radius  service_smtp  \\\n",
       "0                  0             0               0             0   \n",
       "1                  0             0               0             0   \n",
       "2                  0             0               0             0   \n",
       "3                  0             0               0             0   \n",
       "4                  0             0               0             0   \n",
       "...              ...           ...             ...           ...   \n",
       "2540042            0             0               0             0   \n",
       "2540043            0             0               0             0   \n",
       "2540044            0             0               0             0   \n",
       "2540045            0             0               0             0   \n",
       "2540046            0             1               0             0   \n",
       "\n",
       "         service_snmp  service_ssh  service_ssl  \n",
       "0                   0            0            0  \n",
       "1                   0            0            0  \n",
       "2                   0            0            0  \n",
       "3                   0            0            0  \n",
       "4                   0            0            0  \n",
       "...               ...          ...          ...  \n",
       "2540042             0            0            0  \n",
       "2540043             0            0            0  \n",
       "2540044             0            0            0  \n",
       "2540045             0            0            0  \n",
       "2540046             0            0            0  \n",
       "\n",
       "[2540047 rows x 179 columns]"
      ]
     },
     "execution_count": 40,
     "metadata": {},
     "output_type": "execute_result"
    }
   ],
   "source": [
    "# concatenando os DFs em um só DF\n",
    "preproc_data = pd.concat([data[descr_cols],ohe_cat_data],axis=1)\n",
    "preproc_data"
   ]
  },
  {
   "cell_type": "markdown",
   "id": "02f1539a-e742-4c72-9a04-bd668bfe44eb",
   "metadata": {},
   "source": [
    "**Dividindo os dados em samples de teste e treino**"
   ]
  },
  {
   "cell_type": "code",
   "execution_count": 41,
   "id": "78d91f0e-8e9f-4d30-9869-f54118d768cd",
   "metadata": {},
   "outputs": [],
   "source": [
    "#Usando o train test split do scikitlearn com stratify para garantir uma proporção similar de attack e normal\n",
    "test_size = 0.25\n",
    "X_train, X_test, y_train, y_test = train_test_split(\n",
    "    preproc_data,\n",
    "    data['Label'],\n",
    "    test_size = 0.25,\n",
    "    stratify = data['Label'],\n",
    "    random_state=19\n",
    ")"
   ]
  },
  {
   "cell_type": "code",
   "execution_count": 42,
   "id": "b6d53989-af5b-4cc7-a22a-bbfda22a3874",
   "metadata": {
    "scrolled": true
   },
   "outputs": [
    {
     "name": "stdout",
     "output_type": "stream",
     "text": [
      "X_train Shape: (1905035, 179)\n",
      "X_test Shape: (635012, 179)\n",
      "y_train Shape: (1905035,)\n",
      "y_test Shape: (635012,)\n"
     ]
    }
   ],
   "source": [
    "print('X_train Shape:',X_train.shape)\n",
    "print('X_test Shape:',X_test.shape)\n",
    "print('y_train Shape:',y_train.shape)\n",
    "print('y_test Shape:',y_test.shape)"
   ]
  },
  {
   "cell_type": "code",
   "execution_count": 43,
   "id": "19e412df-bfe8-4767-9aa7-a57c1b6a1475",
   "metadata": {
    "jupyter": {
     "source_hidden": true
    },
    "scrolled": true
   },
   "outputs": [
    {
     "name": "stdout",
     "output_type": "stream",
     "text": [
      "X_train Head:               dur  sbytes   dbytes  sttl  dttl  sloss  dloss  Spkts  Dpkts  \\\n",
      "1809470  0.001059     146      178    31    29      0      0      2      2   \n",
      "328557   0.019120    2854    29168    31    29      7     17     46     48   \n",
      "841376   2.641740   19618  1087890    31    29      2    370    368    746   \n",
      "1958201  0.000005     264        0    60     0      0      0      2      0   \n",
      "2259848  0.361363     320     1908    31    29      1      2      6      8   \n",
      "\n",
      "         ct_state_ttl  ...  service_ftp  service_ftp-data  service_http  \\\n",
      "1809470             0  ...            0                 0             0   \n",
      "328557              0  ...            0                 0             0   \n",
      "841376              0  ...            0                 0             1   \n",
      "1958201             0  ...            0                 0             0   \n",
      "2259848             0  ...            0                 1             0   \n",
      "\n",
      "         service_irc  service_pop3  service_radius  service_smtp  \\\n",
      "1809470            0             0               0             0   \n",
      "328557             0             0               0             0   \n",
      "841376             0             0               0             0   \n",
      "1958201            0             0               0             0   \n",
      "2259848            0             0               0             0   \n",
      "\n",
      "         service_snmp  service_ssh  service_ssl  \n",
      "1809470             0            0            0  \n",
      "328557              0            0            0  \n",
      "841376              0            0            0  \n",
      "1958201             0            0            0  \n",
      "2259848             0            0            0  \n",
      "\n",
      "[5 rows x 179 columns]\n",
      "X_test Head:               dur  sbytes  dbytes  sttl  dttl  sloss  dloss  Spkts  Dpkts  \\\n",
      "1651016  0.000003     264       0    60     0      0      0      2      0   \n",
      "584874   0.159185    5174   91160    31    29      7     39     90     92   \n",
      "400727   1.241409   13142  548216    31    29     21    197    228    438   \n",
      "673474   0.009405    2230   15236    31    29      7     11     34     36   \n",
      "569660   0.001108     146     178    31    29      0      0      2      2   \n",
      "\n",
      "         ct_state_ttl  ...  service_ftp  service_ftp-data  service_http  \\\n",
      "1651016             0  ...            0                 0             0   \n",
      "584874              0  ...            0                 0             0   \n",
      "400727              0  ...            0                 0             0   \n",
      "673474              0  ...            0                 0             0   \n",
      "569660              0  ...            0                 0             0   \n",
      "\n",
      "         service_irc  service_pop3  service_radius  service_smtp  \\\n",
      "1651016            0             0               0             0   \n",
      "584874             0             0               0             0   \n",
      "400727             0             0               0             0   \n",
      "673474             0             0               0             0   \n",
      "569660             0             0               0             0   \n",
      "\n",
      "         service_snmp  service_ssh  service_ssl  \n",
      "1651016             0            0            0  \n",
      "584874              0            0            0  \n",
      "400727              0            0            0  \n",
      "673474              0            0            0  \n",
      "569660              0            0            0  \n",
      "\n",
      "[5 rows x 179 columns]\n",
      "y_train Head: 1809470    0\n",
      "328557     0\n",
      "841376     0\n",
      "1958201    0\n",
      "2259848    0\n",
      "Name: Label, dtype: int64\n",
      "y_test Head: 1651016    0\n",
      "584874     0\n",
      "400727     0\n",
      "673474     0\n",
      "569660     0\n",
      "Name: Label, dtype: int64\n"
     ]
    }
   ],
   "source": [
    "print('X_train Head:',X_train.head())\n",
    "print('X_test Head:',X_test.head())\n",
    "print('y_train Head:',y_train.head())\n",
    "print('y_test Head:',y_test.head())"
   ]
  },
  {
   "cell_type": "code",
   "execution_count": 44,
   "id": "4d8ae47d-8e5a-479a-baf1-fb03dde8cc1c",
   "metadata": {},
   "outputs": [],
   "source": [
    "#Normalizando os dados com standard scaler\n",
    "scaler = StandardScaler()"
   ]
  },
  {
   "cell_type": "code",
   "execution_count": 45,
   "id": "202a3256-2ee9-4764-8a76-ffdb14b387b6",
   "metadata": {},
   "outputs": [],
   "source": [
    "# Fazer o fit dos dados usando a base de treino e depois transformar a base de teste e treino com eles\n",
    "std_fit_train = scaler.fit(\n",
    "    X_train[descr_cols]\n",
    ")"
   ]
  },
  {
   "cell_type": "code",
   "execution_count": 46,
   "id": "bd78761b-42ce-4d73-abdb-7fa41c7fd261",
   "metadata": {},
   "outputs": [
    {
     "name": "stdout",
     "output_type": "stream",
     "text": [
      "(635012, 180)\n",
      "        dur    sbytes    dbytes      sttl      dttl     sloss     dloss  \\\n",
      "0 -0.049711 -0.073193 -0.226294 -0.037321 -0.718477 -0.231972 -0.288696   \n",
      "1 -0.037628  0.014880  0.339294 -0.425923 -0.040719  0.082225  0.400033   \n",
      "2  0.044520  0.157806  3.175028 -0.425923 -0.040719  0.710620  3.190267   \n",
      "3 -0.048998 -0.037928 -0.131764 -0.425923 -0.040719  0.082225 -0.094439   \n",
      "4 -0.049627 -0.075310 -0.225189 -0.425923 -0.040719 -0.231972 -0.288696   \n",
      "\n",
      "      Spkts     Dpkts  ct_state_ttl  ...  service_ftp  service_ftp-data  \\\n",
      "0 -0.411627 -0.351764     -0.382388  ...            0                 0   \n",
      "1  0.745126  0.404887     -0.382388  ...            0                 0   \n",
      "2  2.559126  3.250554     -0.382388  ...            0                 0   \n",
      "3  0.009011 -0.055683     -0.382388  ...            0                 0   \n",
      "4 -0.411627 -0.335315     -0.382388  ...            0                 0   \n",
      "\n",
      "   service_http  service_irc  service_pop3  service_radius  service_smtp  \\\n",
      "0             0            0             0               0             0   \n",
      "1             0            0             0               0             0   \n",
      "2             0            0             0               0             0   \n",
      "3             0            0             0               0             0   \n",
      "4             0            0             0               0             0   \n",
      "\n",
      "   service_snmp  service_ssh  service_ssl  \n",
      "0             0            0            0  \n",
      "1             0            0            0  \n",
      "2             0            0            0  \n",
      "3             0            0            0  \n",
      "4             0            0            0  \n",
      "\n",
      "[5 rows x 180 columns]\n"
     ]
    }
   ],
   "source": [
    "# Normalizar os dados numéricos de teste e criar uma nova tabela concatenando os categoricos com one hot encoding e os dados normalziados\n",
    "X_test_std_descr = pd.DataFrame(\n",
    "    std_fit_train.transform(X_test[descr_cols]),\n",
    "    columns=X_test[descr_cols].columns\n",
    ")\n",
    "df_xtest_std = pd.concat([X_test_std_descr,X_test[ohe_columns].reset_index()],\n",
    "                         axis=1\n",
    "                        )\n",
    "print(df_xtest_std.shape)\n",
    "print(df_xtest_std.head());"
   ]
  },
  {
   "cell_type": "code",
   "execution_count": 47,
   "id": "af19eff9-99df-4fc9-a55a-784438fc0ff9",
   "metadata": {},
   "outputs": [
    {
     "data": {
      "text/plain": [
       "(635012, 164)"
      ]
     },
     "execution_count": 47,
     "metadata": {},
     "output_type": "execute_result"
    }
   ],
   "source": [
    "X_test[ohe_columns].shape"
   ]
  },
  {
   "cell_type": "code",
   "execution_count": 48,
   "id": "c4e5b0ac-49e3-4b16-81e8-ed55acc4123c",
   "metadata": {
    "scrolled": true
   },
   "outputs": [
    {
     "name": "stdout",
     "output_type": "stream",
     "text": [
      "(1905035, 180)\n",
      "        dur    sbytes    dbytes      sttl      dttl     sloss     dloss  \\\n",
      "0 -0.049631 -0.075310 -0.225189 -0.425923 -0.040719 -0.231972 -0.288696   \n",
      "1 -0.048260 -0.026735 -0.045325 -0.425923 -0.040719  0.082225  0.011519   \n",
      "2  0.150814  0.273969  6.523352 -0.425923 -0.040719 -0.142202  6.245396   \n",
      "3 -0.049711 -0.073193 -0.226294 -0.037321 -0.718477 -0.231972 -0.288696   \n",
      "4 -0.022282 -0.072189 -0.214456 -0.425923 -0.040719 -0.187087 -0.253377   \n",
      "\n",
      "      Spkts     Dpkts  ct_state_ttl  ...  service_ftp  service_ftp-data  \\\n",
      "0 -0.411627 -0.335315     -0.382388  ...            0                 0   \n",
      "1  0.166750  0.043010     -0.382388  ...            0                 0   \n",
      "2  4.399415  5.783692     -0.382388  ...            0                 0   \n",
      "3 -0.411627 -0.351764     -0.382388  ...            0                 0   \n",
      "4 -0.359047 -0.285969     -0.382388  ...            0                 1   \n",
      "\n",
      "   service_http  service_irc  service_pop3  service_radius  service_smtp  \\\n",
      "0             0            0             0               0             0   \n",
      "1             0            0             0               0             0   \n",
      "2             1            0             0               0             0   \n",
      "3             0            0             0               0             0   \n",
      "4             0            0             0               0             0   \n",
      "\n",
      "   service_snmp  service_ssh  service_ssl  \n",
      "0             0            0            0  \n",
      "1             0            0            0  \n",
      "2             0            0            0  \n",
      "3             0            0            0  \n",
      "4             0            0            0  \n",
      "\n",
      "[5 rows x 180 columns]\n"
     ]
    }
   ],
   "source": [
    "# Normalizar os dados numéricos de treino e criar uma nova tabela concatenando os categoricos com one hot encoding e os dados normalziados\n",
    "X_train_std_descr = pd.DataFrame(\n",
    "    std_fit_train.transform(X_train[descr_cols]),\n",
    "    columns=list(X_train[descr_cols].columns)\n",
    ")\n",
    "df_xtrain_std = pd.concat([X_train_std_descr,X_train[ohe_columns].reset_index()],axis=1)\n",
    "print(df_xtrain_std.shape)\n",
    "print(df_xtrain_std.head())"
   ]
  },
  {
   "cell_type": "markdown",
   "id": "bcc49905-cf5e-4664-a450-d9465b731461",
   "metadata": {},
   "source": [
    "**Rodar o modelo mais simples de regressão logística para ter uma base de resultados**"
   ]
  },
  {
   "cell_type": "code",
   "execution_count": 77,
   "id": "7b8dc798-d823-4d2f-a08e-e739da4f1a42",
   "metadata": {
    "editable": true,
    "slideshow": {
     "slide_type": ""
    },
    "tags": []
   },
   "outputs": [],
   "source": [
    "# Inicializa o construtor\n",
    "log_ref = LogisticRegression(random_state=19,\n",
    "                             max_iter=500\n",
    "                             #solver='saga'\n",
    "                            ).fit(df_xtrain_std,y_train)"
   ]
  },
  {
   "cell_type": "code",
   "execution_count": 78,
   "id": "ec0983e4-82f5-4eb9-bfa0-93bf5fee114c",
   "metadata": {},
   "outputs": [],
   "source": [
    "# Prediçao na base teste\n",
    "log_ref_predict = log_ref.predict(df_xtest_std)"
   ]
  },
  {
   "cell_type": "code",
   "execution_count": 79,
   "id": "3dba84b3-83d2-4bea-9bb9-55e6bbc02274",
   "metadata": {},
   "outputs": [
    {
     "data": {
      "text/plain": [
       "0.9827641052452553"
      ]
     },
     "execution_count": 79,
     "metadata": {},
     "output_type": "execute_result"
    }
   ],
   "source": [
    "# Cálculo do score\n",
    "log_ref.score(df_xtest_std,y_test)"
   ]
  },
  {
   "cell_type": "markdown",
   "id": "ed2e0264-bd0d-4c67-ab5c-ae41f98378a3",
   "metadata": {},
   "source": [
    "***Análise da Regressão Logística***"
   ]
  },
  {
   "cell_type": "code",
   "execution_count": 80,
   "id": "85189fd8-7e20-4f19-a53a-89c5c382bda4",
   "metadata": {},
   "outputs": [
    {
     "data": {
      "text/plain": [
       "array([[546160,   2414],\n",
       "       [  8531,  77907]])"
      ]
     },
     "execution_count": 80,
     "metadata": {},
     "output_type": "execute_result"
    }
   ],
   "source": [
    "cm = confusion_matrix(log_ref_predict,y_test)\n",
    "cm"
   ]
  },
  {
   "cell_type": "code",
   "execution_count": 81,
   "id": "dd57f7fc-e638-4eb4-a91e-0e8f0bba6df6",
   "metadata": {},
   "outputs": [
    {
     "data": {
      "image/png": "[encoded data removed]",
      "text/plain": [
       "<Figure size 640x480 with 2 Axes>"
      ]
     },
     "metadata": {},
     "output_type": "display_data"
    }
   ],
   "source": [
    "disp = ConfusionMatrixDisplay(confusion_matrix=cm\n",
    "                             )\n",
    "disp.plot(cmap=plt.cm.Blues)\n",
    "plt.title('Confusion Matrix')\n",
    "plt.show()"
   ]
  },
  {
   "cell_type": "code",
   "execution_count": 84,
   "id": "7bfe7614-bfb7-4cc9-9ca0-a07a7b2e06d9",
   "metadata": {},
   "outputs": [
    {
     "name": "stdout",
     "output_type": "stream",
     "text": [
      "              precision    recall  f1-score   support\n",
      "\n",
      "           0       0.98      1.00      0.99    548574\n",
      "           1       0.97      0.90      0.93     86438\n",
      "\n",
      "    accuracy                           0.98    635012\n",
      "   macro avg       0.98      0.95      0.96    635012\n",
      "weighted avg       0.98      0.98      0.98    635012\n",
      "\n"
     ]
    }
   ],
   "source": [
    "print(classification_report(log_ref_predict,y_test,\n",
    "                            zero_division=np.nan\n",
    "                           ))"
   ]
  },
  {
   "cell_type": "code",
   "execution_count": 86,
   "id": "d14fadf8-e035-43c1-a87d-413a670bad0f",
   "metadata": {},
   "outputs": [
    {
     "data": {
      "text/html": [
       "<div>\n",
       "<style scoped>\n",
       "    .dataframe tbody tr th:only-of-type {\n",
       "        vertical-align: middle;\n",
       "    }\n",
       "\n",
       "    .dataframe tbody tr th {\n",
       "        vertical-align: top;\n",
       "    }\n",
       "\n",
       "    .dataframe thead th {\n",
       "        text-align: right;\n",
       "    }\n",
       "</style>\n",
       "<table border=\"1\" class=\"dataframe\">\n",
       "  <thead>\n",
       "    <tr style=\"text-align: right;\">\n",
       "      <th></th>\n",
       "      <th>0</th>\n",
       "    </tr>\n",
       "  </thead>\n",
       "  <tbody>\n",
       "    <tr>\n",
       "      <th>sttl</th>\n",
       "      <td>1.703122</td>\n",
       "    </tr>\n",
       "    <tr>\n",
       "      <th>ct_state_ttl</th>\n",
       "      <td>1.423341</td>\n",
       "    </tr>\n",
       "    <tr>\n",
       "      <th>dttl</th>\n",
       "      <td>0.915083</td>\n",
       "    </tr>\n",
       "    <tr>\n",
       "      <th>ct_dst_sport_ltm</th>\n",
       "      <td>0.763180</td>\n",
       "    </tr>\n",
       "    <tr>\n",
       "      <th>sbytes</th>\n",
       "      <td>0.589353</td>\n",
       "    </tr>\n",
       "    <tr>\n",
       "      <th>sloss</th>\n",
       "      <td>0.490250</td>\n",
       "    </tr>\n",
       "    <tr>\n",
       "      <th>service_http</th>\n",
       "      <td>0.403626</td>\n",
       "    </tr>\n",
       "    <tr>\n",
       "      <th>state_INT</th>\n",
       "      <td>0.402999</td>\n",
       "    </tr>\n",
       "    <tr>\n",
       "      <th>ct_src_dport_ltm</th>\n",
       "      <td>0.264935</td>\n",
       "    </tr>\n",
       "    <tr>\n",
       "      <th>proto_unas</th>\n",
       "      <td>0.235150</td>\n",
       "    </tr>\n",
       "  </tbody>\n",
       "</table>\n",
       "</div>"
      ],
      "text/plain": [
       "                         0\n",
       "sttl              1.703122\n",
       "ct_state_ttl      1.423341\n",
       "dttl              0.915083\n",
       "ct_dst_sport_ltm  0.763180\n",
       "sbytes            0.589353\n",
       "sloss             0.490250\n",
       "service_http      0.403626\n",
       "state_INT         0.402999\n",
       "ct_src_dport_ltm  0.264935\n",
       "proto_unas        0.235150"
      ]
     },
     "metadata": {},
     "output_type": "display_data"
    },
    {
     "data": {
      "text/html": [
       "<div>\n",
       "<style scoped>\n",
       "    .dataframe tbody tr th:only-of-type {\n",
       "        vertical-align: middle;\n",
       "    }\n",
       "\n",
       "    .dataframe tbody tr th {\n",
       "        vertical-align: top;\n",
       "    }\n",
       "\n",
       "    .dataframe thead th {\n",
       "        text-align: right;\n",
       "    }\n",
       "</style>\n",
       "<table border=\"1\" class=\"dataframe\">\n",
       "  <thead>\n",
       "    <tr style=\"text-align: right;\">\n",
       "      <th></th>\n",
       "      <th>0</th>\n",
       "    </tr>\n",
       "  </thead>\n",
       "  <tbody>\n",
       "    <tr>\n",
       "      <th>proto_arp</th>\n",
       "      <td>-0.125078</td>\n",
       "    </tr>\n",
       "    <tr>\n",
       "      <th>state_REQ</th>\n",
       "      <td>-0.337024</td>\n",
       "    </tr>\n",
       "    <tr>\n",
       "      <th>service_dns</th>\n",
       "      <td>-0.343321</td>\n",
       "    </tr>\n",
       "    <tr>\n",
       "      <th>ct_srv_dst</th>\n",
       "      <td>-0.424629</td>\n",
       "    </tr>\n",
       "    <tr>\n",
       "      <th>ct_srv_src</th>\n",
       "      <td>-0.531625</td>\n",
       "    </tr>\n",
       "    <tr>\n",
       "      <th>proto_udp</th>\n",
       "      <td>-1.123777</td>\n",
       "    </tr>\n",
       "    <tr>\n",
       "      <th>state_CON</th>\n",
       "      <td>-1.402211</td>\n",
       "    </tr>\n",
       "    <tr>\n",
       "      <th>state_FIN</th>\n",
       "      <td>-1.536107</td>\n",
       "    </tr>\n",
       "    <tr>\n",
       "      <th>proto_tcp</th>\n",
       "      <td>-2.285552</td>\n",
       "    </tr>\n",
       "  </tbody>\n",
       "</table>\n",
       "</div>"
      ],
      "text/plain": [
       "                    0\n",
       "proto_arp   -0.125078\n",
       "state_REQ   -0.337024\n",
       "service_dns -0.343321\n",
       "ct_srv_dst  -0.424629\n",
       "ct_srv_src  -0.531625\n",
       "proto_udp   -1.123777\n",
       "state_CON   -1.402211\n",
       "state_FIN   -1.536107\n",
       "proto_tcp   -2.285552"
      ]
     },
     "metadata": {},
     "output_type": "display_data"
    }
   ],
   "source": [
    "# Avaliando as features mais importantes\n",
    "coef = pd.DataFrame(log_ref.coef_,columns=df_xtest_std.columns)\n",
    "coef = coef.T.sort_values(0,ascending=False)\n",
    "display(coef[0:10])\n",
    "display(coef[-10:-1])"
   ]
  },
  {
   "cell_type": "code",
   "execution_count": 263,
   "id": "53a87f55-cc57-4ef0-b6cd-3f29080dc856",
   "metadata": {},
   "outputs": [
    {
     "data": {
      "text/html": [
       "<div>\n",
       "<style scoped>\n",
       "    .dataframe tbody tr th:only-of-type {\n",
       "        vertical-align: middle;\n",
       "    }\n",
       "\n",
       "    .dataframe tbody tr th {\n",
       "        vertical-align: top;\n",
       "    }\n",
       "\n",
       "    .dataframe thead th {\n",
       "        text-align: right;\n",
       "    }\n",
       "</style>\n",
       "<table border=\"1\" class=\"dataframe\">\n",
       "  <thead>\n",
       "    <tr style=\"text-align: right;\">\n",
       "      <th></th>\n",
       "      <th>0</th>\n",
       "    </tr>\n",
       "  </thead>\n",
       "  <tbody>\n",
       "    <tr>\n",
       "      <th>dmeansz</th>\n",
       "      <td>-0.111949</td>\n",
       "    </tr>\n",
       "    <tr>\n",
       "      <th>smeansz</th>\n",
       "      <td>-0.114443</td>\n",
       "    </tr>\n",
       "    <tr>\n",
       "      <th>tcprtt</th>\n",
       "      <td>-0.131228</td>\n",
       "    </tr>\n",
       "    <tr>\n",
       "      <th>service_dns</th>\n",
       "      <td>-0.133871</td>\n",
       "    </tr>\n",
       "    <tr>\n",
       "      <th>Dload</th>\n",
       "      <td>-0.172728</td>\n",
       "    </tr>\n",
       "    <tr>\n",
       "      <th>synack</th>\n",
       "      <td>-0.173542</td>\n",
       "    </tr>\n",
       "    <tr>\n",
       "      <th>proto_udp</th>\n",
       "      <td>-0.244301</td>\n",
       "    </tr>\n",
       "    <tr>\n",
       "      <th>state_CON</th>\n",
       "      <td>-0.319980</td>\n",
       "    </tr>\n",
       "    <tr>\n",
       "      <th>service_-</th>\n",
       "      <td>-0.442546</td>\n",
       "    </tr>\n",
       "    <tr>\n",
       "      <th>state_FIN</th>\n",
       "      <td>-0.456561</td>\n",
       "    </tr>\n",
       "  </tbody>\n",
       "</table>\n",
       "</div>"
      ],
      "text/plain": [
       "                    0\n",
       "dmeansz     -0.111949\n",
       "smeansz     -0.114443\n",
       "tcprtt      -0.131228\n",
       "service_dns -0.133871\n",
       "Dload       -0.172728\n",
       "synack      -0.173542\n",
       "proto_udp   -0.244301\n",
       "state_CON   -0.319980\n",
       "service_-   -0.442546\n",
       "state_FIN   -0.456561"
      ]
     },
     "metadata": {},
     "output_type": "display_data"
    },
    {
     "data": {
      "text/plain": [
       "0   -0.049417\n",
       "Name: Sjit, dtype: float64"
      ]
     },
     "metadata": {},
     "output_type": "display_data"
    },
    {
     "data": {
      "text/plain": [
       "0   -0.063913\n",
       "Name: ackdat, dtype: float64"
      ]
     },
     "metadata": {},
     "output_type": "display_data"
    },
    {
     "data": {
      "text/plain": [
       "0   -0.173542\n",
       "Name: synack, dtype: float64"
      ]
     },
     "metadata": {},
     "output_type": "display_data"
    },
    {
     "data": {
      "text/plain": [
       "0   -0.131228\n",
       "Name: tcprtt, dtype: float64"
      ]
     },
     "metadata": {},
     "output_type": "display_data"
    },
    {
     "data": {
      "text/plain": [
       "0   -0.008265\n",
       "Name: Djit, dtype: float64"
      ]
     },
     "metadata": {},
     "output_type": "display_data"
    },
    {
     "data": {
      "text/plain": [
       "0   -0.096986\n",
       "Name: Sload, dtype: float64"
      ]
     },
     "metadata": {},
     "output_type": "display_data"
    }
   ],
   "source": [
    "#display(coef[0:10])\n",
    "#display(coef[10:20])\n",
    "display(coef[-11:-1])\n",
    "#display(coef[-21:-11])\n",
    "display(coef.loc['Sjit'])\n",
    "display(coef.loc['ackdat'])\n",
    "display(coef.loc['synack'])\n",
    "display(coef.loc['tcprtt'])\n",
    "display(coef.loc['Djit'])\n",
    "display(coef.loc['Sload'])"
   ]
  },
  {
   "cell_type": "markdown",
   "id": "8c00a6d5-9e43-4843-84f7-a29a9bd6117d",
   "metadata": {},
   "source": [
    "**Testando Gradient Boost**"
   ]
  },
  {
   "cell_type": "code",
   "execution_count": 70,
   "id": "968b6ed8-eca2-4f22-b46f-1f4a5dfe0e93",
   "metadata": {},
   "outputs": [],
   "source": [
    "grad_boost = GradientBoostingClassifier(n_estimators=100,\n",
    "                                        learning_rate=0.1,\n",
    "                                        max_depth=3,\n",
    "                                        random_state=0\n",
    "                                       ).fit(df_xtrain_std,y_train)"
   ]
  },
  {
   "cell_type": "code",
   "execution_count": 71,
   "id": "4eba2c5f-e8ff-41b5-af76-795188d45c3f",
   "metadata": {},
   "outputs": [],
   "source": [
    "grad_boost_predict = grad_boost.predict(df_xtest_std)"
   ]
  },
  {
   "cell_type": "code",
   "execution_count": 72,
   "id": "616f51a0-caa1-416e-bfbe-5900e5013a1f",
   "metadata": {},
   "outputs": [
    {
     "data": {
      "text/plain": [
       "0.991705668554295"
      ]
     },
     "execution_count": 72,
     "metadata": {},
     "output_type": "execute_result"
    }
   ],
   "source": [
    "grad_boost.score(df_xtest_std,y_test)"
   ]
  },
  {
   "cell_type": "code",
   "execution_count": 73,
   "id": "642d911d-8fbe-4bcb-824a-fe0280284ced",
   "metadata": {},
   "outputs": [],
   "source": [
    "cm = confusion_matrix(grad_boost_predict,y_test)"
   ]
  },
  {
   "cell_type": "code",
   "execution_count": 74,
   "id": "890e9546-c2a0-4181-ba62-b01c6e99982c",
   "metadata": {},
   "outputs": [
    {
     "data": {
      "image/png": "[encoded data removed]",
      "text/plain": [
       "<Figure size 640x480 with 2 Axes>"
      ]
     },
     "metadata": {},
     "output_type": "display_data"
    }
   ],
   "source": [
    "disp = ConfusionMatrixDisplay(confusion_matrix=cm\n",
    "                             )\n",
    "disp.plot(cmap=plt.cm.Reds)\n",
    "plt.title('Confusion Matrix')\n",
    "plt.show()"
   ]
  },
  {
   "cell_type": "code",
   "execution_count": 75,
   "id": "d74ff945-58c3-46a0-b84d-7c0c58b46da8",
   "metadata": {},
   "outputs": [
    {
     "name": "stdout",
     "output_type": "stream",
     "text": [
      "              precision    recall  f1-score   support\n",
      "\n",
      "           0       1.00      0.99      1.00    554691\n",
      "           1       0.96      0.97      0.97     80321\n",
      "\n",
      "    accuracy                           0.99    635012\n",
      "   macro avg       0.98      0.98      0.98    635012\n",
      "weighted avg       0.99      0.99      0.99    635012\n",
      "\n"
     ]
    }
   ],
   "source": [
    "print(classification_report(y_test,grad_boost_predict))"
   ]
  },
  {
   "cell_type": "code",
   "execution_count": 87,
   "id": "1c870f03-d1d9-4ab9-8400-27aa87134ad2",
   "metadata": {},
   "outputs": [
    {
     "data": {
      "text/html": [
       "<div>\n",
       "<style scoped>\n",
       "    .dataframe tbody tr th:only-of-type {\n",
       "        vertical-align: middle;\n",
       "    }\n",
       "\n",
       "    .dataframe tbody tr th {\n",
       "        vertical-align: top;\n",
       "    }\n",
       "\n",
       "    .dataframe thead th {\n",
       "        text-align: right;\n",
       "    }\n",
       "</style>\n",
       "<table border=\"1\" class=\"dataframe\">\n",
       "  <thead>\n",
       "    <tr style=\"text-align: right;\">\n",
       "      <th></th>\n",
       "      <th>0</th>\n",
       "    </tr>\n",
       "  </thead>\n",
       "  <tbody>\n",
       "    <tr>\n",
       "      <th>ct_state_ttl</th>\n",
       "      <td>0.734454</td>\n",
       "    </tr>\n",
       "    <tr>\n",
       "      <th>sttl</th>\n",
       "      <td>0.185170</td>\n",
       "    </tr>\n",
       "    <tr>\n",
       "      <th>sbytes</th>\n",
       "      <td>0.022398</td>\n",
       "    </tr>\n",
       "    <tr>\n",
       "      <th>ct_srv_dst</th>\n",
       "      <td>0.015360</td>\n",
       "    </tr>\n",
       "    <tr>\n",
       "      <th>proto_tcp</th>\n",
       "      <td>0.008895</td>\n",
       "    </tr>\n",
       "    <tr>\n",
       "      <th>ct_dst_sport_ltm</th>\n",
       "      <td>0.006256</td>\n",
       "    </tr>\n",
       "    <tr>\n",
       "      <th>service_-</th>\n",
       "      <td>0.005885</td>\n",
       "    </tr>\n",
       "    <tr>\n",
       "      <th>sloss</th>\n",
       "      <td>0.005211</td>\n",
       "    </tr>\n",
       "    <tr>\n",
       "      <th>dbytes</th>\n",
       "      <td>0.004546</td>\n",
       "    </tr>\n",
       "    <tr>\n",
       "      <th>ct_dst_src_ltm</th>\n",
       "      <td>0.002222</td>\n",
       "    </tr>\n",
       "  </tbody>\n",
       "</table>\n",
       "</div>"
      ],
      "text/plain": [
       "                         0\n",
       "ct_state_ttl      0.734454\n",
       "sttl              0.185170\n",
       "sbytes            0.022398\n",
       "ct_srv_dst        0.015360\n",
       "proto_tcp         0.008895\n",
       "ct_dst_sport_ltm  0.006256\n",
       "service_-         0.005885\n",
       "sloss             0.005211\n",
       "dbytes            0.004546\n",
       "ct_dst_src_ltm    0.002222"
      ]
     },
     "metadata": {},
     "output_type": "display_data"
    },
    {
     "data": {
      "text/html": [
       "<div>\n",
       "<style scoped>\n",
       "    .dataframe tbody tr th:only-of-type {\n",
       "        vertical-align: middle;\n",
       "    }\n",
       "\n",
       "    .dataframe tbody tr th {\n",
       "        vertical-align: top;\n",
       "    }\n",
       "\n",
       "    .dataframe thead th {\n",
       "        text-align: right;\n",
       "    }\n",
       "</style>\n",
       "<table border=\"1\" class=\"dataframe\">\n",
       "  <thead>\n",
       "    <tr style=\"text-align: right;\">\n",
       "      <th></th>\n",
       "      <th>0</th>\n",
       "    </tr>\n",
       "  </thead>\n",
       "  <tbody>\n",
       "    <tr>\n",
       "      <th>proto_iso-tp4</th>\n",
       "      <td>0.0</td>\n",
       "    </tr>\n",
       "    <tr>\n",
       "      <th>proto_l2tp</th>\n",
       "      <td>0.0</td>\n",
       "    </tr>\n",
       "    <tr>\n",
       "      <th>proto_micp</th>\n",
       "      <td>0.0</td>\n",
       "    </tr>\n",
       "    <tr>\n",
       "      <th>proto_larp</th>\n",
       "      <td>0.0</td>\n",
       "    </tr>\n",
       "    <tr>\n",
       "      <th>proto_leaf-1</th>\n",
       "      <td>0.0</td>\n",
       "    </tr>\n",
       "    <tr>\n",
       "      <th>proto_leaf-2</th>\n",
       "      <td>0.0</td>\n",
       "    </tr>\n",
       "    <tr>\n",
       "      <th>proto_merit-inp</th>\n",
       "      <td>0.0</td>\n",
       "    </tr>\n",
       "    <tr>\n",
       "      <th>proto_mfe-nsp</th>\n",
       "      <td>0.0</td>\n",
       "    </tr>\n",
       "    <tr>\n",
       "      <th>proto_mhrp</th>\n",
       "      <td>0.0</td>\n",
       "    </tr>\n",
       "  </tbody>\n",
       "</table>\n",
       "</div>"
      ],
      "text/plain": [
       "                   0\n",
       "proto_iso-tp4    0.0\n",
       "proto_l2tp       0.0\n",
       "proto_micp       0.0\n",
       "proto_larp       0.0\n",
       "proto_leaf-1     0.0\n",
       "proto_leaf-2     0.0\n",
       "proto_merit-inp  0.0\n",
       "proto_mfe-nsp    0.0\n",
       "proto_mhrp       0.0"
      ]
     },
     "metadata": {},
     "output_type": "display_data"
    }
   ],
   "source": [
    "feat_gb = pd.DataFrame(grad_boost.feature_importances_).T\n",
    "feat_gb.columns = df_xtest_std.columns\n",
    "feat_gb = feat_gb.T.sort_values(0,ascending=False)\n",
    "display(feat_gb[0:10])\n",
    "display(feat_gb[-10:-1])"
   ]
  },
  {
   "cell_type": "markdown",
   "id": "e43a3297-17a4-47c7-b14c-9832b48bb51c",
   "metadata": {},
   "source": [
    "**Testando SVC**"
   ]
  },
  {
   "cell_type": "code",
   "execution_count": 65,
   "id": "31f5218e-81f4-48b3-a448-9431d65a35b3",
   "metadata": {},
   "outputs": [],
   "source": [
    "#svc = SVC().fit(df_xtrain_std,y_train)"
   ]
  },
  {
   "cell_type": "code",
   "execution_count": 66,
   "id": "b6a32685-f0e8-4526-89a9-357c85f96263",
   "metadata": {},
   "outputs": [],
   "source": [
    "#svc_predict = svc.predict(df_xtest_std)"
   ]
  },
  {
   "cell_type": "code",
   "execution_count": 67,
   "id": "3707ff86-7563-4367-8c9a-a08a0bfacd29",
   "metadata": {},
   "outputs": [],
   "source": [
    "#svc.score(df_xtest_std,y_test)"
   ]
  },
  {
   "cell_type": "code",
   "execution_count": 68,
   "id": "a2fd0a84-6802-4c2d-941f-5fd3a3e02ac7",
   "metadata": {},
   "outputs": [],
   "source": [
    "#confusion_matrix(svc_predict,y_test)"
   ]
  },
  {
   "cell_type": "code",
   "execution_count": 69,
   "id": "603c2348-89c9-45ac-91d8-3d16277da114",
   "metadata": {},
   "outputs": [],
   "source": [
    "#print(classification_report(y_test,svc_predict))"
   ]
  },
  {
   "cell_type": "markdown",
   "id": "6909df00-0f5f-4a19-bdd9-d23fad9a62bc",
   "metadata": {},
   "source": [
    "**Redução de dimensionalidade**"
   ]
  },
  {
   "cell_type": "markdown",
   "id": "e5d1e619-75b1-4974-8b5e-87579a6126af",
   "metadata": {},
   "source": [
    "***Redução usando PCA***"
   ]
  },
  {
   "cell_type": "code",
   "execution_count": 88,
   "id": "2c90102e-6311-4697-b8e0-17a1a659aa56",
   "metadata": {},
   "outputs": [],
   "source": [
    "pca = PCA(n_components=2)\n",
    "fit_pca = pca.fit_transform(preproc_data)"
   ]
  },
  {
   "cell_type": "code",
   "execution_count": 89,
   "id": "187d3e12-bed6-481b-85ab-11b1c6d19ad7",
   "metadata": {},
   "outputs": [
    {
     "name": "stdout",
     "output_type": "stream",
     "text": [
      "                   PC1          PC2  Label\n",
      "0        -36336.166655 -3526.680404      0\n",
      "1        -36188.761410 -3133.374452      0\n",
      "2        -36321.906564 -3512.945541      0\n",
      "3        -36336.166673 -3526.680436      0\n",
      "4        -36321.906547 -3512.945513      0\n",
      "...                ...          ...    ...\n",
      "2540042  -34668.927227 -3369.921549      0\n",
      "2540043  -36148.115734 -3206.145495      0\n",
      "2540044  -34381.147538 -1893.034832      0\n",
      "2540045  129587.842807 -3272.871353      0\n",
      "2540046  -35815.954149 -3094.340234      1\n",
      "\n",
      "[2540047 rows x 3 columns]\n"
     ]
    }
   ],
   "source": [
    "df_pca = pd.DataFrame(fit_pca, columns=['PC1','PC2'])\n",
    "df_pca_labeled = pd.concat([df_pca,data['Label']],axis=1)\n",
    "print(df_pca_labeled)"
   ]
  },
  {
   "cell_type": "code",
   "execution_count": 90,
   "id": "4d4c6d7d-7414-4e19-8e4e-9c22d1c15a2c",
   "metadata": {},
   "outputs": [
    {
     "data": {
      "image/png": "[encoded data removed]",
      "text/plain": [
       "<Figure size 640x480 with 1 Axes>"
      ]
     },
     "metadata": {},
     "output_type": "display_data"
    }
   ],
   "source": [
    "sns.scatterplot(\n",
    "    data=df_pca_labeled,\n",
    "    x='PC1',\n",
    "    y='PC2',\n",
    "    hue='Label'\n",
    ");"
   ]
  },
  {
   "cell_type": "markdown",
   "id": "b519243f-3d19-4cf2-ba30-59fce86dd7b1",
   "metadata": {},
   "source": [
    "***Redução por tSNE***"
   ]
  },
  {
   "cell_type": "code",
   "execution_count": 92,
   "id": "8ea0570e-d604-4092-9e04-7a2ee15728a3",
   "metadata": {},
   "outputs": [
    {
     "ename": "KeyboardInterrupt",
     "evalue": "",
     "output_type": "error",
     "traceback": [
      "\u001b[31m---------------------------------------------------------------------------\u001b[39m",
      "\u001b[31mKeyboardInterrupt\u001b[39m                         Traceback (most recent call last)",
      "\u001b[36mCell\u001b[39m\u001b[36m \u001b[39m\u001b[32mIn[92]\u001b[39m\u001b[32m, line 5\u001b[39m\n\u001b[32m      1\u001b[39m fit_tsne = \u001b[43mTSNE\u001b[49m\u001b[43m(\u001b[49m\u001b[43mn_components\u001b[49m\u001b[43m=\u001b[49m\u001b[32;43m3\u001b[39;49m\u001b[43m,\u001b[49m\u001b[43m \u001b[49m\n\u001b[32m      2\u001b[39m \u001b[43m                  \u001b[49m\u001b[43mlearning_rate\u001b[49m\u001b[43m=\u001b[49m\u001b[33;43m'\u001b[39;49m\u001b[33;43mauto\u001b[39;49m\u001b[33;43m'\u001b[39;49m\u001b[43m,\u001b[49m\n\u001b[32m      3\u001b[39m \u001b[43m                  \u001b[49m\u001b[43minit\u001b[49m\u001b[43m=\u001b[49m\u001b[33;43m'\u001b[39;49m\u001b[33;43mrandom\u001b[39;49m\u001b[33;43m'\u001b[39;49m\u001b[43m,\u001b[49m\n\u001b[32m      4\u001b[39m \u001b[43m                  \u001b[49m\u001b[43mperplexity\u001b[49m\u001b[43m=\u001b[49m\u001b[32;43m3\u001b[39;49m\n\u001b[32m----> \u001b[39m\u001b[32m5\u001b[39m \u001b[43m                 \u001b[49m\u001b[43m)\u001b[49m\u001b[43m.\u001b[49m\u001b[43mfit_transform\u001b[49m\u001b[43m(\u001b[49m\u001b[43mpreproc_data\u001b[49m\u001b[43m)\u001b[49m\n",
      "\u001b[36mFile \u001b[39m\u001b[32m~/Documents/Pessoal/jupyterlab_env/venv/lib/python3.13/site-packages/sklearn/utils/_set_output.py:316\u001b[39m, in \u001b[36m_wrap_method_output.<locals>.wrapped\u001b[39m\u001b[34m(self, X, *args, **kwargs)\u001b[39m\n\u001b[32m    314\u001b[39m \u001b[38;5;129m@wraps\u001b[39m(f)\n\u001b[32m    315\u001b[39m \u001b[38;5;28;01mdef\u001b[39;00m\u001b[38;5;250m \u001b[39m\u001b[34mwrapped\u001b[39m(\u001b[38;5;28mself\u001b[39m, X, *args, **kwargs):\n\u001b[32m--> \u001b[39m\u001b[32m316\u001b[39m     data_to_wrap = \u001b[43mf\u001b[49m\u001b[43m(\u001b[49m\u001b[38;5;28;43mself\u001b[39;49m\u001b[43m,\u001b[49m\u001b[43m \u001b[49m\u001b[43mX\u001b[49m\u001b[43m,\u001b[49m\u001b[43m \u001b[49m\u001b[43m*\u001b[49m\u001b[43margs\u001b[49m\u001b[43m,\u001b[49m\u001b[43m \u001b[49m\u001b[43m*\u001b[49m\u001b[43m*\u001b[49m\u001b[43mkwargs\u001b[49m\u001b[43m)\u001b[49m\n\u001b[32m    317\u001b[39m     \u001b[38;5;28;01mif\u001b[39;00m \u001b[38;5;28misinstance\u001b[39m(data_to_wrap, \u001b[38;5;28mtuple\u001b[39m):\n\u001b[32m    318\u001b[39m         \u001b[38;5;66;03m# only wrap the first output for cross decomposition\u001b[39;00m\n\u001b[32m    319\u001b[39m         return_tuple = (\n\u001b[32m    320\u001b[39m             _wrap_data_with_container(method, data_to_wrap[\u001b[32m0\u001b[39m], X, \u001b[38;5;28mself\u001b[39m),\n\u001b[32m    321\u001b[39m             *data_to_wrap[\u001b[32m1\u001b[39m:],\n\u001b[32m    322\u001b[39m         )\n",
      "\u001b[36mFile \u001b[39m\u001b[32m~/Documents/Pessoal/jupyterlab_env/venv/lib/python3.13/site-packages/sklearn/base.py:1365\u001b[39m, in \u001b[36m_fit_context.<locals>.decorator.<locals>.wrapper\u001b[39m\u001b[34m(estimator, *args, **kwargs)\u001b[39m\n\u001b[32m   1358\u001b[39m     estimator._validate_params()\n\u001b[32m   1360\u001b[39m \u001b[38;5;28;01mwith\u001b[39;00m config_context(\n\u001b[32m   1361\u001b[39m     skip_parameter_validation=(\n\u001b[32m   1362\u001b[39m         prefer_skip_nested_validation \u001b[38;5;129;01mor\u001b[39;00m global_skip_validation\n\u001b[32m   1363\u001b[39m     )\n\u001b[32m   1364\u001b[39m ):\n\u001b[32m-> \u001b[39m\u001b[32m1365\u001b[39m     \u001b[38;5;28;01mreturn\u001b[39;00m \u001b[43mfit_method\u001b[49m\u001b[43m(\u001b[49m\u001b[43mestimator\u001b[49m\u001b[43m,\u001b[49m\u001b[43m \u001b[49m\u001b[43m*\u001b[49m\u001b[43margs\u001b[49m\u001b[43m,\u001b[49m\u001b[43m \u001b[49m\u001b[43m*\u001b[49m\u001b[43m*\u001b[49m\u001b[43mkwargs\u001b[49m\u001b[43m)\u001b[49m\n",
      "\u001b[36mFile \u001b[39m\u001b[32m~/Documents/Pessoal/jupyterlab_env/venv/lib/python3.13/site-packages/sklearn/manifold/_t_sne.py:1144\u001b[39m, in \u001b[36mTSNE.fit_transform\u001b[39m\u001b[34m(self, X, y)\u001b[39m\n\u001b[32m   1123\u001b[39m \u001b[38;5;250m\u001b[39m\u001b[33;03m\"\"\"Fit X into an embedded space and return that transformed output.\u001b[39;00m\n\u001b[32m   1124\u001b[39m \n\u001b[32m   1125\u001b[39m \u001b[33;03mParameters\u001b[39;00m\n\u001b[32m   (...)\u001b[39m\u001b[32m   1141\u001b[39m \u001b[33;03m    Embedding of the training data in low-dimensional space.\u001b[39;00m\n\u001b[32m   1142\u001b[39m \u001b[33;03m\"\"\"\u001b[39;00m\n\u001b[32m   1143\u001b[39m \u001b[38;5;28mself\u001b[39m._check_params_vs_input(X)\n\u001b[32m-> \u001b[39m\u001b[32m1144\u001b[39m embedding = \u001b[38;5;28;43mself\u001b[39;49m\u001b[43m.\u001b[49m\u001b[43m_fit\u001b[49m\u001b[43m(\u001b[49m\u001b[43mX\u001b[49m\u001b[43m)\u001b[49m\n\u001b[32m   1145\u001b[39m \u001b[38;5;28mself\u001b[39m.embedding_ = embedding\n\u001b[32m   1146\u001b[39m \u001b[38;5;28;01mreturn\u001b[39;00m \u001b[38;5;28mself\u001b[39m.embedding_\n",
      "\u001b[36mFile \u001b[39m\u001b[32m~/Documents/Pessoal/jupyterlab_env/venv/lib/python3.13/site-packages/sklearn/manifold/_t_sne.py:1034\u001b[39m, in \u001b[36mTSNE._fit\u001b[39m\u001b[34m(self, X, skip_num_points)\u001b[39m\n\u001b[32m   1028\u001b[39m \u001b[38;5;66;03m# Degrees of freedom of the Student's t-distribution. The suggestion\u001b[39;00m\n\u001b[32m   1029\u001b[39m \u001b[38;5;66;03m# degrees_of_freedom = n_components - 1 comes from\u001b[39;00m\n\u001b[32m   1030\u001b[39m \u001b[38;5;66;03m# \"Learning a Parametric Embedding by Preserving Local Structure\"\u001b[39;00m\n\u001b[32m   1031\u001b[39m \u001b[38;5;66;03m# Laurens van der Maaten, 2009.\u001b[39;00m\n\u001b[32m   1032\u001b[39m degrees_of_freedom = \u001b[38;5;28mmax\u001b[39m(\u001b[38;5;28mself\u001b[39m.n_components - \u001b[32m1\u001b[39m, \u001b[32m1\u001b[39m)\n\u001b[32m-> \u001b[39m\u001b[32m1034\u001b[39m \u001b[38;5;28;01mreturn\u001b[39;00m \u001b[38;5;28;43mself\u001b[39;49m\u001b[43m.\u001b[49m\u001b[43m_tsne\u001b[49m\u001b[43m(\u001b[49m\n\u001b[32m   1035\u001b[39m \u001b[43m    \u001b[49m\u001b[43mP\u001b[49m\u001b[43m,\u001b[49m\n\u001b[32m   1036\u001b[39m \u001b[43m    \u001b[49m\u001b[43mdegrees_of_freedom\u001b[49m\u001b[43m,\u001b[49m\n\u001b[32m   1037\u001b[39m \u001b[43m    \u001b[49m\u001b[43mn_samples\u001b[49m\u001b[43m,\u001b[49m\n\u001b[32m   1038\u001b[39m \u001b[43m    \u001b[49m\u001b[43mX_embedded\u001b[49m\u001b[43m=\u001b[49m\u001b[43mX_embedded\u001b[49m\u001b[43m,\u001b[49m\n\u001b[32m   1039\u001b[39m \u001b[43m    \u001b[49m\u001b[43mneighbors\u001b[49m\u001b[43m=\u001b[49m\u001b[43mneighbors_nn\u001b[49m\u001b[43m,\u001b[49m\n\u001b[32m   1040\u001b[39m \u001b[43m    \u001b[49m\u001b[43mskip_num_points\u001b[49m\u001b[43m=\u001b[49m\u001b[43mskip_num_points\u001b[49m\u001b[43m,\u001b[49m\n\u001b[32m   1041\u001b[39m \u001b[43m\u001b[49m\u001b[43m)\u001b[49m\n",
      "\u001b[36mFile \u001b[39m\u001b[32m~/Documents/Pessoal/jupyterlab_env/venv/lib/python3.13/site-packages/sklearn/manifold/_t_sne.py:1086\u001b[39m, in \u001b[36mTSNE._tsne\u001b[39m\u001b[34m(self, P, degrees_of_freedom, n_samples, X_embedded, neighbors, skip_num_points)\u001b[39m\n\u001b[32m   1083\u001b[39m \u001b[38;5;66;03m# Learning schedule (part 1): do 250 iteration with lower momentum but\u001b[39;00m\n\u001b[32m   1084\u001b[39m \u001b[38;5;66;03m# higher learning rate controlled via the early exaggeration parameter\u001b[39;00m\n\u001b[32m   1085\u001b[39m P *= \u001b[38;5;28mself\u001b[39m.early_exaggeration\n\u001b[32m-> \u001b[39m\u001b[32m1086\u001b[39m params, kl_divergence, it = \u001b[43m_gradient_descent\u001b[49m\u001b[43m(\u001b[49m\u001b[43mobj_func\u001b[49m\u001b[43m,\u001b[49m\u001b[43m \u001b[49m\u001b[43mparams\u001b[49m\u001b[43m,\u001b[49m\u001b[43m \u001b[49m\u001b[43m*\u001b[49m\u001b[43m*\u001b[49m\u001b[43mopt_args\u001b[49m\u001b[43m)\u001b[49m\n\u001b[32m   1087\u001b[39m \u001b[38;5;28;01mif\u001b[39;00m \u001b[38;5;28mself\u001b[39m.verbose:\n\u001b[32m   1088\u001b[39m     \u001b[38;5;28mprint\u001b[39m(\n\u001b[32m   1089\u001b[39m         \u001b[33m\"\u001b[39m\u001b[33m[t-SNE] KL divergence after \u001b[39m\u001b[38;5;132;01m%d\u001b[39;00m\u001b[33m iterations with early exaggeration: \u001b[39m\u001b[38;5;132;01m%f\u001b[39;00m\u001b[33m\"\u001b[39m\n\u001b[32m   1090\u001b[39m         % (it + \u001b[32m1\u001b[39m, kl_divergence)\n\u001b[32m   1091\u001b[39m     )\n",
      "\u001b[36mFile \u001b[39m\u001b[32m~/Documents/Pessoal/jupyterlab_env/venv/lib/python3.13/site-packages/sklearn/manifold/_t_sne.py:400\u001b[39m, in \u001b[36m_gradient_descent\u001b[39m\u001b[34m(objective, p0, it, max_iter, n_iter_check, n_iter_without_progress, momentum, learning_rate, min_gain, min_grad_norm, verbose, args, kwargs)\u001b[39m\n\u001b[32m    397\u001b[39m \u001b[38;5;66;03m# only compute the error when needed\u001b[39;00m\n\u001b[32m    398\u001b[39m kwargs[\u001b[33m\"\u001b[39m\u001b[33mcompute_error\u001b[39m\u001b[33m\"\u001b[39m] = check_convergence \u001b[38;5;129;01mor\u001b[39;00m i == max_iter - \u001b[32m1\u001b[39m\n\u001b[32m--> \u001b[39m\u001b[32m400\u001b[39m error, grad = \u001b[43mobjective\u001b[49m\u001b[43m(\u001b[49m\u001b[43mp\u001b[49m\u001b[43m,\u001b[49m\u001b[43m \u001b[49m\u001b[43m*\u001b[49m\u001b[43margs\u001b[49m\u001b[43m,\u001b[49m\u001b[43m \u001b[49m\u001b[43m*\u001b[49m\u001b[43m*\u001b[49m\u001b[43mkwargs\u001b[49m\u001b[43m)\u001b[49m\n\u001b[32m    402\u001b[39m inc = update * grad < \u001b[32m0.0\u001b[39m\n\u001b[32m    403\u001b[39m dec = np.invert(inc)\n",
      "\u001b[36mFile \u001b[39m\u001b[32m~/Documents/Pessoal/jupyterlab_env/venv/lib/python3.13/site-packages/sklearn/manifold/_t_sne.py:281\u001b[39m, in \u001b[36m_kl_divergence_bh\u001b[39m\u001b[34m(params, P, degrees_of_freedom, n_samples, n_components, angle, skip_num_points, verbose, compute_error, num_threads)\u001b[39m\n\u001b[32m    278\u001b[39m indptr = P.indptr.astype(np.int64, copy=\u001b[38;5;28;01mFalse\u001b[39;00m)\n\u001b[32m    280\u001b[39m grad = np.zeros(X_embedded.shape, dtype=np.float32)\n\u001b[32m--> \u001b[39m\u001b[32m281\u001b[39m error = \u001b[43m_barnes_hut_tsne\u001b[49m\u001b[43m.\u001b[49m\u001b[43mgradient\u001b[49m\u001b[43m(\u001b[49m\n\u001b[32m    282\u001b[39m \u001b[43m    \u001b[49m\u001b[43mval_P\u001b[49m\u001b[43m,\u001b[49m\n\u001b[32m    283\u001b[39m \u001b[43m    \u001b[49m\u001b[43mX_embedded\u001b[49m\u001b[43m,\u001b[49m\n\u001b[32m    284\u001b[39m \u001b[43m    \u001b[49m\u001b[43mneighbors\u001b[49m\u001b[43m,\u001b[49m\n\u001b[32m    285\u001b[39m \u001b[43m    \u001b[49m\u001b[43mindptr\u001b[49m\u001b[43m,\u001b[49m\n\u001b[32m    286\u001b[39m \u001b[43m    \u001b[49m\u001b[43mgrad\u001b[49m\u001b[43m,\u001b[49m\n\u001b[32m    287\u001b[39m \u001b[43m    \u001b[49m\u001b[43mangle\u001b[49m\u001b[43m,\u001b[49m\n\u001b[32m    288\u001b[39m \u001b[43m    \u001b[49m\u001b[43mn_components\u001b[49m\u001b[43m,\u001b[49m\n\u001b[32m    289\u001b[39m \u001b[43m    \u001b[49m\u001b[43mverbose\u001b[49m\u001b[43m,\u001b[49m\n\u001b[32m    290\u001b[39m \u001b[43m    \u001b[49m\u001b[43mdof\u001b[49m\u001b[43m=\u001b[49m\u001b[43mdegrees_of_freedom\u001b[49m\u001b[43m,\u001b[49m\n\u001b[32m    291\u001b[39m \u001b[43m    \u001b[49m\u001b[43mcompute_error\u001b[49m\u001b[43m=\u001b[49m\u001b[43mcompute_error\u001b[49m\u001b[43m,\u001b[49m\n\u001b[32m    292\u001b[39m \u001b[43m    \u001b[49m\u001b[43mnum_threads\u001b[49m\u001b[43m=\u001b[49m\u001b[43mnum_threads\u001b[49m\u001b[43m,\u001b[49m\n\u001b[32m    293\u001b[39m \u001b[43m\u001b[49m\u001b[43m)\u001b[49m\n\u001b[32m    294\u001b[39m c = \u001b[32m2.0\u001b[39m * (degrees_of_freedom + \u001b[32m1.0\u001b[39m) / degrees_of_freedom\n\u001b[32m    295\u001b[39m grad = grad.ravel()\n",
      "\u001b[31mKeyboardInterrupt\u001b[39m: "
     ]
    }
   ],
   "source": [
    "fit_tsne = TSNE().fit_transform(preproc_data)"
   ]
  },
  {
   "cell_type": "code",
   "execution_count": null,
   "id": "8f6dec43-2d17-48ea-8ed3-5195f92927c3",
   "metadata": {},
   "outputs": [],
   "source": [
    "df_fit_tsne = pd.DataFrame(fit_tsne, columns=['T1','T2'])\n",
    "df_fit_tsne_labeled = pd.concat([df_fit_tsne,data['Label']],axis=1)\n",
    "df_fit_tsne_labeled"
   ]
  },
  {
   "cell_type": "code",
   "execution_count": null,
   "id": "e605bcfb-f651-4442-a1c9-a4538465396f",
   "metadata": {},
   "outputs": [],
   "source": [
    "sns.scatterplot(\n",
    "    data=df_fit_tsne_labeled,\n",
    "    x='T1',\n",
    "    y='T2',\n",
    "    hue='Label'\n",
    ");"
   ]
  },
  {
   "cell_type": "code",
   "execution_count": 93,
   "id": "7836ce53-c7e9-47ac-8e95-1a3f82919afb",
   "metadata": {},
   "outputs": [],
   "source": [
    "pca_tsne = PCA(n_components=10)"
   ]
  },
  {
   "cell_type": "code",
   "execution_count": 94,
   "id": "29a8cb7f-12c7-4c4c-9cf4-570cfa8b5efd",
   "metadata": {},
   "outputs": [],
   "source": [
    "fit_pca_tsne = pca_tsne.fit_transform(preproc_data)"
   ]
  },
  {
   "cell_type": "code",
   "execution_count": 96,
   "id": "96ea3dca-a50d-47f1-bb4a-630eb764d1f5",
   "metadata": {},
   "outputs": [
    {
     "ename": "KeyboardInterrupt",
     "evalue": "",
     "output_type": "error",
     "traceback": [
      "\u001b[31m---------------------------------------------------------------------------\u001b[39m",
      "\u001b[31mKeyboardInterrupt\u001b[39m                         Traceback (most recent call last)",
      "\u001b[36mCell\u001b[39m\u001b[36m \u001b[39m\u001b[32mIn[96]\u001b[39m\u001b[32m, line 5\u001b[39m\n\u001b[32m      1\u001b[39m fit_tsne_pca = \u001b[43mTSNE\u001b[49m\u001b[43m(\u001b[49m\u001b[43mn_components\u001b[49m\u001b[43m=\u001b[49m\u001b[32;43m3\u001b[39;49m\u001b[43m,\u001b[49m\u001b[43m \u001b[49m\n\u001b[32m      2\u001b[39m \u001b[43m                  \u001b[49m\u001b[43mlearning_rate\u001b[49m\u001b[43m=\u001b[49m\u001b[33;43m'\u001b[39;49m\u001b[33;43mauto\u001b[39;49m\u001b[33;43m'\u001b[39;49m\u001b[43m,\u001b[49m\n\u001b[32m      3\u001b[39m \u001b[43m                  \u001b[49m\u001b[43minit\u001b[49m\u001b[43m=\u001b[49m\u001b[33;43m'\u001b[39;49m\u001b[33;43mrandom\u001b[39;49m\u001b[33;43m'\u001b[39;49m\u001b[43m,\u001b[49m\n\u001b[32m      4\u001b[39m \u001b[43m                  \u001b[49m\u001b[43mperplexity\u001b[49m\u001b[43m=\u001b[49m\u001b[32;43m50\u001b[39;49m\n\u001b[32m----> \u001b[39m\u001b[32m5\u001b[39m \u001b[43m                 \u001b[49m\u001b[43m)\u001b[49m\u001b[43m.\u001b[49m\u001b[43mfit_transform\u001b[49m\u001b[43m(\u001b[49m\u001b[43mfit_pca_tsne\u001b[49m\u001b[43m)\u001b[49m\n",
      "\u001b[36mFile \u001b[39m\u001b[32m~/Documents/Pessoal/jupyterlab_env/venv/lib/python3.13/site-packages/sklearn/utils/_set_output.py:316\u001b[39m, in \u001b[36m_wrap_method_output.<locals>.wrapped\u001b[39m\u001b[34m(self, X, *args, **kwargs)\u001b[39m\n\u001b[32m    314\u001b[39m \u001b[38;5;129m@wraps\u001b[39m(f)\n\u001b[32m    315\u001b[39m \u001b[38;5;28;01mdef\u001b[39;00m\u001b[38;5;250m \u001b[39m\u001b[34mwrapped\u001b[39m(\u001b[38;5;28mself\u001b[39m, X, *args, **kwargs):\n\u001b[32m--> \u001b[39m\u001b[32m316\u001b[39m     data_to_wrap = \u001b[43mf\u001b[49m\u001b[43m(\u001b[49m\u001b[38;5;28;43mself\u001b[39;49m\u001b[43m,\u001b[49m\u001b[43m \u001b[49m\u001b[43mX\u001b[49m\u001b[43m,\u001b[49m\u001b[43m \u001b[49m\u001b[43m*\u001b[49m\u001b[43margs\u001b[49m\u001b[43m,\u001b[49m\u001b[43m \u001b[49m\u001b[43m*\u001b[49m\u001b[43m*\u001b[49m\u001b[43mkwargs\u001b[49m\u001b[43m)\u001b[49m\n\u001b[32m    317\u001b[39m     \u001b[38;5;28;01mif\u001b[39;00m \u001b[38;5;28misinstance\u001b[39m(data_to_wrap, \u001b[38;5;28mtuple\u001b[39m):\n\u001b[32m    318\u001b[39m         \u001b[38;5;66;03m# only wrap the first output for cross decomposition\u001b[39;00m\n\u001b[32m    319\u001b[39m         return_tuple = (\n\u001b[32m    320\u001b[39m             _wrap_data_with_container(method, data_to_wrap[\u001b[32m0\u001b[39m], X, \u001b[38;5;28mself\u001b[39m),\n\u001b[32m    321\u001b[39m             *data_to_wrap[\u001b[32m1\u001b[39m:],\n\u001b[32m    322\u001b[39m         )\n",
      "\u001b[36mFile \u001b[39m\u001b[32m~/Documents/Pessoal/jupyterlab_env/venv/lib/python3.13/site-packages/sklearn/base.py:1365\u001b[39m, in \u001b[36m_fit_context.<locals>.decorator.<locals>.wrapper\u001b[39m\u001b[34m(estimator, *args, **kwargs)\u001b[39m\n\u001b[32m   1358\u001b[39m     estimator._validate_params()\n\u001b[32m   1360\u001b[39m \u001b[38;5;28;01mwith\u001b[39;00m config_context(\n\u001b[32m   1361\u001b[39m     skip_parameter_validation=(\n\u001b[32m   1362\u001b[39m         prefer_skip_nested_validation \u001b[38;5;129;01mor\u001b[39;00m global_skip_validation\n\u001b[32m   1363\u001b[39m     )\n\u001b[32m   1364\u001b[39m ):\n\u001b[32m-> \u001b[39m\u001b[32m1365\u001b[39m     \u001b[38;5;28;01mreturn\u001b[39;00m \u001b[43mfit_method\u001b[49m\u001b[43m(\u001b[49m\u001b[43mestimator\u001b[49m\u001b[43m,\u001b[49m\u001b[43m \u001b[49m\u001b[43m*\u001b[49m\u001b[43margs\u001b[49m\u001b[43m,\u001b[49m\u001b[43m \u001b[49m\u001b[43m*\u001b[49m\u001b[43m*\u001b[49m\u001b[43mkwargs\u001b[49m\u001b[43m)\u001b[49m\n",
      "\u001b[36mFile \u001b[39m\u001b[32m~/Documents/Pessoal/jupyterlab_env/venv/lib/python3.13/site-packages/sklearn/manifold/_t_sne.py:1144\u001b[39m, in \u001b[36mTSNE.fit_transform\u001b[39m\u001b[34m(self, X, y)\u001b[39m\n\u001b[32m   1123\u001b[39m \u001b[38;5;250m\u001b[39m\u001b[33;03m\"\"\"Fit X into an embedded space and return that transformed output.\u001b[39;00m\n\u001b[32m   1124\u001b[39m \n\u001b[32m   1125\u001b[39m \u001b[33;03mParameters\u001b[39;00m\n\u001b[32m   (...)\u001b[39m\u001b[32m   1141\u001b[39m \u001b[33;03m    Embedding of the training data in low-dimensional space.\u001b[39;00m\n\u001b[32m   1142\u001b[39m \u001b[33;03m\"\"\"\u001b[39;00m\n\u001b[32m   1143\u001b[39m \u001b[38;5;28mself\u001b[39m._check_params_vs_input(X)\n\u001b[32m-> \u001b[39m\u001b[32m1144\u001b[39m embedding = \u001b[38;5;28;43mself\u001b[39;49m\u001b[43m.\u001b[49m\u001b[43m_fit\u001b[49m\u001b[43m(\u001b[49m\u001b[43mX\u001b[49m\u001b[43m)\u001b[49m\n\u001b[32m   1145\u001b[39m \u001b[38;5;28mself\u001b[39m.embedding_ = embedding\n\u001b[32m   1146\u001b[39m \u001b[38;5;28;01mreturn\u001b[39;00m \u001b[38;5;28mself\u001b[39m.embedding_\n",
      "\u001b[36mFile \u001b[39m\u001b[32m~/Documents/Pessoal/jupyterlab_env/venv/lib/python3.13/site-packages/sklearn/manifold/_t_sne.py:1034\u001b[39m, in \u001b[36mTSNE._fit\u001b[39m\u001b[34m(self, X, skip_num_points)\u001b[39m\n\u001b[32m   1028\u001b[39m \u001b[38;5;66;03m# Degrees of freedom of the Student's t-distribution. The suggestion\u001b[39;00m\n\u001b[32m   1029\u001b[39m \u001b[38;5;66;03m# degrees_of_freedom = n_components - 1 comes from\u001b[39;00m\n\u001b[32m   1030\u001b[39m \u001b[38;5;66;03m# \"Learning a Parametric Embedding by Preserving Local Structure\"\u001b[39;00m\n\u001b[32m   1031\u001b[39m \u001b[38;5;66;03m# Laurens van der Maaten, 2009.\u001b[39;00m\n\u001b[32m   1032\u001b[39m degrees_of_freedom = \u001b[38;5;28mmax\u001b[39m(\u001b[38;5;28mself\u001b[39m.n_components - \u001b[32m1\u001b[39m, \u001b[32m1\u001b[39m)\n\u001b[32m-> \u001b[39m\u001b[32m1034\u001b[39m \u001b[38;5;28;01mreturn\u001b[39;00m \u001b[38;5;28;43mself\u001b[39;49m\u001b[43m.\u001b[49m\u001b[43m_tsne\u001b[49m\u001b[43m(\u001b[49m\n\u001b[32m   1035\u001b[39m \u001b[43m    \u001b[49m\u001b[43mP\u001b[49m\u001b[43m,\u001b[49m\n\u001b[32m   1036\u001b[39m \u001b[43m    \u001b[49m\u001b[43mdegrees_of_freedom\u001b[49m\u001b[43m,\u001b[49m\n\u001b[32m   1037\u001b[39m \u001b[43m    \u001b[49m\u001b[43mn_samples\u001b[49m\u001b[43m,\u001b[49m\n\u001b[32m   1038\u001b[39m \u001b[43m    \u001b[49m\u001b[43mX_embedded\u001b[49m\u001b[43m=\u001b[49m\u001b[43mX_embedded\u001b[49m\u001b[43m,\u001b[49m\n\u001b[32m   1039\u001b[39m \u001b[43m    \u001b[49m\u001b[43mneighbors\u001b[49m\u001b[43m=\u001b[49m\u001b[43mneighbors_nn\u001b[49m\u001b[43m,\u001b[49m\n\u001b[32m   1040\u001b[39m \u001b[43m    \u001b[49m\u001b[43mskip_num_points\u001b[49m\u001b[43m=\u001b[49m\u001b[43mskip_num_points\u001b[49m\u001b[43m,\u001b[49m\n\u001b[32m   1041\u001b[39m \u001b[43m\u001b[49m\u001b[43m)\u001b[49m\n",
      "\u001b[36mFile \u001b[39m\u001b[32m~/Documents/Pessoal/jupyterlab_env/venv/lib/python3.13/site-packages/sklearn/manifold/_t_sne.py:1086\u001b[39m, in \u001b[36mTSNE._tsne\u001b[39m\u001b[34m(self, P, degrees_of_freedom, n_samples, X_embedded, neighbors, skip_num_points)\u001b[39m\n\u001b[32m   1083\u001b[39m \u001b[38;5;66;03m# Learning schedule (part 1): do 250 iteration with lower momentum but\u001b[39;00m\n\u001b[32m   1084\u001b[39m \u001b[38;5;66;03m# higher learning rate controlled via the early exaggeration parameter\u001b[39;00m\n\u001b[32m   1085\u001b[39m P *= \u001b[38;5;28mself\u001b[39m.early_exaggeration\n\u001b[32m-> \u001b[39m\u001b[32m1086\u001b[39m params, kl_divergence, it = \u001b[43m_gradient_descent\u001b[49m\u001b[43m(\u001b[49m\u001b[43mobj_func\u001b[49m\u001b[43m,\u001b[49m\u001b[43m \u001b[49m\u001b[43mparams\u001b[49m\u001b[43m,\u001b[49m\u001b[43m \u001b[49m\u001b[43m*\u001b[49m\u001b[43m*\u001b[49m\u001b[43mopt_args\u001b[49m\u001b[43m)\u001b[49m\n\u001b[32m   1087\u001b[39m \u001b[38;5;28;01mif\u001b[39;00m \u001b[38;5;28mself\u001b[39m.verbose:\n\u001b[32m   1088\u001b[39m     \u001b[38;5;28mprint\u001b[39m(\n\u001b[32m   1089\u001b[39m         \u001b[33m\"\u001b[39m\u001b[33m[t-SNE] KL divergence after \u001b[39m\u001b[38;5;132;01m%d\u001b[39;00m\u001b[33m iterations with early exaggeration: \u001b[39m\u001b[38;5;132;01m%f\u001b[39;00m\u001b[33m\"\u001b[39m\n\u001b[32m   1090\u001b[39m         % (it + \u001b[32m1\u001b[39m, kl_divergence)\n\u001b[32m   1091\u001b[39m     )\n",
      "\u001b[36mFile \u001b[39m\u001b[32m~/Documents/Pessoal/jupyterlab_env/venv/lib/python3.13/site-packages/sklearn/manifold/_t_sne.py:400\u001b[39m, in \u001b[36m_gradient_descent\u001b[39m\u001b[34m(objective, p0, it, max_iter, n_iter_check, n_iter_without_progress, momentum, learning_rate, min_gain, min_grad_norm, verbose, args, kwargs)\u001b[39m\n\u001b[32m    397\u001b[39m \u001b[38;5;66;03m# only compute the error when needed\u001b[39;00m\n\u001b[32m    398\u001b[39m kwargs[\u001b[33m\"\u001b[39m\u001b[33mcompute_error\u001b[39m\u001b[33m\"\u001b[39m] = check_convergence \u001b[38;5;129;01mor\u001b[39;00m i == max_iter - \u001b[32m1\u001b[39m\n\u001b[32m--> \u001b[39m\u001b[32m400\u001b[39m error, grad = \u001b[43mobjective\u001b[49m\u001b[43m(\u001b[49m\u001b[43mp\u001b[49m\u001b[43m,\u001b[49m\u001b[43m \u001b[49m\u001b[43m*\u001b[49m\u001b[43margs\u001b[49m\u001b[43m,\u001b[49m\u001b[43m \u001b[49m\u001b[43m*\u001b[49m\u001b[43m*\u001b[49m\u001b[43mkwargs\u001b[49m\u001b[43m)\u001b[49m\n\u001b[32m    402\u001b[39m inc = update * grad < \u001b[32m0.0\u001b[39m\n\u001b[32m    403\u001b[39m dec = np.invert(inc)\n",
      "\u001b[36mFile \u001b[39m\u001b[32m~/Documents/Pessoal/jupyterlab_env/venv/lib/python3.13/site-packages/sklearn/manifold/_t_sne.py:281\u001b[39m, in \u001b[36m_kl_divergence_bh\u001b[39m\u001b[34m(params, P, degrees_of_freedom, n_samples, n_components, angle, skip_num_points, verbose, compute_error, num_threads)\u001b[39m\n\u001b[32m    278\u001b[39m indptr = P.indptr.astype(np.int64, copy=\u001b[38;5;28;01mFalse\u001b[39;00m)\n\u001b[32m    280\u001b[39m grad = np.zeros(X_embedded.shape, dtype=np.float32)\n\u001b[32m--> \u001b[39m\u001b[32m281\u001b[39m error = \u001b[43m_barnes_hut_tsne\u001b[49m\u001b[43m.\u001b[49m\u001b[43mgradient\u001b[49m\u001b[43m(\u001b[49m\n\u001b[32m    282\u001b[39m \u001b[43m    \u001b[49m\u001b[43mval_P\u001b[49m\u001b[43m,\u001b[49m\n\u001b[32m    283\u001b[39m \u001b[43m    \u001b[49m\u001b[43mX_embedded\u001b[49m\u001b[43m,\u001b[49m\n\u001b[32m    284\u001b[39m \u001b[43m    \u001b[49m\u001b[43mneighbors\u001b[49m\u001b[43m,\u001b[49m\n\u001b[32m    285\u001b[39m \u001b[43m    \u001b[49m\u001b[43mindptr\u001b[49m\u001b[43m,\u001b[49m\n\u001b[32m    286\u001b[39m \u001b[43m    \u001b[49m\u001b[43mgrad\u001b[49m\u001b[43m,\u001b[49m\n\u001b[32m    287\u001b[39m \u001b[43m    \u001b[49m\u001b[43mangle\u001b[49m\u001b[43m,\u001b[49m\n\u001b[32m    288\u001b[39m \u001b[43m    \u001b[49m\u001b[43mn_components\u001b[49m\u001b[43m,\u001b[49m\n\u001b[32m    289\u001b[39m \u001b[43m    \u001b[49m\u001b[43mverbose\u001b[49m\u001b[43m,\u001b[49m\n\u001b[32m    290\u001b[39m \u001b[43m    \u001b[49m\u001b[43mdof\u001b[49m\u001b[43m=\u001b[49m\u001b[43mdegrees_of_freedom\u001b[49m\u001b[43m,\u001b[49m\n\u001b[32m    291\u001b[39m \u001b[43m    \u001b[49m\u001b[43mcompute_error\u001b[49m\u001b[43m=\u001b[49m\u001b[43mcompute_error\u001b[49m\u001b[43m,\u001b[49m\n\u001b[32m    292\u001b[39m \u001b[43m    \u001b[49m\u001b[43mnum_threads\u001b[49m\u001b[43m=\u001b[49m\u001b[43mnum_threads\u001b[49m\u001b[43m,\u001b[49m\n\u001b[32m    293\u001b[39m \u001b[43m\u001b[49m\u001b[43m)\u001b[49m\n\u001b[32m    294\u001b[39m c = \u001b[32m2.0\u001b[39m * (degrees_of_freedom + \u001b[32m1.0\u001b[39m) / degrees_of_freedom\n\u001b[32m    295\u001b[39m grad = grad.ravel()\n",
      "\u001b[31mKeyboardInterrupt\u001b[39m: "
     ]
    }
   ],
   "source": [
    "fit_tsne_pca = TSNE(n_components=3, \n",
    "                  learning_rate='auto',\n",
    "                  init='random',\n",
    "                  perplexity=50\n",
    "                 ).fit_transform(fit_pca_tsne)"
   ]
  },
  {
   "cell_type": "code",
   "execution_count": null,
   "id": "6907b4b8-3c4d-4614-b297-dc8e9aa7b8d7",
   "metadata": {},
   "outputs": [],
   "source": [
    "df_fit_tsne_pca = pd.DataFrame(fit_tsne_pca)\n",
    "df_fit_tsne_labeled_pca = pd.concat([fit_tsne_pca,data['Label']],axis=1)\n",
    "df_fit_tsne_labeled_pca"
   ]
  },
  {
   "cell_type": "code",
   "execution_count": null,
   "id": "3eaa6768-9f6b-4e2f-b21b-601ff8386754",
   "metadata": {},
   "outputs": [],
   "source": []
  }
 ],
 "metadata": {
  "kernelspec": {
   "display_name": "Python 3 (ipykernel)",
   "language": "python",
   "name": "python3"
  },
  "language_info": {
   "codemirror_mode": {
    "name": "ipython",
    "version": 3
   },
   "file_extension": ".py",
   "mimetype": "text/x-python",
   "name": "python",
   "nbconvert_exporter": "python",
   "pygments_lexer": "ipython3",
   "version": "3.13.5"
  }
 },
 "nbformat": 4,
 "nbformat_minor": 5
}

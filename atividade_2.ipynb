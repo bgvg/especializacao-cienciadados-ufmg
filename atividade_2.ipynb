{
 "cells": [
  {
   "cell_type": "markdown",
   "id": "5de66c0f-2c0b-46d6-a45a-de61c5e6d849",
   "metadata": {},
   "source": [
    "Atividade 2 TÓPICOS COMPUTACIONAIS EM CIÊNCIA DE DADOS - Ciências da Computação\n",
    "Bernardo Gontijo Vaz Guimarães\n",
    "Dados escolhidos UNSW_NB15"
   ]
  },
  {
   "cell_type": "code",
   "execution_count": 1,
   "id": "271ce6ff-3b6e-4daf-962c-31e998d580c7",
   "metadata": {},
   "outputs": [],
   "source": [
    "# Importando as bibliotecas a serem utilizadas\n",
    "import pandas as pd\n",
    "import numpy as np\n",
    "import seaborn as sns\n",
    "\n",
    "#Análise de correlação entre cat\n",
    "from scipy.stats import chi2_contingency\n",
    "\n",
    "# Preproc, normalização\n",
    "from sklearn.preprocessing import StandardScaler\n",
    "\n",
    "#Dividir dataset entre teste e reino\n",
    "from sklearn.model_selection import train_test_split\n",
    "\n",
    "#Modelos\n",
    "from sklearn.linear_model import LogisticRegression\n",
    "from sklearn.ensemble import GradientBoostingClassifier\n",
    "from sklearn.svm import SVC\n",
    "\n",
    "# Avaliação dos modelos\n",
    "from sklearn.metrics import confusion_matrix\n",
    "from sklearn.metrics import classification_report\n",
    "\n",
    "#Redução de dimensionalidade\n",
    "from sklearn.decomposition import PCA\n",
    "from sklearn.manifold import TSNE"
   ]
  },
  {
   "cell_type": "markdown",
   "id": "108b4933-90b8-4a2c-83c5-41f726ecd8ed",
   "metadata": {},
   "source": [
    "Carregando os dados a serem utilizados"
   ]
  },
  {
   "cell_type": "code",
   "execution_count": 2,
   "id": "2b9d1ba3-f183-4f1a-af2c-0b06a9c3d352",
   "metadata": {},
   "outputs": [],
   "source": [
    "# Carregando a lista de Features\n",
    "features = pd.read_csv('csv_files/NUSW-NB15_features.csv',\n",
    "                       encoding_errors='ignore',\n",
    "                       index_col='No.'\n",
    "                      )"
   ]
  },
  {
   "cell_type": "code",
   "execution_count": 3,
   "id": "b4e4f088-7340-455f-bd70-f9c551724e11",
   "metadata": {
    "scrolled": true
   },
   "outputs": [],
   "source": [
    "# Informações das colunas do Dataset\n",
    "#print(features)"
   ]
  },
  {
   "cell_type": "code",
   "execution_count": 4,
   "id": "2ae9987b-603f-4847-9a38-35a337e70579",
   "metadata": {
    "scrolled": true
   },
   "outputs": [
    {
     "data": {
      "text/plain": [
       "['srcip',\n",
       " 'sport',\n",
       " 'dstip',\n",
       " 'dsport',\n",
       " 'proto',\n",
       " 'state',\n",
       " 'dur',\n",
       " 'sbytes',\n",
       " 'dbytes',\n",
       " 'sttl',\n",
       " 'dttl',\n",
       " 'sloss',\n",
       " 'dloss',\n",
       " 'service',\n",
       " 'Sload',\n",
       " 'Dload',\n",
       " 'Spkts',\n",
       " 'Dpkts',\n",
       " 'swin',\n",
       " 'dwin',\n",
       " 'stcpb',\n",
       " 'dtcpb',\n",
       " 'smeansz',\n",
       " 'dmeansz',\n",
       " 'trans_depth',\n",
       " 'res_bdy_len',\n",
       " 'Sjit',\n",
       " 'Djit',\n",
       " 'Stime',\n",
       " 'Ltime',\n",
       " 'Sintpkt',\n",
       " 'Dintpkt',\n",
       " 'tcprtt',\n",
       " 'synack',\n",
       " 'ackdat',\n",
       " 'is_sm_ips_ports',\n",
       " 'ct_state_ttl',\n",
       " 'ct_flw_http_mthd',\n",
       " 'is_ftp_login',\n",
       " 'ct_ftp_cmd',\n",
       " 'ct_srv_src',\n",
       " 'ct_srv_dst',\n",
       " 'ct_dst_ltm',\n",
       " 'ct_src_ ltm',\n",
       " 'ct_src_dport_ltm',\n",
       " 'ct_dst_sport_ltm',\n",
       " 'ct_dst_src_ltm',\n",
       " 'attack_cat',\n",
       " 'Label']"
      ]
     },
     "execution_count": 4,
     "metadata": {},
     "output_type": "execute_result"
    }
   ],
   "source": [
    "# Lista para ser usada como header dos dados\n",
    "header = list(features['Name'])\n",
    "header"
   ]
  },
  {
   "cell_type": "code",
   "execution_count": 5,
   "id": "1c20d4f2-a666-4459-94ff-901e9bb34802",
   "metadata": {},
   "outputs": [],
   "source": [
    "# Selecionando colunas a serem usadas\n",
    "columns = [\n",
    "     'proto',\n",
    "     'state',\n",
    "     'dur',\n",
    "     'sbytes',\n",
    "     'dbytes',\n",
    "     'sttl',\n",
    "     'dttl',\n",
    "     'sloss',\n",
    "     'dloss',\n",
    "     'service',\n",
    "     'Sload',\n",
    "     'Dload',\n",
    "     'Spkts',\n",
    "     'Dpkts',\n",
    "     'smeansz',\n",
    "     'dmeansz',\n",
    "     'Sjit',\n",
    "     'Djit',\n",
    "     'tcprtt',\n",
    "     'synack',\n",
    "     'ackdat',\n",
    "     'ct_state_ttl',\n",
    "     'ct_srv_src',\n",
    "     'ct_srv_dst',\n",
    "     'ct_src_dport_ltm',\n",
    "     'ct_dst_sport_ltm',\n",
    "     'ct_dst_src_ltm',\n",
    "     'attack_cat',\n",
    "     'Label'\n",
    "    ]"
   ]
  },
  {
   "cell_type": "markdown",
   "id": "9ed20f87-ffad-418b-ac9f-ada52c53cb49",
   "metadata": {},
   "source": [
    "**Colunas não usadas:** <br>\n",
    "srcip e dstip -> outros atributos já trabalham as relações entre a origem e o destino <br>\n",
    "stime e ltime -> colunas dur já trabalha o tratamento de tempo necessário <br>\n",
    "ct_flw_http_mthd -> mais de 50% dos valores faltantes <br>\n",
    "dsport -> outros atributos já trabalham as relações entre a origem e o destino <br>\n",
    "Atributos abaixo foram retirados por conta de baixa correlação com labels <br>\n",
    "swin e dwin <br>\n",
    "stcpb e dtcpb <br>\n",
    "is_sm_ips_ports <br>\n",
    "trans_depth <br>\n",
    "res_bdy_len <br>\n",
    "ct_ftp_cmd <br>\n",
    "is_ftp_login <br>\n",
    "ct_dst_ltm <br>\n",
    "ct_src_ ltm <br>"
   ]
  },
  {
   "cell_type": "code",
   "execution_count": 6,
   "id": "0b754ff2-274b-4533-bcf5-ce69e6af7a81",
   "metadata": {},
   "outputs": [],
   "source": [
    "# Conversores para tratar os dados no carregamento\n",
    "converter = {\n",
    "    'is_ftp_login': lambda x: np.int64(1) if x=='1' else np.int64(0),\n",
    "    'is_sm_ips_ports': lambda x: np.int64(1) if x=='1' else np.int64(0),\n",
    "    'ct_ftp_cmd': lambda x: np.int64(x) if x != ' ' else np.int64(0)\n",
    "}"
   ]
  },
  {
   "cell_type": "code",
   "execution_count": 7,
   "id": "b08ab116-fc27-44a3-abbe-0048c353b6c5",
   "metadata": {},
   "outputs": [],
   "source": [
    "# Definição dos tipos das colunas no carregamento\n",
    "dtype = {\n",
    "    'attack_cat': np.str_\n",
    "}"
   ]
  },
  {
   "cell_type": "markdown",
   "id": "621e5bbe-964e-47ea-b047-8df329082e65",
   "metadata": {},
   "source": [
    "Carregando os arquivos em 4 processos"
   ]
  },
  {
   "cell_type": "code",
   "execution_count": 8,
   "id": "3d99341a-efcb-430e-98c7-278ec5e5679c",
   "metadata": {},
   "outputs": [],
   "source": [
    "data1 = pd.read_csv('csv_files/data/UNSW-NB15_1.csv',names=header, usecols=columns, dtype=dtype, converters = converter)"
   ]
  },
  {
   "cell_type": "code",
   "execution_count": 9,
   "id": "8da31f23-a594-4383-a5ca-2129d2c2be5f",
   "metadata": {},
   "outputs": [],
   "source": [
    "data2 = pd.read_csv('csv_files/data/UNSW-NB15_2.csv',names=header, usecols=columns, dtype=dtype, converters = converter)"
   ]
  },
  {
   "cell_type": "code",
   "execution_count": 10,
   "id": "e1c94466-f3cc-4d5e-95f0-5cc50caa54aa",
   "metadata": {},
   "outputs": [],
   "source": [
    "data3 = pd.read_csv('csv_files/data/UNSW-NB15_3.csv',names=header, usecols=columns, dtype=dtype, converters = converter)"
   ]
  },
  {
   "cell_type": "code",
   "execution_count": 11,
   "id": "182edbd3-c0d3-486f-a30c-72cbef85e781",
   "metadata": {},
   "outputs": [],
   "source": [
    "data4 = pd.read_csv('csv_files/data/UNSW-NB15_4.csv',names=header, usecols=columns, dtype=dtype, converters = converter)"
   ]
  },
  {
   "cell_type": "markdown",
   "id": "35971e52-f9b7-4a61-a81b-6c0dce8811ab",
   "metadata": {},
   "source": [
    "Concatenando os arquivos"
   ]
  },
  {
   "cell_type": "code",
   "execution_count": 12,
   "id": "14d0718b-6103-4b53-911a-c524f85c4a22",
   "metadata": {},
   "outputs": [
    {
     "data": {
      "text/plain": [
       "(2540047, 29)"
      ]
     },
     "execution_count": 12,
     "metadata": {},
     "output_type": "execute_result"
    }
   ],
   "source": [
    "data = pd.concat([data1,data2,data3,data4],ignore_index=True)\n",
    "data.head()\n",
    "data.shape"
   ]
  },
  {
   "cell_type": "code",
   "execution_count": 13,
   "id": "970d176b-6c3c-484b-b100-1dfdd8b03a59",
   "metadata": {
    "scrolled": true
   },
   "outputs": [
    {
     "name": "stdout",
     "output_type": "stream",
     "text": [
      "<class 'pandas.core.frame.DataFrame'>\n",
      "RangeIndex: 2540047 entries, 0 to 2540046\n",
      "Data columns (total 29 columns):\n",
      " #   Column            Dtype  \n",
      "---  ------            -----  \n",
      " 0   proto             object \n",
      " 1   state             object \n",
      " 2   dur               float64\n",
      " 3   sbytes            int64  \n",
      " 4   dbytes            int64  \n",
      " 5   sttl              int64  \n",
      " 6   dttl              int64  \n",
      " 7   sloss             int64  \n",
      " 8   dloss             int64  \n",
      " 9   service           object \n",
      " 10  Sload             float64\n",
      " 11  Dload             float64\n",
      " 12  Spkts             int64  \n",
      " 13  Dpkts             int64  \n",
      " 14  smeansz           int64  \n",
      " 15  dmeansz           int64  \n",
      " 16  Sjit              float64\n",
      " 17  Djit              float64\n",
      " 18  tcprtt            float64\n",
      " 19  synack            float64\n",
      " 20  ackdat            float64\n",
      " 21  ct_state_ttl      int64  \n",
      " 22  ct_srv_src        int64  \n",
      " 23  ct_srv_dst        int64  \n",
      " 24  ct_src_dport_ltm  int64  \n",
      " 25  ct_dst_sport_ltm  int64  \n",
      " 26  ct_dst_src_ltm    int64  \n",
      " 27  attack_cat        object \n",
      " 28  Label             int64  \n",
      "dtypes: float64(8), int64(17), object(4)\n",
      "memory usage: 562.0+ MB\n"
     ]
    }
   ],
   "source": [
    "# Verificando tipos das colunas e adicionando funções ao converter para consertar\n",
    "data.info()"
   ]
  },
  {
   "cell_type": "code",
   "execution_count": 14,
   "id": "d3623de2-fac0-40c8-85fb-94c4bf2775a8",
   "metadata": {},
   "outputs": [],
   "source": [
    "# Verificando a Coluna que possuia valores vazios\n",
    "#data['ct_ftp_cmd'].unique()"
   ]
  },
  {
   "cell_type": "code",
   "execution_count": 15,
   "id": "a18db4b2-52e1-4d0c-9d87-64f219523a33",
   "metadata": {},
   "outputs": [
    {
     "name": "stdout",
     "output_type": "stream",
     "text": [
      "proto 0\n",
      "state 0\n",
      "dur 0\n",
      "sbytes 0\n",
      "dbytes 0\n",
      "sttl 0\n",
      "dttl 0\n",
      "sloss 0\n",
      "dloss 0\n",
      "service 0\n",
      "Sload 0\n",
      "Dload 0\n",
      "Spkts 0\n",
      "Dpkts 0\n",
      "smeansz 0\n",
      "dmeansz 0\n",
      "Sjit 0\n",
      "Djit 0\n",
      "tcprtt 0\n",
      "synack 0\n",
      "ackdat 0\n",
      "ct_state_ttl 0\n",
      "ct_srv_src 0\n",
      "ct_srv_dst 0\n",
      "ct_src_dport_ltm 0\n",
      "ct_dst_sport_ltm 0\n",
      "ct_dst_src_ltm 0\n",
      "attack_cat 2218764\n",
      "Label 0\n"
     ]
    }
   ],
   "source": [
    "# Contando os NAs nas colunas\n",
    "for i in range(data.shape[1]):\n",
    "    print(data.columns[i],data.isna().sum().iloc[i])"
   ]
  },
  {
   "cell_type": "code",
   "execution_count": 16,
   "id": "5a70d715-3667-4407-bd92-0a41b53b1a65",
   "metadata": {},
   "outputs": [],
   "source": [
    "# Usado para verificar a % de NAs na coluna\n",
    "#data['ct_flw_http_mthd'].isna().sum()/data.shape[0]"
   ]
  },
  {
   "cell_type": "code",
   "execution_count": 17,
   "id": "2604608b-abf7-4ed8-87a8-c80590328710",
   "metadata": {},
   "outputs": [
    {
     "data": {
      "text/plain": [
       "np.float64(0.8735129704292873)"
      ]
     },
     "execution_count": 17,
     "metadata": {},
     "output_type": "execute_result"
    }
   ],
   "source": [
    "# % de NAs no attack cat\n",
    "data['attack_cat'].isna().sum()/data.shape[0]"
   ]
  },
  {
   "cell_type": "code",
   "execution_count": 18,
   "id": "ca50f8df-b800-440f-b10a-5b69df3f3e14",
   "metadata": {},
   "outputs": [],
   "source": [
    "# Pegando as colunas numéricas descritivass\n",
    "descr_cols = list(data.describe().columns)[:-1] # até -1 para tirar o label"
   ]
  },
  {
   "cell_type": "code",
   "execution_count": 19,
   "id": "8940aa68-a473-4353-97ab-4e349d1d6184",
   "metadata": {},
   "outputs": [
    {
     "data": {
      "text/plain": [
       "['dur',\n",
       " 'sbytes',\n",
       " 'dbytes',\n",
       " 'sttl',\n",
       " 'dttl',\n",
       " 'sloss',\n",
       " 'dloss',\n",
       " 'Sload',\n",
       " 'Dload',\n",
       " 'Spkts',\n",
       " 'Dpkts',\n",
       " 'smeansz',\n",
       " 'dmeansz',\n",
       " 'Sjit',\n",
       " 'Djit',\n",
       " 'tcprtt',\n",
       " 'synack',\n",
       " 'ackdat',\n",
       " 'ct_state_ttl',\n",
       " 'ct_srv_src',\n",
       " 'ct_srv_dst',\n",
       " 'ct_src_dport_ltm',\n",
       " 'ct_dst_sport_ltm',\n",
       " 'ct_dst_src_ltm']"
      ]
     },
     "execution_count": 19,
     "metadata": {},
     "output_type": "execute_result"
    }
   ],
   "source": [
    "descr_cols"
   ]
  },
  {
   "cell_type": "code",
   "execution_count": 20,
   "id": "af4819b8-3d61-4214-906b-7595abb4ed8b",
   "metadata": {
    "scrolled": true
   },
   "outputs": [
    {
     "data": {
      "text/html": [
       "<div>\n",
       "<style scoped>\n",
       "    .dataframe tbody tr th:only-of-type {\n",
       "        vertical-align: middle;\n",
       "    }\n",
       "\n",
       "    .dataframe tbody tr th {\n",
       "        vertical-align: top;\n",
       "    }\n",
       "\n",
       "    .dataframe thead th {\n",
       "        text-align: right;\n",
       "    }\n",
       "</style>\n",
       "<table border=\"1\" class=\"dataframe\">\n",
       "  <thead>\n",
       "    <tr style=\"text-align: right;\">\n",
       "      <th></th>\n",
       "      <th>dur</th>\n",
       "      <th>sbytes</th>\n",
       "      <th>dbytes</th>\n",
       "      <th>sttl</th>\n",
       "      <th>dttl</th>\n",
       "      <th>sloss</th>\n",
       "      <th>dloss</th>\n",
       "      <th>Sload</th>\n",
       "      <th>Dload</th>\n",
       "      <th>Spkts</th>\n",
       "      <th>Dpkts</th>\n",
       "      <th>smeansz</th>\n",
       "      <th>dmeansz</th>\n",
       "      <th>Sjit</th>\n",
       "      <th>Djit</th>\n",
       "    </tr>\n",
       "    <tr>\n",
       "      <th>Label</th>\n",
       "      <th></th>\n",
       "      <th></th>\n",
       "      <th></th>\n",
       "      <th></th>\n",
       "      <th></th>\n",
       "      <th></th>\n",
       "      <th></th>\n",
       "      <th></th>\n",
       "      <th></th>\n",
       "      <th></th>\n",
       "      <th></th>\n",
       "      <th></th>\n",
       "      <th></th>\n",
       "      <th></th>\n",
       "      <th></th>\n",
       "    </tr>\n",
       "  </thead>\n",
       "  <tbody>\n",
       "    <tr>\n",
       "      <th>0</th>\n",
       "      <td>0.648411</td>\n",
       "      <td>4121.088225</td>\n",
       "      <td>41058.519224</td>\n",
       "      <td>37.100686</td>\n",
       "      <td>28.566358</td>\n",
       "      <td>5.534693</td>\n",
       "      <td>18.393768</td>\n",
       "      <td>2.827846e+07</td>\n",
       "      <td>2.804086e+06</td>\n",
       "      <td>36.797789</td>\n",
       "      <td>48.087476</td>\n",
       "      <td>128.032179</td>\n",
       "      <td>311.460281</td>\n",
       "      <td>1454.165960</td>\n",
       "      <td>801.282377</td>\n",
       "    </tr>\n",
       "    <tr>\n",
       "      <th>1</th>\n",
       "      <td>0.730478</td>\n",
       "      <td>5848.631674</td>\n",
       "      <td>4446.658613</td>\n",
       "      <td>240.135647</td>\n",
       "      <td>45.963020</td>\n",
       "      <td>2.603390</td>\n",
       "      <td>2.073325</td>\n",
       "      <td>9.688622e+07</td>\n",
       "      <td>1.150953e+04</td>\n",
       "      <td>9.056246</td>\n",
       "      <td>5.704986</td>\n",
       "      <td>98.159009</td>\n",
       "      <td>36.425198</td>\n",
       "      <td>2520.446978</td>\n",
       "      <td>238.324164</td>\n",
       "    </tr>\n",
       "  </tbody>\n",
       "</table>\n",
       "</div>"
      ],
      "text/plain": [
       "            dur       sbytes        dbytes        sttl       dttl     sloss  \\\n",
       "Label                                                                         \n",
       "0      0.648411  4121.088225  41058.519224   37.100686  28.566358  5.534693   \n",
       "1      0.730478  5848.631674   4446.658613  240.135647  45.963020  2.603390   \n",
       "\n",
       "           dloss         Sload         Dload      Spkts      Dpkts  \\\n",
       "Label                                                                \n",
       "0      18.393768  2.827846e+07  2.804086e+06  36.797789  48.087476   \n",
       "1       2.073325  9.688622e+07  1.150953e+04   9.056246   5.704986   \n",
       "\n",
       "          smeansz     dmeansz         Sjit        Djit  \n",
       "Label                                                   \n",
       "0      128.032179  311.460281  1454.165960  801.282377  \n",
       "1       98.159009   36.425198  2520.446978  238.324164  "
      ]
     },
     "execution_count": 20,
     "metadata": {},
     "output_type": "execute_result"
    }
   ],
   "source": [
    "# Verificar relação entre os atributos numéricos e label\n",
    "data.groupby(['Label'])[descr_cols].mean().iloc[:,0:15]"
   ]
  },
  {
   "cell_type": "code",
   "execution_count": 21,
   "id": "82392071-306b-4449-8e53-4330928d8b79",
   "metadata": {},
   "outputs": [
    {
     "data": {
      "text/html": [
       "<div>\n",
       "<style scoped>\n",
       "    .dataframe tbody tr th:only-of-type {\n",
       "        vertical-align: middle;\n",
       "    }\n",
       "\n",
       "    .dataframe tbody tr th {\n",
       "        vertical-align: top;\n",
       "    }\n",
       "\n",
       "    .dataframe thead th {\n",
       "        text-align: right;\n",
       "    }\n",
       "</style>\n",
       "<table border=\"1\" class=\"dataframe\">\n",
       "  <thead>\n",
       "    <tr style=\"text-align: right;\">\n",
       "      <th></th>\n",
       "      <th>synack</th>\n",
       "      <th>ackdat</th>\n",
       "      <th>ct_state_ttl</th>\n",
       "      <th>ct_srv_src</th>\n",
       "      <th>ct_srv_dst</th>\n",
       "      <th>ct_src_dport_ltm</th>\n",
       "      <th>ct_dst_sport_ltm</th>\n",
       "      <th>ct_dst_src_ltm</th>\n",
       "    </tr>\n",
       "    <tr>\n",
       "      <th>Label</th>\n",
       "      <th></th>\n",
       "      <th></th>\n",
       "      <th></th>\n",
       "      <th></th>\n",
       "      <th></th>\n",
       "      <th></th>\n",
       "      <th></th>\n",
       "      <th></th>\n",
       "    </tr>\n",
       "  </thead>\n",
       "  <tbody>\n",
       "    <tr>\n",
       "      <th>0</th>\n",
       "      <td>0.002081</td>\n",
       "      <td>0.001586</td>\n",
       "      <td>0.034048</td>\n",
       "      <td>7.627581</td>\n",
       "      <td>7.397207</td>\n",
       "      <td>3.362240</td>\n",
       "      <td>2.608133</td>\n",
       "      <td>4.961239</td>\n",
       "    </tr>\n",
       "    <tr>\n",
       "      <th>1</th>\n",
       "      <td>0.011620</td>\n",
       "      <td>0.011920</td>\n",
       "      <td>1.829543</td>\n",
       "      <td>20.114295</td>\n",
       "      <td>19.981509</td>\n",
       "      <td>13.481059</td>\n",
       "      <td>10.392299</td>\n",
       "      <td>19.861163</td>\n",
       "    </tr>\n",
       "  </tbody>\n",
       "</table>\n",
       "</div>"
      ],
      "text/plain": [
       "         synack    ackdat  ct_state_ttl  ct_srv_src  ct_srv_dst  \\\n",
       "Label                                                             \n",
       "0      0.002081  0.001586      0.034048    7.627581    7.397207   \n",
       "1      0.011620  0.011920      1.829543   20.114295   19.981509   \n",
       "\n",
       "       ct_src_dport_ltm  ct_dst_sport_ltm  ct_dst_src_ltm  \n",
       "Label                                                      \n",
       "0              3.362240          2.608133        4.961239  \n",
       "1             13.481059         10.392299       19.861163  "
      ]
     },
     "execution_count": 21,
     "metadata": {},
     "output_type": "execute_result"
    }
   ],
   "source": [
    "data.groupby(['Label'])[descr_cols].mean().iloc[:,16:30]"
   ]
  },
  {
   "cell_type": "code",
   "execution_count": 22,
   "id": "5dcde45c-eb2e-4530-967d-b8c8e0409710",
   "metadata": {},
   "outputs": [
    {
     "data": {
      "text/html": [
       "<div>\n",
       "<style scoped>\n",
       "    .dataframe tbody tr th:only-of-type {\n",
       "        vertical-align: middle;\n",
       "    }\n",
       "\n",
       "    .dataframe tbody tr th {\n",
       "        vertical-align: top;\n",
       "    }\n",
       "\n",
       "    .dataframe thead th {\n",
       "        text-align: right;\n",
       "    }\n",
       "</style>\n",
       "<table border=\"1\" class=\"dataframe\">\n",
       "  <thead>\n",
       "    <tr style=\"text-align: right;\">\n",
       "      <th></th>\n",
       "    </tr>\n",
       "    <tr>\n",
       "      <th>Label</th>\n",
       "    </tr>\n",
       "  </thead>\n",
       "  <tbody>\n",
       "    <tr>\n",
       "      <th>0</th>\n",
       "    </tr>\n",
       "    <tr>\n",
       "      <th>1</th>\n",
       "    </tr>\n",
       "  </tbody>\n",
       "</table>\n",
       "</div>"
      ],
      "text/plain": [
       "Empty DataFrame\n",
       "Columns: []\n",
       "Index: [0, 1]"
      ]
     },
     "execution_count": 22,
     "metadata": {},
     "output_type": "execute_result"
    }
   ],
   "source": [
    "data.groupby(['Label'])[descr_cols].mean().iloc[:,30:-1]"
   ]
  },
  {
   "cell_type": "code",
   "execution_count": 23,
   "id": "c842039e-5e1f-4718-a8c1-40e87abea169",
   "metadata": {},
   "outputs": [],
   "source": [
    "data_mean_label = data.groupby(['Label'])[descr_cols].mean()"
   ]
  },
  {
   "cell_type": "markdown",
   "id": "be380774-3455-44c4-a086-37e37c066883",
   "metadata": {},
   "source": [
    "Verificação da relação das médias calc na mão"
   ]
  },
  {
   "cell_type": "code",
   "execution_count": 24,
   "id": "c801c688-4b79-4648-8519-daf0cafe3301",
   "metadata": {},
   "outputs": [
    {
     "name": "stdout",
     "output_type": "stream",
     "text": [
      "1.12656645299003\n",
      "1.4191959391803253\n",
      "0.10830051099180006\n",
      "6.472539298692753\n",
      "1.6089912714405996\n",
      "0.47037663704751126\n",
      "0.11271887178715687\n",
      "3.4261494318049732\n",
      "0.004104558253416788\n",
      "0.2461084392630613\n",
      "0.11863766618906847\n",
      "0.7666745186850078\n",
      "0.116949738427453\n",
      "1.7332595093868435\n",
      "0.29742843654821927\n",
      "6.4196764957620704\n",
      "5.583729473193418\n",
      "7.5167125148305995\n",
      "53.73456138352663\n",
      "2.6370477125525724\n",
      "2.701223480052429\n",
      "4.009546874705317\n",
      "3.984573753148697\n",
      "4.003266881833508\n"
     ]
    }
   ],
   "source": [
    "for i in range(len(data_mean_label.columns)):\n",
    "    relation = (data_mean_label.iloc[:,i][1])/(data_mean_label.iloc[:,i][0])\n",
    "    print(relation)"
   ]
  },
  {
   "cell_type": "code",
   "execution_count": 25,
   "id": "f1f1505e-a8da-4417-91a9-8440fad6b890",
   "metadata": {},
   "outputs": [
    {
     "name": "stdout",
     "output_type": "stream",
     "text": [
      "0.7304782731268072 0.6484111711191456\n",
      "1.12656645299003\n",
      "5848.631673633526 4121.088224795427\n",
      "1.4191959391803253\n",
      "4446.658612500506 41058.51922376602\n",
      "0.10830051099180006\n",
      "240.13564676624657 37.100685787222076\n",
      "6.472539298692753\n",
      "45.96302014112169 28.56635766579952\n",
      "1.6089912714405996\n",
      "2.603390157586925 5.534692738840183\n",
      "0.47037663704751126\n",
      "2.073324763526237 18.39376788157731\n",
      "0.11271887178715687\n",
      "96886215.2921104 28278455.806017935\n",
      "3.4261494318049732\n",
      "11509.533950680985 2804085.9064675276\n",
      "0.004104558253416788\n",
      "9.056246362241389 36.797788768882135\n",
      "0.2461084392630613\n",
      "5.704985946968872 48.08747618043199\n",
      "0.11863766618906847\n",
      "98.15900934689978 128.0321791772356\n",
      "0.7666745186850078\n",
      "36.425198345383976 311.46028058865204\n",
      "0.116949738427453\n",
      "2520.446977721616 1454.1659596105417\n",
      "1.7332595093868435\n",
      "238.32416448797787 801.2823765401484\n",
      "0.29742843654821927\n",
      "0.023539724878067 0.00366680858351767\n",
      "6.4196764957620704\n",
      "0.011619981894466872 0.002081043136178521\n",
      "5.583729473193418\n",
      "0.011919742983600127 0.0015857654473391493\n",
      "7.5167125148305995\n",
      "1.8295428018289173 0.03404778516327108\n",
      "53.73456138352663\n",
      "20.114294873989596 7.627580941461102\n",
      "2.6370477125525724\n",
      "19.981508514300476 7.397206733118078\n",
      "2.701223480052429\n",
      "13.481058755053956 3.3622399678379495\n",
      "4.009546874705317\n",
      "10.392299001192095 2.6081331768498135\n",
      "3.984573753148697\n",
      "19.861162899997822 4.961238779789108\n",
      "4.003266881833508\n"
     ]
    }
   ],
   "source": [
    "for i in range(len(data_mean_label.columns)):\n",
    "    print(data_mean_label.iloc[:,i][1],data_mean_label.iloc[:,i][0])\n",
    "    print(data_mean_label.iloc[:,i][1]/data_mean_label.iloc[:,i][0])"
   ]
  },
  {
   "cell_type": "code",
   "execution_count": 26,
   "id": "786063b0-d2ad-4495-945e-49a6a9a5343b",
   "metadata": {
    "scrolled": true
   },
   "outputs": [
    {
     "name": "stdout",
     "output_type": "stream",
     "text": [
      "dbytes 0.10830051099180006\n",
      "sttl 6.472539298692753\n",
      "sloss 0.47037663704751126\n",
      "dloss 0.11271887178715687\n",
      "Sload 3.4261494318049732\n",
      "Dload 0.004104558253416788\n",
      "Spkts 0.2461084392630613\n",
      "Dpkts 0.11863766618906847\n",
      "dmeansz 0.116949738427453\n",
      "Djit 0.29742843654821927\n",
      "tcprtt 6.4196764957620704\n",
      "synack 5.583729473193418\n",
      "ackdat 7.5167125148305995\n",
      "ct_state_ttl 53.73456138352663\n",
      "ct_srv_src 2.6370477125525724\n",
      "ct_srv_dst 2.701223480052429\n",
      "ct_src_dport_ltm 4.009546874705317\n",
      "ct_dst_sport_ltm 3.984573753148697\n",
      "ct_dst_src_ltm 4.003266881833508\n"
     ]
    },
    {
     "data": {
      "text/plain": [
       "['dbytes',\n",
       " 'sttl',\n",
       " 'sloss',\n",
       " 'dloss',\n",
       " 'Sload',\n",
       " 'Dload',\n",
       " 'Spkts',\n",
       " 'Dpkts',\n",
       " 'dmeansz',\n",
       " 'Djit',\n",
       " 'tcprtt',\n",
       " 'synack',\n",
       " 'ackdat',\n",
       " 'ct_state_ttl',\n",
       " 'ct_srv_src',\n",
       " 'ct_srv_dst',\n",
       " 'ct_src_dport_ltm',\n",
       " 'ct_dst_sport_ltm',\n",
       " 'ct_dst_src_ltm']"
      ]
     },
     "execution_count": 26,
     "metadata": {},
     "output_type": "execute_result"
    }
   ],
   "source": [
    "# Iterar sobre o agrupado e calcular a diferença entre as médias dos marcados como ataque e não marcados para encontrar os que têm diferença maior que 2x\n",
    "big_mean_diff = list()\n",
    "for i in range(len(data_mean_label.columns)):\n",
    "    relation = (data_mean_label.iloc[:,i][1])/(data_mean_label.iloc[:,i][0])\n",
    "    if relation >= 2 or relation <=0.5: \n",
    "        print(data_mean_label.columns[i],relation)\n",
    "        big_mean_diff.append(data_mean_label.columns[i])\n",
    "big_mean_diff"
   ]
  },
  {
   "cell_type": "markdown",
   "id": "3fb1aaf5-02e8-46bd-a3fb-75f98676f5d2",
   "metadata": {},
   "source": [
    "Produzindo uma matriz de correlação para avaliar os atributos com"
   ]
  },
  {
   "cell_type": "code",
   "execution_count": 27,
   "id": "105ef050-8a2c-431b-aeb6-373e0e958bc3",
   "metadata": {},
   "outputs": [
    {
     "data": {
      "text/plain": [
       "dur                 0.001959\n",
       "sbytes              0.010180\n",
       "dbytes             -0.075543\n",
       "sttl                0.904393\n",
       "dttl                0.134947\n",
       "sloss              -0.043272\n",
       "dloss              -0.095855\n",
       "Sload               0.192278\n",
       "Dload              -0.219710\n",
       "Spkts              -0.120880\n",
       "Dpkts              -0.115947\n",
       "smeansz            -0.065363\n",
       "dmeansz            -0.272397\n",
       "Sjit                0.020959\n",
       "Djit               -0.054420\n",
       "tcprtt              0.143109\n",
       "synack              0.122253\n",
       "ackdat              0.143443\n",
       "ct_state_ttl        0.873694\n",
       "ct_srv_src          0.383007\n",
       "ct_srv_dst          0.386509\n",
       "ct_src_dport_ltm    0.396749\n",
       "ct_dst_sport_ltm    0.419056\n",
       "ct_dst_src_ltm      0.439916\n",
       "Label               1.000000\n",
       "Name: Label, dtype: float64"
      ]
     },
     "execution_count": 27,
     "metadata": {},
     "output_type": "execute_result"
    }
   ],
   "source": [
    "# Pearson correlation\n",
    "num_corr = data.corr(numeric_only=True)\n",
    "num_corr.iloc[:,-1]"
   ]
  },
  {
   "cell_type": "code",
   "execution_count": 28,
   "id": "bb05ed4f-8f32-4bb3-a9da-f9a9c587ac97",
   "metadata": {},
   "outputs": [
    {
     "data": {
      "text/plain": [
       "dur                -0.258458\n",
       "sbytes             -0.348955\n",
       "dbytes             -0.363397\n",
       "sttl                0.736718\n",
       "dttl               -0.416054\n",
       "sloss              -0.280588\n",
       "dloss              -0.281369\n",
       "Sload               0.238405\n",
       "Dload              -0.407619\n",
       "Spkts              -0.292236\n",
       "Dpkts              -0.364095\n",
       "smeansz            -0.236983\n",
       "dmeansz            -0.381872\n",
       "Sjit               -0.201351\n",
       "Djit               -0.233105\n",
       "tcprtt             -0.180882\n",
       "synack             -0.180980\n",
       "ackdat             -0.181152\n",
       "ct_state_ttl        0.919764\n",
       "ct_srv_src          0.222227\n",
       "ct_srv_dst          0.215734\n",
       "ct_src_dport_ltm    0.378263\n",
       "ct_dst_sport_ltm    0.458937\n",
       "ct_dst_src_ltm      0.309146\n",
       "Label               1.000000\n",
       "Name: Label, dtype: float64"
      ]
     },
     "execution_count": 28,
     "metadata": {},
     "output_type": "execute_result"
    }
   ],
   "source": [
    "# Kendall correlation\n",
    "num_corr = data.corr(numeric_only=True, method='kendall')\n",
    "num_corr.iloc[:,-1]"
   ]
  },
  {
   "cell_type": "code",
   "execution_count": 29,
   "id": "a2d27e7f-8b88-4096-9405-855f6896a0b5",
   "metadata": {},
   "outputs": [
    {
     "data": {
      "text/plain": [
       "dur                -0.315860\n",
       "sbytes             -0.420797\n",
       "dbytes             -0.433614\n",
       "sttl                0.760892\n",
       "dttl               -0.422565\n",
       "sloss              -0.312964\n",
       "dloss              -0.322032\n",
       "Sload               0.291694\n",
       "Dload              -0.491303\n",
       "Spkts              -0.340038\n",
       "Dpkts              -0.429284\n",
       "smeansz            -0.283401\n",
       "dmeansz            -0.455330\n",
       "Sjit               -0.234670\n",
       "Djit               -0.273119\n",
       "tcprtt             -0.209009\n",
       "synack             -0.209081\n",
       "ackdat             -0.208811\n",
       "ct_state_ttl        0.932251\n",
       "ct_srv_src          0.263057\n",
       "ct_srv_dst          0.254983\n",
       "ct_src_dport_ltm    0.407662\n",
       "ct_dst_sport_ltm    0.484185\n",
       "ct_dst_src_ltm      0.349463\n",
       "Label               1.000000\n",
       "Name: Label, dtype: float64"
      ]
     },
     "execution_count": 29,
     "metadata": {},
     "output_type": "execute_result"
    }
   ],
   "source": [
    "# Spearman correlation\n",
    "num_corr = data.corr(numeric_only=True, method='spearman')\n",
    "num_corr.iloc[:,-1]"
   ]
  },
  {
   "cell_type": "markdown",
   "id": "60599889-21c3-4534-97b8-ff01fd10486c",
   "metadata": {},
   "source": [
    "**Colunas com correlação forte à label em todos os métodos:**<br>\n",
    "sttl <br>\n",
    "ct_state_ttl <br>"
   ]
  },
  {
   "cell_type": "markdown",
   "id": "482c3815-1b5a-4824-b665-60b14cd08cb2",
   "metadata": {},
   "source": [
    "Investigando a proporção de linha para ataque e para não ataque."
   ]
  },
  {
   "cell_type": "code",
   "execution_count": 30,
   "id": "c4df26f2-b5c2-443a-82dd-7b1eebe26644",
   "metadata": {},
   "outputs": [
    {
     "data": {
      "text/plain": [
       "Label\n",
       "0    2218764\n",
       "1     321283\n",
       "Name: count, dtype: int64"
      ]
     },
     "execution_count": 30,
     "metadata": {},
     "output_type": "execute_result"
    }
   ],
   "source": [
    "data['Label'].value_counts()"
   ]
  },
  {
   "cell_type": "code",
   "execution_count": 31,
   "id": "e60f1031-05f6-4cb3-83e2-1cec0fd06665",
   "metadata": {},
   "outputs": [
    {
     "name": "stdout",
     "output_type": "stream",
     "text": [
      "Percentual de Atq: 0.12648702957071267\n",
      "Percentual de Normal: 0.8735129704292873\n"
     ]
    }
   ],
   "source": [
    "# Percentual de linhas de ataque\n",
    "perc_ataque = data['Label'].value_counts()[1]/data['Label'].value_counts().sum()\n",
    "perc_normal = data['Label'].value_counts()[0]/data['Label'].value_counts().sum()\n",
    "print('Percentual de Atq:',perc_ataque)\n",
    "print('Percentual de Normal:',perc_normal)"
   ]
  },
  {
   "cell_type": "markdown",
   "id": "c0a14d51-35af-4d4f-9498-9b0f86dae781",
   "metadata": {},
   "source": [
    "**Investigando os atributos categóricos:**"
   ]
  },
  {
   "cell_type": "code",
   "execution_count": 32,
   "id": "cdb10d05-d293-4539-8a01-597057dfaf2f",
   "metadata": {},
   "outputs": [
    {
     "data": {
      "text/plain": [
       "Index(['proto', 'state', 'service', 'attack_cat'], dtype='object')"
      ]
     },
     "execution_count": 32,
     "metadata": {},
     "output_type": "execute_result"
    }
   ],
   "source": [
    "# Colunas categóricas\n",
    "data.select_dtypes(include='object').columns"
   ]
  },
  {
   "cell_type": "code",
   "execution_count": 33,
   "id": "7cb06536-2b6a-45d2-a1ae-65af443f9f6b",
   "metadata": {},
   "outputs": [
    {
     "name": "stdout",
     "output_type": "stream",
     "text": [
      "proto\n",
      "tcp     1495074\n",
      "udp      990435\n",
      "unas      16202\n",
      "arp       10064\n",
      "ospf       7798\n",
      "         ...   \n",
      "3pc         137\n",
      "igmp         64\n",
      "udt           8\n",
      "rtp           7\n",
      "esp           2\n",
      "Name: count, Length: 135, dtype: int64\n",
      "state\n",
      "FIN    1478689\n",
      "CON     560588\n",
      "INT     490471\n",
      "REQ       9043\n",
      "RST        528\n",
      "ECO        337\n",
      "CLO        161\n",
      "URH        108\n",
      "ACC         43\n",
      "PAR         30\n",
      "TST          9\n",
      "ECR          9\n",
      "URN          8\n",
      "no           8\n",
      "MAS          8\n",
      "TXD          7\n",
      "Name: count, dtype: int64\n",
      "service\n",
      "-           1246397\n",
      "dns          781668\n",
      "http         206273\n",
      "ftp-data     125783\n",
      "smtp          81645\n",
      "ftp           49090\n",
      "ssh           47160\n",
      "pop3           1533\n",
      "dhcp            172\n",
      "ssl             142\n",
      "snmp            113\n",
      "radius           40\n",
      "irc              31\n",
      "Name: count, dtype: int64\n",
      "attack_cat\n",
      "Generic             215481\n",
      "Exploits             44525\n",
      " Fuzzers             19195\n",
      "DoS                  16353\n",
      " Reconnaissance      12228\n",
      " Fuzzers              5051\n",
      "Analysis              2677\n",
      "Backdoor              1795\n",
      "Reconnaissance        1759\n",
      " Shellcode            1288\n",
      "Backdoors              534\n",
      "Shellcode              223\n",
      "Worms                  174\n",
      "Name: count, dtype: int64\n"
     ]
    }
   ],
   "source": [
    "# Pegar colunas categóricas\n",
    "cat_columns = list(data.select_dtypes(include='object').columns)\n",
    "for coluna in cat_columns:\n",
    "    print(data[coluna].value_counts())"
   ]
  },
  {
   "cell_type": "markdown",
   "id": "4258ae6c-564d-4d16-99d9-b9403aad1e29",
   "metadata": {},
   "source": [
    "**Usar o teste de independência de Chi-Square para investigar a relação entre os atributos categóricos**"
   ]
  },
  {
   "cell_type": "code",
   "execution_count": 34,
   "id": "bf884466-a123-470a-9cf0-90e501899307",
   "metadata": {},
   "outputs": [
    {
     "data": {
      "text/plain": [
       "['proto', 'state', 'service']"
      ]
     },
     "execution_count": 34,
     "metadata": {},
     "output_type": "execute_result"
    }
   ],
   "source": [
    "cat_columns[:-1]"
   ]
  },
  {
   "cell_type": "code",
   "execution_count": 35,
   "id": "d36eddbe-8991-4bd8-bb93-32dd1194f408",
   "metadata": {},
   "outputs": [
    {
     "name": "stdout",
     "output_type": "stream",
     "text": [
      "proto 0\n",
      "state 0\n",
      "service 0\n"
     ]
    }
   ],
   "source": [
    "for coluna in data[cat_columns[:-1]]:\n",
    "    print(coluna,data[coluna].isna().sum())"
   ]
  },
  {
   "cell_type": "code",
   "execution_count": 36,
   "id": "f47da69e-113e-48ca-8d8a-01126cd81b0a",
   "metadata": {},
   "outputs": [
    {
     "data": {
      "text/plain": [
       "[['Label', 'proto'], ['Label', 'state'], ['Label', 'service']]"
      ]
     },
     "execution_count": 36,
     "metadata": {},
     "output_type": "execute_result"
    }
   ],
   "source": [
    "# Criando pares de Labels com as categorias\n",
    "labels_columns = list()\n",
    "for coluna in cat_columns[:-1]:\n",
    "    labels_columns.append(['Label',coluna])\n",
    "labels_columns"
   ]
  },
  {
   "cell_type": "code",
   "execution_count": 37,
   "id": "6937caf9-35c2-44f5-a604-04935af199c1",
   "metadata": {},
   "outputs": [
    {
     "data": {
      "text/html": [
       "<div>\n",
       "<style scoped>\n",
       "    .dataframe tbody tr th:only-of-type {\n",
       "        vertical-align: middle;\n",
       "    }\n",
       "\n",
       "    .dataframe tbody tr th {\n",
       "        vertical-align: top;\n",
       "    }\n",
       "\n",
       "    .dataframe thead th {\n",
       "        text-align: right;\n",
       "    }\n",
       "</style>\n",
       "<table border=\"1\" class=\"dataframe\">\n",
       "  <thead>\n",
       "    <tr style=\"text-align: right;\">\n",
       "      <th></th>\n",
       "      <th>proto</th>\n",
       "      <th>state</th>\n",
       "      <th>service</th>\n",
       "      <th>Label</th>\n",
       "    </tr>\n",
       "  </thead>\n",
       "  <tbody>\n",
       "    <tr>\n",
       "      <th>0</th>\n",
       "      <td>udp</td>\n",
       "      <td>CON</td>\n",
       "      <td>dns</td>\n",
       "      <td>0</td>\n",
       "    </tr>\n",
       "    <tr>\n",
       "      <th>1</th>\n",
       "      <td>udp</td>\n",
       "      <td>CON</td>\n",
       "      <td>-</td>\n",
       "      <td>0</td>\n",
       "    </tr>\n",
       "    <tr>\n",
       "      <th>2</th>\n",
       "      <td>udp</td>\n",
       "      <td>CON</td>\n",
       "      <td>dns</td>\n",
       "      <td>0</td>\n",
       "    </tr>\n",
       "    <tr>\n",
       "      <th>3</th>\n",
       "      <td>udp</td>\n",
       "      <td>CON</td>\n",
       "      <td>dns</td>\n",
       "      <td>0</td>\n",
       "    </tr>\n",
       "    <tr>\n",
       "      <th>4</th>\n",
       "      <td>udp</td>\n",
       "      <td>CON</td>\n",
       "      <td>dns</td>\n",
       "      <td>0</td>\n",
       "    </tr>\n",
       "    <tr>\n",
       "      <th>...</th>\n",
       "      <td>...</td>\n",
       "      <td>...</td>\n",
       "      <td>...</td>\n",
       "      <td>...</td>\n",
       "    </tr>\n",
       "    <tr>\n",
       "      <th>2540042</th>\n",
       "      <td>tcp</td>\n",
       "      <td>FIN</td>\n",
       "      <td>ftp-data</td>\n",
       "      <td>0</td>\n",
       "    </tr>\n",
       "    <tr>\n",
       "      <th>2540043</th>\n",
       "      <td>tcp</td>\n",
       "      <td>CON</td>\n",
       "      <td>ftp</td>\n",
       "      <td>0</td>\n",
       "    </tr>\n",
       "    <tr>\n",
       "      <th>2540044</th>\n",
       "      <td>tcp</td>\n",
       "      <td>CON</td>\n",
       "      <td>ftp</td>\n",
       "      <td>0</td>\n",
       "    </tr>\n",
       "    <tr>\n",
       "      <th>2540045</th>\n",
       "      <td>tcp</td>\n",
       "      <td>CON</td>\n",
       "      <td>http</td>\n",
       "      <td>0</td>\n",
       "    </tr>\n",
       "    <tr>\n",
       "      <th>2540046</th>\n",
       "      <td>tcp</td>\n",
       "      <td>CON</td>\n",
       "      <td>pop3</td>\n",
       "      <td>1</td>\n",
       "    </tr>\n",
       "  </tbody>\n",
       "</table>\n",
       "<p>2540047 rows × 4 columns</p>\n",
       "</div>"
      ],
      "text/plain": [
       "        proto state   service  Label\n",
       "0         udp   CON       dns      0\n",
       "1         udp   CON         -      0\n",
       "2         udp   CON       dns      0\n",
       "3         udp   CON       dns      0\n",
       "4         udp   CON       dns      0\n",
       "...       ...   ...       ...    ...\n",
       "2540042   tcp   FIN  ftp-data      0\n",
       "2540043   tcp   CON       ftp      0\n",
       "2540044   tcp   CON       ftp      0\n",
       "2540045   tcp   CON      http      0\n",
       "2540046   tcp   CON      pop3      1\n",
       "\n",
       "[2540047 rows x 4 columns]"
      ]
     },
     "execution_count": 37,
     "metadata": {},
     "output_type": "execute_result"
    }
   ],
   "source": [
    "data[[*cat_columns[:-1],'Label']]"
   ]
  },
  {
   "cell_type": "code",
   "execution_count": 38,
   "id": "103d835b-5a14-48e6-8090-f1bbf5b04a94",
   "metadata": {},
   "outputs": [],
   "source": [
    "# Fatorizando os dados para poder aplicar o método\n",
    "data_fact = data[[*cat_columns[:-1],'Label']].apply(lambda x : pd.factorize(x)[0])"
   ]
  },
  {
   "cell_type": "code",
   "execution_count": 39,
   "id": "893f742b-2da6-400a-bcc0-9508fcf9477a",
   "metadata": {},
   "outputs": [
    {
     "name": "stdout",
     "output_type": "stream",
     "text": [
      "  Col_Label Col Categorica     Chi-square    p\n",
      "0     Label          proto  449122.969709  0.0\n",
      "1     Label          state  907673.334961  0.0\n",
      "2     Label        service  230615.728890  0.0\n"
     ]
    }
   ],
   "source": [
    "cols_results = list()\n",
    "# Loop through each pair\n",
    "for par in labels_columns:\n",
    "    col1, col2 = par[0], par[1]\n",
    "    \n",
    "    # 1. Create the contingency table\n",
    "    contingency_table = pd.crosstab(data_fact[col1], data_fact[col2])\n",
    "    \n",
    "    # 2. Perform the Chi-Square test using chi2_contingency\n",
    "    chi, p, dof, expect = chi2_contingency(contingency_table)\n",
    "    \n",
    "    # Store the results\n",
    "    cols_results.append({\n",
    "        'Col_Label': col1,\n",
    "        'Col Categorica': col2,\n",
    "        'Chi-square': chi,\n",
    "        'p': p\n",
    "    })\n",
    "\n",
    "# Convert results to a DataFrame for easy viewing\n",
    "results_df = pd.DataFrame(cols_results)\n",
    "\n",
    "# Display the results\n",
    "print(results_df)"
   ]
  },
  {
   "cell_type": "markdown",
   "id": "7125694a-5cc4-4b66-a31e-831cf77c4819",
   "metadata": {},
   "source": [
    "Forte correlação entre label e as variáveis categóricas"
   ]
  },
  {
   "cell_type": "markdown",
   "id": "f432cab9-0b07-4ff4-a9cb-11803caadd6a",
   "metadata": {},
   "source": [
    "**Pre-processamento: OHE nos dados categóricos**"
   ]
  },
  {
   "cell_type": "code",
   "execution_count": 40,
   "id": "2845ca40-acf9-4a08-90e0-7c5bf7fd1dcb",
   "metadata": {},
   "outputs": [],
   "source": [
    "#One Hot encoding colunas categóricas\n",
    "ohe_cat_data = pd.get_dummies(\n",
    "    data[cat_columns[:-1]]\n",
    ")"
   ]
  },
  {
   "cell_type": "code",
   "execution_count": 41,
   "id": "0776c7ce-d0f2-4337-af3a-c11d99c3579f",
   "metadata": {},
   "outputs": [
    {
     "data": {
      "text/plain": [
       "Index(['proto_3pc', 'proto_a/n', 'proto_aes-sp3-d', 'proto_any', 'proto_argus',\n",
       "       'proto_aris', 'proto_arp', 'proto_ax.25', 'proto_bbn-rcc', 'proto_bna',\n",
       "       ...\n",
       "       'service_ftp', 'service_ftp-data', 'service_http', 'service_irc',\n",
       "       'service_pop3', 'service_radius', 'service_smtp', 'service_snmp',\n",
       "       'service_ssh', 'service_ssl'],\n",
       "      dtype='object', length=164)"
      ]
     },
     "execution_count": 41,
     "metadata": {},
     "output_type": "execute_result"
    }
   ],
   "source": [
    "ohe_columns = ohe_cat_data.columns\n",
    "ohe_columns"
   ]
  },
  {
   "cell_type": "code",
   "execution_count": 42,
   "id": "3de719e2-722e-4797-b0bb-c9725a004924",
   "metadata": {},
   "outputs": [
    {
     "data": {
      "text/plain": [
       "(2540047, 164)"
      ]
     },
     "execution_count": 42,
     "metadata": {},
     "output_type": "execute_result"
    }
   ],
   "source": [
    "ohe_cat_data.shape"
   ]
  },
  {
   "cell_type": "code",
   "execution_count": 43,
   "id": "55b9f782-938b-475e-98cf-36112a89878e",
   "metadata": {},
   "outputs": [
    {
     "data": {
      "text/html": [
       "<div>\n",
       "<style scoped>\n",
       "    .dataframe tbody tr th:only-of-type {\n",
       "        vertical-align: middle;\n",
       "    }\n",
       "\n",
       "    .dataframe tbody tr th {\n",
       "        vertical-align: top;\n",
       "    }\n",
       "\n",
       "    .dataframe thead th {\n",
       "        text-align: right;\n",
       "    }\n",
       "</style>\n",
       "<table border=\"1\" class=\"dataframe\">\n",
       "  <thead>\n",
       "    <tr style=\"text-align: right;\">\n",
       "      <th></th>\n",
       "      <th>proto_3pc</th>\n",
       "      <th>proto_a/n</th>\n",
       "      <th>proto_aes-sp3-d</th>\n",
       "      <th>proto_any</th>\n",
       "      <th>proto_argus</th>\n",
       "      <th>proto_aris</th>\n",
       "      <th>proto_arp</th>\n",
       "      <th>proto_ax.25</th>\n",
       "      <th>proto_bbn-rcc</th>\n",
       "      <th>proto_bna</th>\n",
       "      <th>...</th>\n",
       "      <th>service_ftp</th>\n",
       "      <th>service_ftp-data</th>\n",
       "      <th>service_http</th>\n",
       "      <th>service_irc</th>\n",
       "      <th>service_pop3</th>\n",
       "      <th>service_radius</th>\n",
       "      <th>service_smtp</th>\n",
       "      <th>service_snmp</th>\n",
       "      <th>service_ssh</th>\n",
       "      <th>service_ssl</th>\n",
       "    </tr>\n",
       "  </thead>\n",
       "  <tbody>\n",
       "    <tr>\n",
       "      <th>0</th>\n",
       "      <td>False</td>\n",
       "      <td>False</td>\n",
       "      <td>False</td>\n",
       "      <td>False</td>\n",
       "      <td>False</td>\n",
       "      <td>False</td>\n",
       "      <td>False</td>\n",
       "      <td>False</td>\n",
       "      <td>False</td>\n",
       "      <td>False</td>\n",
       "      <td>...</td>\n",
       "      <td>False</td>\n",
       "      <td>False</td>\n",
       "      <td>False</td>\n",
       "      <td>False</td>\n",
       "      <td>False</td>\n",
       "      <td>False</td>\n",
       "      <td>False</td>\n",
       "      <td>False</td>\n",
       "      <td>False</td>\n",
       "      <td>False</td>\n",
       "    </tr>\n",
       "    <tr>\n",
       "      <th>1</th>\n",
       "      <td>False</td>\n",
       "      <td>False</td>\n",
       "      <td>False</td>\n",
       "      <td>False</td>\n",
       "      <td>False</td>\n",
       "      <td>False</td>\n",
       "      <td>False</td>\n",
       "      <td>False</td>\n",
       "      <td>False</td>\n",
       "      <td>False</td>\n",
       "      <td>...</td>\n",
       "      <td>False</td>\n",
       "      <td>False</td>\n",
       "      <td>False</td>\n",
       "      <td>False</td>\n",
       "      <td>False</td>\n",
       "      <td>False</td>\n",
       "      <td>False</td>\n",
       "      <td>False</td>\n",
       "      <td>False</td>\n",
       "      <td>False</td>\n",
       "    </tr>\n",
       "    <tr>\n",
       "      <th>2</th>\n",
       "      <td>False</td>\n",
       "      <td>False</td>\n",
       "      <td>False</td>\n",
       "      <td>False</td>\n",
       "      <td>False</td>\n",
       "      <td>False</td>\n",
       "      <td>False</td>\n",
       "      <td>False</td>\n",
       "      <td>False</td>\n",
       "      <td>False</td>\n",
       "      <td>...</td>\n",
       "      <td>False</td>\n",
       "      <td>False</td>\n",
       "      <td>False</td>\n",
       "      <td>False</td>\n",
       "      <td>False</td>\n",
       "      <td>False</td>\n",
       "      <td>False</td>\n",
       "      <td>False</td>\n",
       "      <td>False</td>\n",
       "      <td>False</td>\n",
       "    </tr>\n",
       "    <tr>\n",
       "      <th>3</th>\n",
       "      <td>False</td>\n",
       "      <td>False</td>\n",
       "      <td>False</td>\n",
       "      <td>False</td>\n",
       "      <td>False</td>\n",
       "      <td>False</td>\n",
       "      <td>False</td>\n",
       "      <td>False</td>\n",
       "      <td>False</td>\n",
       "      <td>False</td>\n",
       "      <td>...</td>\n",
       "      <td>False</td>\n",
       "      <td>False</td>\n",
       "      <td>False</td>\n",
       "      <td>False</td>\n",
       "      <td>False</td>\n",
       "      <td>False</td>\n",
       "      <td>False</td>\n",
       "      <td>False</td>\n",
       "      <td>False</td>\n",
       "      <td>False</td>\n",
       "    </tr>\n",
       "    <tr>\n",
       "      <th>4</th>\n",
       "      <td>False</td>\n",
       "      <td>False</td>\n",
       "      <td>False</td>\n",
       "      <td>False</td>\n",
       "      <td>False</td>\n",
       "      <td>False</td>\n",
       "      <td>False</td>\n",
       "      <td>False</td>\n",
       "      <td>False</td>\n",
       "      <td>False</td>\n",
       "      <td>...</td>\n",
       "      <td>False</td>\n",
       "      <td>False</td>\n",
       "      <td>False</td>\n",
       "      <td>False</td>\n",
       "      <td>False</td>\n",
       "      <td>False</td>\n",
       "      <td>False</td>\n",
       "      <td>False</td>\n",
       "      <td>False</td>\n",
       "      <td>False</td>\n",
       "    </tr>\n",
       "  </tbody>\n",
       "</table>\n",
       "<p>5 rows × 164 columns</p>\n",
       "</div>"
      ],
      "text/plain": [
       "   proto_3pc  proto_a/n  proto_aes-sp3-d  proto_any  proto_argus  proto_aris  \\\n",
       "0      False      False            False      False        False       False   \n",
       "1      False      False            False      False        False       False   \n",
       "2      False      False            False      False        False       False   \n",
       "3      False      False            False      False        False       False   \n",
       "4      False      False            False      False        False       False   \n",
       "\n",
       "   proto_arp  proto_ax.25  proto_bbn-rcc  proto_bna  ...  service_ftp  \\\n",
       "0      False        False          False      False  ...        False   \n",
       "1      False        False          False      False  ...        False   \n",
       "2      False        False          False      False  ...        False   \n",
       "3      False        False          False      False  ...        False   \n",
       "4      False        False          False      False  ...        False   \n",
       "\n",
       "   service_ftp-data  service_http  service_irc  service_pop3  service_radius  \\\n",
       "0             False         False        False         False           False   \n",
       "1             False         False        False         False           False   \n",
       "2             False         False        False         False           False   \n",
       "3             False         False        False         False           False   \n",
       "4             False         False        False         False           False   \n",
       "\n",
       "   service_smtp  service_snmp  service_ssh  service_ssl  \n",
       "0         False         False        False        False  \n",
       "1         False         False        False        False  \n",
       "2         False         False        False        False  \n",
       "3         False         False        False        False  \n",
       "4         False         False        False        False  \n",
       "\n",
       "[5 rows x 164 columns]"
      ]
     },
     "execution_count": 43,
     "metadata": {},
     "output_type": "execute_result"
    }
   ],
   "source": [
    "ohe_cat_data.head()"
   ]
  },
  {
   "cell_type": "code",
   "execution_count": 44,
   "id": "fb151824-5e68-45ee-afcf-8bf4b055a49e",
   "metadata": {
    "scrolled": true
   },
   "outputs": [
    {
     "data": {
      "text/html": [
       "<div>\n",
       "<style scoped>\n",
       "    .dataframe tbody tr th:only-of-type {\n",
       "        vertical-align: middle;\n",
       "    }\n",
       "\n",
       "    .dataframe tbody tr th {\n",
       "        vertical-align: top;\n",
       "    }\n",
       "\n",
       "    .dataframe thead th {\n",
       "        text-align: right;\n",
       "    }\n",
       "</style>\n",
       "<table border=\"1\" class=\"dataframe\">\n",
       "  <thead>\n",
       "    <tr style=\"text-align: right;\">\n",
       "      <th></th>\n",
       "      <th>dur</th>\n",
       "      <th>sbytes</th>\n",
       "      <th>dbytes</th>\n",
       "      <th>sttl</th>\n",
       "      <th>dttl</th>\n",
       "      <th>sloss</th>\n",
       "      <th>dloss</th>\n",
       "      <th>Sload</th>\n",
       "      <th>Dload</th>\n",
       "      <th>Spkts</th>\n",
       "      <th>...</th>\n",
       "      <th>service_ftp</th>\n",
       "      <th>service_ftp-data</th>\n",
       "      <th>service_http</th>\n",
       "      <th>service_irc</th>\n",
       "      <th>service_pop3</th>\n",
       "      <th>service_radius</th>\n",
       "      <th>service_smtp</th>\n",
       "      <th>service_snmp</th>\n",
       "      <th>service_ssh</th>\n",
       "      <th>service_ssl</th>\n",
       "    </tr>\n",
       "  </thead>\n",
       "  <tbody>\n",
       "    <tr>\n",
       "      <th>0</th>\n",
       "      <td>0.001055</td>\n",
       "      <td>132</td>\n",
       "      <td>164</td>\n",
       "      <td>31</td>\n",
       "      <td>29</td>\n",
       "      <td>0</td>\n",
       "      <td>0</td>\n",
       "      <td>500473.937500</td>\n",
       "      <td>621800.937500</td>\n",
       "      <td>2</td>\n",
       "      <td>...</td>\n",
       "      <td>False</td>\n",
       "      <td>False</td>\n",
       "      <td>False</td>\n",
       "      <td>False</td>\n",
       "      <td>False</td>\n",
       "      <td>False</td>\n",
       "      <td>False</td>\n",
       "      <td>False</td>\n",
       "      <td>False</td>\n",
       "      <td>False</td>\n",
       "    </tr>\n",
       "    <tr>\n",
       "      <th>1</th>\n",
       "      <td>0.036133</td>\n",
       "      <td>528</td>\n",
       "      <td>304</td>\n",
       "      <td>31</td>\n",
       "      <td>29</td>\n",
       "      <td>0</td>\n",
       "      <td>0</td>\n",
       "      <td>87676.085940</td>\n",
       "      <td>50480.171880</td>\n",
       "      <td>4</td>\n",
       "      <td>...</td>\n",
       "      <td>False</td>\n",
       "      <td>False</td>\n",
       "      <td>False</td>\n",
       "      <td>False</td>\n",
       "      <td>False</td>\n",
       "      <td>False</td>\n",
       "      <td>False</td>\n",
       "      <td>False</td>\n",
       "      <td>False</td>\n",
       "      <td>False</td>\n",
       "    </tr>\n",
       "    <tr>\n",
       "      <th>2</th>\n",
       "      <td>0.001119</td>\n",
       "      <td>146</td>\n",
       "      <td>178</td>\n",
       "      <td>31</td>\n",
       "      <td>29</td>\n",
       "      <td>0</td>\n",
       "      <td>0</td>\n",
       "      <td>521894.531300</td>\n",
       "      <td>636282.375000</td>\n",
       "      <td>2</td>\n",
       "      <td>...</td>\n",
       "      <td>False</td>\n",
       "      <td>False</td>\n",
       "      <td>False</td>\n",
       "      <td>False</td>\n",
       "      <td>False</td>\n",
       "      <td>False</td>\n",
       "      <td>False</td>\n",
       "      <td>False</td>\n",
       "      <td>False</td>\n",
       "      <td>False</td>\n",
       "    </tr>\n",
       "    <tr>\n",
       "      <th>3</th>\n",
       "      <td>0.001209</td>\n",
       "      <td>132</td>\n",
       "      <td>164</td>\n",
       "      <td>31</td>\n",
       "      <td>29</td>\n",
       "      <td>0</td>\n",
       "      <td>0</td>\n",
       "      <td>436724.562500</td>\n",
       "      <td>542597.187500</td>\n",
       "      <td>2</td>\n",
       "      <td>...</td>\n",
       "      <td>False</td>\n",
       "      <td>False</td>\n",
       "      <td>False</td>\n",
       "      <td>False</td>\n",
       "      <td>False</td>\n",
       "      <td>False</td>\n",
       "      <td>False</td>\n",
       "      <td>False</td>\n",
       "      <td>False</td>\n",
       "      <td>False</td>\n",
       "    </tr>\n",
       "    <tr>\n",
       "      <th>4</th>\n",
       "      <td>0.001169</td>\n",
       "      <td>146</td>\n",
       "      <td>178</td>\n",
       "      <td>31</td>\n",
       "      <td>29</td>\n",
       "      <td>0</td>\n",
       "      <td>0</td>\n",
       "      <td>499572.250000</td>\n",
       "      <td>609067.562500</td>\n",
       "      <td>2</td>\n",
       "      <td>...</td>\n",
       "      <td>False</td>\n",
       "      <td>False</td>\n",
       "      <td>False</td>\n",
       "      <td>False</td>\n",
       "      <td>False</td>\n",
       "      <td>False</td>\n",
       "      <td>False</td>\n",
       "      <td>False</td>\n",
       "      <td>False</td>\n",
       "      <td>False</td>\n",
       "    </tr>\n",
       "    <tr>\n",
       "      <th>...</th>\n",
       "      <td>...</td>\n",
       "      <td>...</td>\n",
       "      <td>...</td>\n",
       "      <td>...</td>\n",
       "      <td>...</td>\n",
       "      <td>...</td>\n",
       "      <td>...</td>\n",
       "      <td>...</td>\n",
       "      <td>...</td>\n",
       "      <td>...</td>\n",
       "      <td>...</td>\n",
       "      <td>...</td>\n",
       "      <td>...</td>\n",
       "      <td>...</td>\n",
       "      <td>...</td>\n",
       "      <td>...</td>\n",
       "      <td>...</td>\n",
       "      <td>...</td>\n",
       "      <td>...</td>\n",
       "      <td>...</td>\n",
       "      <td>...</td>\n",
       "    </tr>\n",
       "    <tr>\n",
       "      <th>2540042</th>\n",
       "      <td>0.087306</td>\n",
       "      <td>320</td>\n",
       "      <td>1828</td>\n",
       "      <td>31</td>\n",
       "      <td>29</td>\n",
       "      <td>1</td>\n",
       "      <td>2</td>\n",
       "      <td>24465.671880</td>\n",
       "      <td>146610.765600</td>\n",
       "      <td>6</td>\n",
       "      <td>...</td>\n",
       "      <td>False</td>\n",
       "      <td>True</td>\n",
       "      <td>False</td>\n",
       "      <td>False</td>\n",
       "      <td>False</td>\n",
       "      <td>False</td>\n",
       "      <td>False</td>\n",
       "      <td>False</td>\n",
       "      <td>False</td>\n",
       "      <td>False</td>\n",
       "    </tr>\n",
       "    <tr>\n",
       "      <th>2540043</th>\n",
       "      <td>0.365058</td>\n",
       "      <td>456</td>\n",
       "      <td>346</td>\n",
       "      <td>31</td>\n",
       "      <td>29</td>\n",
       "      <td>2</td>\n",
       "      <td>2</td>\n",
       "      <td>8743.816406</td>\n",
       "      <td>6333.240234</td>\n",
       "      <td>8</td>\n",
       "      <td>...</td>\n",
       "      <td>True</td>\n",
       "      <td>False</td>\n",
       "      <td>False</td>\n",
       "      <td>False</td>\n",
       "      <td>False</td>\n",
       "      <td>False</td>\n",
       "      <td>False</td>\n",
       "      <td>False</td>\n",
       "      <td>False</td>\n",
       "      <td>False</td>\n",
       "    </tr>\n",
       "    <tr>\n",
       "      <th>2540044</th>\n",
       "      <td>6.335154</td>\n",
       "      <td>1802</td>\n",
       "      <td>2088</td>\n",
       "      <td>31</td>\n",
       "      <td>29</td>\n",
       "      <td>7</td>\n",
       "      <td>9</td>\n",
       "      <td>2204.839844</td>\n",
       "      <td>2549.582764</td>\n",
       "      <td>32</td>\n",
       "      <td>...</td>\n",
       "      <td>True</td>\n",
       "      <td>False</td>\n",
       "      <td>False</td>\n",
       "      <td>False</td>\n",
       "      <td>False</td>\n",
       "      <td>False</td>\n",
       "      <td>False</td>\n",
       "      <td>False</td>\n",
       "      <td>False</td>\n",
       "      <td>False</td>\n",
       "    </tr>\n",
       "    <tr>\n",
       "      <th>2540045</th>\n",
       "      <td>2.200934</td>\n",
       "      <td>3498</td>\n",
       "      <td>166054</td>\n",
       "      <td>31</td>\n",
       "      <td>29</td>\n",
       "      <td>2</td>\n",
       "      <td>57</td>\n",
       "      <td>12496.513670</td>\n",
       "      <td>598375.062500</td>\n",
       "      <td>58</td>\n",
       "      <td>...</td>\n",
       "      <td>False</td>\n",
       "      <td>False</td>\n",
       "      <td>True</td>\n",
       "      <td>False</td>\n",
       "      <td>False</td>\n",
       "      <td>False</td>\n",
       "      <td>False</td>\n",
       "      <td>False</td>\n",
       "      <td>False</td>\n",
       "      <td>False</td>\n",
       "    </tr>\n",
       "    <tr>\n",
       "      <th>2540046</th>\n",
       "      <td>0.942984</td>\n",
       "      <td>574</td>\n",
       "      <td>676</td>\n",
       "      <td>62</td>\n",
       "      <td>252</td>\n",
       "      <td>5</td>\n",
       "      <td>6</td>\n",
       "      <td>4470.913574</td>\n",
       "      <td>5259.898438</td>\n",
       "      <td>12</td>\n",
       "      <td>...</td>\n",
       "      <td>False</td>\n",
       "      <td>False</td>\n",
       "      <td>False</td>\n",
       "      <td>False</td>\n",
       "      <td>True</td>\n",
       "      <td>False</td>\n",
       "      <td>False</td>\n",
       "      <td>False</td>\n",
       "      <td>False</td>\n",
       "      <td>False</td>\n",
       "    </tr>\n",
       "  </tbody>\n",
       "</table>\n",
       "<p>2540047 rows × 188 columns</p>\n",
       "</div>"
      ],
      "text/plain": [
       "              dur  sbytes  dbytes  sttl  dttl  sloss  dloss          Sload  \\\n",
       "0        0.001055     132     164    31    29      0      0  500473.937500   \n",
       "1        0.036133     528     304    31    29      0      0   87676.085940   \n",
       "2        0.001119     146     178    31    29      0      0  521894.531300   \n",
       "3        0.001209     132     164    31    29      0      0  436724.562500   \n",
       "4        0.001169     146     178    31    29      0      0  499572.250000   \n",
       "...           ...     ...     ...   ...   ...    ...    ...            ...   \n",
       "2540042  0.087306     320    1828    31    29      1      2   24465.671880   \n",
       "2540043  0.365058     456     346    31    29      2      2    8743.816406   \n",
       "2540044  6.335154    1802    2088    31    29      7      9    2204.839844   \n",
       "2540045  2.200934    3498  166054    31    29      2     57   12496.513670   \n",
       "2540046  0.942984     574     676    62   252      5      6    4470.913574   \n",
       "\n",
       "                 Dload  Spkts  ...  service_ftp  service_ftp-data  \\\n",
       "0        621800.937500      2  ...        False             False   \n",
       "1         50480.171880      4  ...        False             False   \n",
       "2        636282.375000      2  ...        False             False   \n",
       "3        542597.187500      2  ...        False             False   \n",
       "4        609067.562500      2  ...        False             False   \n",
       "...                ...    ...  ...          ...               ...   \n",
       "2540042  146610.765600      6  ...        False              True   \n",
       "2540043    6333.240234      8  ...         True             False   \n",
       "2540044    2549.582764     32  ...         True             False   \n",
       "2540045  598375.062500     58  ...        False             False   \n",
       "2540046    5259.898438     12  ...        False             False   \n",
       "\n",
       "         service_http  service_irc  service_pop3  service_radius  \\\n",
       "0               False        False         False           False   \n",
       "1               False        False         False           False   \n",
       "2               False        False         False           False   \n",
       "3               False        False         False           False   \n",
       "4               False        False         False           False   \n",
       "...               ...          ...           ...             ...   \n",
       "2540042         False        False         False           False   \n",
       "2540043         False        False         False           False   \n",
       "2540044         False        False         False           False   \n",
       "2540045          True        False         False           False   \n",
       "2540046         False        False          True           False   \n",
       "\n",
       "         service_smtp  service_snmp  service_ssh  service_ssl  \n",
       "0               False         False        False        False  \n",
       "1               False         False        False        False  \n",
       "2               False         False        False        False  \n",
       "3               False         False        False        False  \n",
       "4               False         False        False        False  \n",
       "...               ...           ...          ...          ...  \n",
       "2540042         False         False        False        False  \n",
       "2540043         False         False        False        False  \n",
       "2540044         False         False        False        False  \n",
       "2540045         False         False        False        False  \n",
       "2540046         False         False        False        False  \n",
       "\n",
       "[2540047 rows x 188 columns]"
      ]
     },
     "execution_count": 44,
     "metadata": {},
     "output_type": "execute_result"
    }
   ],
   "source": [
    "# concatenando os DFs em um só DF\n",
    "preproc_data = pd.concat([data[descr_cols],ohe_cat_data],axis=1)\n",
    "preproc_data"
   ]
  },
  {
   "cell_type": "markdown",
   "id": "02f1539a-e742-4c72-9a04-bd668bfe44eb",
   "metadata": {},
   "source": [
    "**Dividindo os dados em samples de teste e treino**"
   ]
  },
  {
   "cell_type": "code",
   "execution_count": 45,
   "id": "78d91f0e-8e9f-4d30-9869-f54118d768cd",
   "metadata": {},
   "outputs": [],
   "source": [
    "#Usando o train test split do scikitlearn com stratify para garantir uma proporção similar de attack e normal\n",
    "test_size = 0.25\n",
    "X_train, X_test, y_train, y_test = train_test_split(\n",
    "    preproc_data,\n",
    "    data['Label'],\n",
    "    test_size = 0.25,\n",
    "    stratify = data['Label'],\n",
    "    random_state=19\n",
    ")"
   ]
  },
  {
   "cell_type": "code",
   "execution_count": 48,
   "id": "b6d53989-af5b-4cc7-a22a-bbfda22a3874",
   "metadata": {
    "scrolled": true
   },
   "outputs": [
    {
     "name": "stdout",
     "output_type": "stream",
     "text": [
      "X_train Shape: (1905035, 188)\n",
      "X_test Shape: (635012, 188)\n",
      "y_train Shape: (1905035,)\n",
      "y_test Shape: (635012,)\n"
     ]
    }
   ],
   "source": [
    "print('X_train Shape:',X_train.shape)\n",
    "print('X_test Shape:',X_test.shape)\n",
    "print('y_train Shape:',y_train.shape)\n",
    "print('y_test Shape:',y_test.shape)"
   ]
  },
  {
   "cell_type": "code",
   "execution_count": 49,
   "id": "19e412df-bfe8-4767-9aa7-a57c1b6a1475",
   "metadata": {
    "jupyter": {
     "source_hidden": true
    },
    "scrolled": true
   },
   "outputs": [
    {
     "name": "stdout",
     "output_type": "stream",
     "text": [
      "X_train Head:               dur  sbytes   dbytes  sttl  dttl  sloss  dloss         Sload  \\\n",
      "1809470  0.001059     146      178    31    29      0      0  5.514636e+05   \n",
      "328557   0.019120    2854    29168    31    29      7     17  1.168201e+06   \n",
      "841376   2.641740   19618  1087890    31    29      2    370  5.924883e+04   \n",
      "1958201  0.000005     264        0    60     0      0      0  2.112000e+08   \n",
      "2259848  0.361363     320     1908    31    29      1      2  5.910954e+03   \n",
      "\n",
      "                Dload  Spkts  ...  service_ftp  service_ftp-data  \\\n",
      "1809470  6.723324e+05      2  ...        False             False   \n",
      "328557   1.195021e+07     46  ...        False             False   \n",
      "841376   3.290050e+06    368  ...        False             False   \n",
      "1958201  0.000000e+00      2  ...        False             False   \n",
      "2259848  3.697114e+04      6  ...        False              True   \n",
      "\n",
      "         service_http  service_irc  service_pop3  service_radius  \\\n",
      "1809470         False        False         False           False   \n",
      "328557          False        False         False           False   \n",
      "841376           True        False         False           False   \n",
      "1958201         False        False         False           False   \n",
      "2259848         False        False         False           False   \n",
      "\n",
      "         service_smtp  service_snmp  service_ssh  service_ssl  \n",
      "1809470         False         False        False        False  \n",
      "328557          False         False        False        False  \n",
      "841376          False         False        False        False  \n",
      "1958201         False         False        False        False  \n",
      "2259848         False         False        False        False  \n",
      "\n",
      "[5 rows x 188 columns]\n",
      "X_test Head:               dur  sbytes  dbytes  sttl  dttl  sloss  dloss         Sload  \\\n",
      "1651016  0.000003     264       0    60     0      0      0  3.520000e+08   \n",
      "584874   0.159185    5174   91160    31    29      7     39  2.571599e+05   \n",
      "400727   1.241409   13142  548216    31    29     21    197  8.432354e+04   \n",
      "673474   0.009405    2230   15236    31    29      7     11  1.841574e+06   \n",
      "569660   0.001108     146     178    31    29      0      0  5.270758e+05   \n",
      "\n",
      "               Dload  Spkts  ...  service_ftp  service_ftp-data  service_http  \\\n",
      "1651016         0.00      2  ...        False             False         False   \n",
      "584874    4531582.50     90  ...        False             False         False   \n",
      "400727    3524801.50    228  ...        False             False         False   \n",
      "673474   12600106.00     34  ...        False             False         False   \n",
      "569660     642599.25      2  ...        False             False         False   \n",
      "\n",
      "         service_irc  service_pop3  service_radius  service_smtp  \\\n",
      "1651016        False         False           False         False   \n",
      "584874         False         False           False         False   \n",
      "400727         False         False           False         False   \n",
      "673474         False         False           False         False   \n",
      "569660         False         False           False         False   \n",
      "\n",
      "         service_snmp  service_ssh  service_ssl  \n",
      "1651016         False        False        False  \n",
      "584874          False        False        False  \n",
      "400727          False        False        False  \n",
      "673474          False        False        False  \n",
      "569660          False        False        False  \n",
      "\n",
      "[5 rows x 188 columns]\n",
      "y_train Head: 1809470    0\n",
      "328557     0\n",
      "841376     0\n",
      "1958201    0\n",
      "2259848    0\n",
      "Name: Label, dtype: int64\n",
      "y_test Head: 1651016    0\n",
      "584874     0\n",
      "400727     0\n",
      "673474     0\n",
      "569660     0\n",
      "Name: Label, dtype: int64\n"
     ]
    }
   ],
   "source": [
    "print('X_train Head:',X_train.head())\n",
    "print('X_test Head:',X_test.head())\n",
    "print('y_train Head:',y_train.head())\n",
    "print('y_test Head:',y_test.head())"
   ]
  },
  {
   "cell_type": "code",
   "execution_count": 50,
   "id": "4d8ae47d-8e5a-479a-baf1-fb03dde8cc1c",
   "metadata": {},
   "outputs": [],
   "source": [
    "#Normalizando os dados com standard scaler\n",
    "scaler = StandardScaler()"
   ]
  },
  {
   "cell_type": "code",
   "execution_count": 51,
   "id": "202a3256-2ee9-4764-8a76-ffdb14b387b6",
   "metadata": {},
   "outputs": [],
   "source": [
    "# Fazer o fit dos dados usando a base de treino e depois transformar a base de teste e treino com eles\n",
    "std_fit_train = scaler.fit(\n",
    "    X_train[descr_cols]\n",
    ")"
   ]
  },
  {
   "cell_type": "code",
   "execution_count": 52,
   "id": "bd78761b-42ce-4d73-abdb-7fa41c7fd261",
   "metadata": {},
   "outputs": [
    {
     "name": "stdout",
     "output_type": "stream",
     "text": [
      "(635012, 189)\n",
      "        dur    sbytes    dbytes      sttl      dttl     sloss     dloss  \\\n",
      "0 -0.049711 -0.073193 -0.226294 -0.037321 -0.718477 -0.231972 -0.288696   \n",
      "1 -0.037628  0.014880  0.339294 -0.425923 -0.040719  0.082225  0.400033   \n",
      "2  0.044520  0.157806  3.175028 -0.425923 -0.040719  0.710620  3.190267   \n",
      "3 -0.048998 -0.037928 -0.131764 -0.425923 -0.040719  0.082225 -0.094439   \n",
      "4 -0.049627 -0.075310 -0.225189 -0.425923 -0.040719 -0.231972 -0.288696   \n",
      "\n",
      "      Sload     Dload     Spkts  ...  service_ftp  service_ftp-data  \\\n",
      "0  2.649008 -0.579892 -0.411627  ...        False             False   \n",
      "1 -0.309062  0.492747  0.745126  ...        False             False   \n",
      "2 -0.310515  0.254439  2.559126  ...        False             False   \n",
      "3 -0.295737  2.402591  0.009011  ...        False             False   \n",
      "4 -0.306792 -0.427787 -0.411627  ...        False             False   \n",
      "\n",
      "   service_http  service_irc  service_pop3  service_radius  service_smtp  \\\n",
      "0         False        False         False           False         False   \n",
      "1         False        False         False           False         False   \n",
      "2         False        False         False           False         False   \n",
      "3         False        False         False           False         False   \n",
      "4         False        False         False           False         False   \n",
      "\n",
      "   service_snmp  service_ssh  service_ssl  \n",
      "0         False        False        False  \n",
      "1         False        False        False  \n",
      "2         False        False        False  \n",
      "3         False        False        False  \n",
      "4         False        False        False  \n",
      "\n",
      "[5 rows x 189 columns]\n"
     ]
    }
   ],
   "source": [
    "# Normalizar os dados numéricos de teste e criar uma nova tabela concatenando os categoricos com one hot encoding e os dados normalziados\n",
    "X_test_std_descr = pd.DataFrame(\n",
    "    std_fit_train.transform(X_test[descr_cols]),\n",
    "    columns=X_test[descr_cols].columns\n",
    ")\n",
    "df_xtest_std = pd.concat([X_test_std_descr,X_test[ohe_columns].reset_index()],axis=1)\n",
    "print(df_xtest_std.shape)\n",
    "print(df_xtest_std.head())"
   ]
  },
  {
   "cell_type": "code",
   "execution_count": 53,
   "id": "af19eff9-99df-4fc9-a55a-784438fc0ff9",
   "metadata": {},
   "outputs": [
    {
     "data": {
      "text/plain": [
       "(635012, 164)"
      ]
     },
     "execution_count": 53,
     "metadata": {},
     "output_type": "execute_result"
    }
   ],
   "source": [
    "X_test[ohe_columns].shape"
   ]
  },
  {
   "cell_type": "code",
   "execution_count": 54,
   "id": "c4e5b0ac-49e3-4b16-81e8-ed55acc4123c",
   "metadata": {
    "scrolled": true
   },
   "outputs": [
    {
     "name": "stdout",
     "output_type": "stream",
     "text": [
      "(1905035, 189)\n",
      "        dur    sbytes    dbytes      sttl      dttl     sloss     dloss  \\\n",
      "0 -0.049631 -0.075310 -0.225189 -0.425923 -0.040719 -0.231972 -0.288696   \n",
      "1 -0.048260 -0.026735 -0.045325 -0.425923 -0.040719  0.082225  0.011519   \n",
      "2  0.150814  0.273969  6.523352 -0.425923 -0.040719 -0.142202  6.245396   \n",
      "3 -0.049711 -0.073193 -0.226294 -0.037321 -0.718477 -0.231972 -0.288696   \n",
      "4 -0.022282 -0.072189 -0.214456 -0.425923 -0.040719 -0.187087 -0.253377   \n",
      "\n",
      "      Sload     Dload     Spkts  ...  service_ftp  service_ftp-data  \\\n",
      "0 -0.306587 -0.420749 -0.411627  ...        False             False   \n",
      "1 -0.301400  2.248758  0.166750  ...        False             False   \n",
      "2 -0.310726  0.198872  4.399415  ...        False             False   \n",
      "3  1.464915 -0.579892 -0.411627  ...        False             False   \n",
      "4 -0.311175 -0.571141 -0.359047  ...        False              True   \n",
      "\n",
      "   service_http  service_irc  service_pop3  service_radius  service_smtp  \\\n",
      "0         False        False         False           False         False   \n",
      "1         False        False         False           False         False   \n",
      "2          True        False         False           False         False   \n",
      "3         False        False         False           False         False   \n",
      "4         False        False         False           False         False   \n",
      "\n",
      "   service_snmp  service_ssh  service_ssl  \n",
      "0         False        False        False  \n",
      "1         False        False        False  \n",
      "2         False        False        False  \n",
      "3         False        False        False  \n",
      "4         False        False        False  \n",
      "\n",
      "[5 rows x 189 columns]\n"
     ]
    }
   ],
   "source": [
    "# Normalizar os dados numéricos de treino e criar uma nova tabela concatenando os categoricos com one hot encoding e os dados normalziados\n",
    "X_train_std_descr = pd.DataFrame(\n",
    "    std_fit_train.transform(X_train[descr_cols]),\n",
    "    columns=list(X_train[descr_cols].columns)\n",
    ")\n",
    "df_xtrain_std = pd.concat([X_train_std_descr,X_train[ohe_columns].reset_index()],axis=1)\n",
    "print(df_xtrain_std.shape)\n",
    "print(df_xtrain_std.head())"
   ]
  },
  {
   "cell_type": "markdown",
   "id": "bcc49905-cf5e-4664-a450-d9465b731461",
   "metadata": {},
   "source": [
    "**Rodar o modelo mais simples de regressão logística para ter uma base de resultados**"
   ]
  },
  {
   "cell_type": "code",
   "execution_count": 82,
   "id": "7b8dc798-d823-4d2f-a08e-e739da4f1a42",
   "metadata": {
    "editable": true,
    "slideshow": {
     "slide_type": ""
    },
    "tags": []
   },
   "outputs": [
    {
     "name": "stderr",
     "output_type": "stream",
     "text": [
      "/Users/bernardogontijovazguimaraes/Documents/Pessoal/jupyterlab_env/venv/lib/python3.13/site-packages/sklearn/linear_model/_logistic.py:473: ConvergenceWarning: lbfgs failed to converge after 100 iteration(s) (status=1):\n",
      "STOP: TOTAL NO. OF ITERATIONS REACHED LIMIT\n",
      "\n",
      "Increase the number of iterations to improve the convergence (max_iter=100).\n",
      "You might also want to scale the data as shown in:\n",
      "    https://scikit-learn.org/stable/modules/preprocessing.html\n",
      "Please also refer to the documentation for alternative solver options:\n",
      "    https://scikit-learn.org/stable/modules/linear_model.html#logistic-regression\n",
      "  n_iter_i = _check_optimize_result(\n"
     ]
    }
   ],
   "source": [
    "# Inicializa o construtor\n",
    "log_ref = LogisticRegression(random_state=19).fit(df_xtrain_std,y_train)"
   ]
  },
  {
   "cell_type": "code",
   "execution_count": 83,
   "id": "ec0983e4-82f5-4eb9-bfa0-93bf5fee114c",
   "metadata": {},
   "outputs": [],
   "source": [
    "# Prediçao na base teste\n",
    "log_ref_predict = log_ref.predict(df_xtest_std)"
   ]
  },
  {
   "cell_type": "code",
   "execution_count": 84,
   "id": "3dba84b3-83d2-4bea-9bb9-55e6bbc02274",
   "metadata": {},
   "outputs": [
    {
     "data": {
      "text/plain": [
       "0.9752256650268026"
      ]
     },
     "execution_count": 84,
     "metadata": {},
     "output_type": "execute_result"
    }
   ],
   "source": [
    "# Cálculo do score\n",
    "log_ref.score(df_xtest_std,y_test)"
   ]
  },
  {
   "cell_type": "markdown",
   "id": "ed2e0264-bd0d-4c67-ab5c-ae41f98378a3",
   "metadata": {},
   "source": [
    "***Análise da Regressão Logística***"
   ]
  },
  {
   "cell_type": "code",
   "execution_count": 85,
   "id": "85189fd8-7e20-4f19-a53a-89c5c382bda4",
   "metadata": {},
   "outputs": [
    {
     "name": "stdout",
     "output_type": "stream",
     "text": [
      "[[544683   5724]\n",
      " [ 10008  74597]]\n"
     ]
    }
   ],
   "source": [
    "print(confusion_matrix(log_ref_predict,y_test))"
   ]
  },
  {
   "cell_type": "code",
   "execution_count": 86,
   "id": "7bfe7614-bfb7-4cc9-9ca0-a07a7b2e06d9",
   "metadata": {},
   "outputs": [
    {
     "name": "stdout",
     "output_type": "stream",
     "text": [
      "              precision    recall  f1-score   support\n",
      "\n",
      "           0       0.98      0.99      0.99    550407\n",
      "           1       0.93      0.88      0.90     84605\n",
      "\n",
      "    accuracy                           0.98    635012\n",
      "   macro avg       0.96      0.94      0.95    635012\n",
      "weighted avg       0.97      0.98      0.97    635012\n",
      "\n"
     ]
    }
   ],
   "source": [
    "print(classification_report(log_ref_predict,y_test))"
   ]
  },
  {
   "cell_type": "code",
   "execution_count": 87,
   "id": "d14fadf8-e035-43c1-a87d-413a670bad0f",
   "metadata": {},
   "outputs": [
    {
     "data": {
      "text/html": [
       "<div>\n",
       "<style scoped>\n",
       "    .dataframe tbody tr th:only-of-type {\n",
       "        vertical-align: middle;\n",
       "    }\n",
       "\n",
       "    .dataframe tbody tr th {\n",
       "        vertical-align: top;\n",
       "    }\n",
       "\n",
       "    .dataframe thead th {\n",
       "        text-align: right;\n",
       "    }\n",
       "</style>\n",
       "<table border=\"1\" class=\"dataframe\">\n",
       "  <thead>\n",
       "    <tr style=\"text-align: right;\">\n",
       "      <th></th>\n",
       "      <th>0</th>\n",
       "    </tr>\n",
       "  </thead>\n",
       "  <tbody>\n",
       "    <tr>\n",
       "      <th>sttl</th>\n",
       "      <td>1.245037</td>\n",
       "    </tr>\n",
       "    <tr>\n",
       "      <th>ct_state_ttl</th>\n",
       "      <td>1.202790</td>\n",
       "    </tr>\n",
       "    <tr>\n",
       "      <th>dttl</th>\n",
       "      <td>0.437367</td>\n",
       "    </tr>\n",
       "    <tr>\n",
       "      <th>ct_dst_src_ltm</th>\n",
       "      <td>0.242128</td>\n",
       "    </tr>\n",
       "    <tr>\n",
       "      <th>ackdat</th>\n",
       "      <td>0.236579</td>\n",
       "    </tr>\n",
       "    <tr>\n",
       "      <th>...</th>\n",
       "      <td>...</td>\n",
       "    </tr>\n",
       "    <tr>\n",
       "      <th>Dload</th>\n",
       "      <td>-0.220361</td>\n",
       "    </tr>\n",
       "    <tr>\n",
       "      <th>dmeansz</th>\n",
       "      <td>-0.241309</td>\n",
       "    </tr>\n",
       "    <tr>\n",
       "      <th>service_-</th>\n",
       "      <td>-0.283032</td>\n",
       "    </tr>\n",
       "    <tr>\n",
       "      <th>state_FIN</th>\n",
       "      <td>-0.354344</td>\n",
       "    </tr>\n",
       "    <tr>\n",
       "      <th>proto_tcp</th>\n",
       "      <td>-0.368224</td>\n",
       "    </tr>\n",
       "  </tbody>\n",
       "</table>\n",
       "<p>189 rows × 1 columns</p>\n",
       "</div>"
      ],
      "text/plain": [
       "                       0\n",
       "sttl            1.245037\n",
       "ct_state_ttl    1.202790\n",
       "dttl            0.437367\n",
       "ct_dst_src_ltm  0.242128\n",
       "ackdat          0.236579\n",
       "...                  ...\n",
       "Dload          -0.220361\n",
       "dmeansz        -0.241309\n",
       "service_-      -0.283032\n",
       "state_FIN      -0.354344\n",
       "proto_tcp      -0.368224\n",
       "\n",
       "[189 rows x 1 columns]"
      ]
     },
     "execution_count": 87,
     "metadata": {},
     "output_type": "execute_result"
    }
   ],
   "source": [
    "# Avaliando as features mais importantes\n",
    "coef = pd.DataFrame(log_ref.coef_,columns=df_xtest_std.columns)\n",
    "coef.T.sort_values(0,ascending=False)"
   ]
  },
  {
   "cell_type": "markdown",
   "id": "8c00a6d5-9e43-4843-84f7-a29a9bd6117d",
   "metadata": {},
   "source": [
    "**Testando Gradient Boost**"
   ]
  },
  {
   "cell_type": "code",
   "execution_count": null,
   "id": "968b6ed8-eca2-4f22-b46f-1f4a5dfe0e93",
   "metadata": {},
   "outputs": [],
   "source": [
    "grad_boost = GradientBoostingClassifier(n_estimators=100,\n",
    "                                        learning_rate=0.1,\n",
    "                                        max_depth=3,\n",
    "                                        random_state=0\n",
    "                                       ).fit(df_xtrain_std,y_train)"
   ]
  },
  {
   "cell_type": "code",
   "execution_count": null,
   "id": "4eba2c5f-e8ff-41b5-af76-795188d45c3f",
   "metadata": {},
   "outputs": [],
   "source": [
    "grad_boost_predict = grad_boost.predict(df_xtest_std)"
   ]
  },
  {
   "cell_type": "code",
   "execution_count": null,
   "id": "616f51a0-caa1-416e-bfbe-5900e5013a1f",
   "metadata": {},
   "outputs": [],
   "source": [
    "grad_boost.score(df_xtest_std,y_test)"
   ]
  },
  {
   "cell_type": "code",
   "execution_count": null,
   "id": "642d911d-8fbe-4bcb-824a-fe0280284ced",
   "metadata": {},
   "outputs": [],
   "source": [
    "confusion_matrix(grad_boost_predict,y_test)"
   ]
  },
  {
   "cell_type": "code",
   "execution_count": null,
   "id": "d74ff945-58c3-46a0-b84d-7c0c58b46da8",
   "metadata": {},
   "outputs": [],
   "source": [
    "print(classification_report(y_test,grad_boost_predict))"
   ]
  },
  {
   "cell_type": "code",
   "execution_count": null,
   "id": "1c870f03-d1d9-4ab9-8400-27aa87134ad2",
   "metadata": {},
   "outputs": [],
   "source": [
    "feat_gb = pd.DataFrame(grad_boost.feature_importances_).T\n",
    "feat_gb.columns = df_xtest_std.columns\n",
    "feat_gb.T.sort_values(0,ascending=False)"
   ]
  },
  {
   "cell_type": "markdown",
   "id": "e43a3297-17a4-47c7-b14c-9832b48bb51c",
   "metadata": {},
   "source": [
    "**Testando SVC**"
   ]
  },
  {
   "cell_type": "code",
   "execution_count": 63,
   "id": "31f5218e-81f4-48b3-a448-9431d65a35b3",
   "metadata": {},
   "outputs": [],
   "source": [
    "svc = SVC().fit(df_xtrain_std,y_train)"
   ]
  },
  {
   "cell_type": "code",
   "execution_count": 64,
   "id": "b6a32685-f0e8-4526-89a9-357c85f96263",
   "metadata": {},
   "outputs": [],
   "source": [
    "svc_predict = svc.predict(df_xtest_std)"
   ]
  },
  {
   "cell_type": "code",
   "execution_count": 65,
   "id": "3707ff86-7563-4367-8c9a-a08a0bfacd29",
   "metadata": {},
   "outputs": [
    {
     "data": {
      "text/plain": [
       "0.999985827039489"
      ]
     },
     "execution_count": 65,
     "metadata": {},
     "output_type": "execute_result"
    }
   ],
   "source": [
    "svc.score(df_xtest_std,y_test)"
   ]
  },
  {
   "cell_type": "code",
   "execution_count": 66,
   "id": "a2fd0a84-6802-4c2d-941f-5fd3a3e02ac7",
   "metadata": {},
   "outputs": [
    {
     "data": {
      "text/plain": [
       "array([[554686,      4],\n",
       "       [     5,  80317]])"
      ]
     },
     "execution_count": 66,
     "metadata": {},
     "output_type": "execute_result"
    }
   ],
   "source": [
    "confusion_matrix(svc_predict,y_test)"
   ]
  },
  {
   "cell_type": "code",
   "execution_count": 67,
   "id": "603c2348-89c9-45ac-91d8-3d16277da114",
   "metadata": {},
   "outputs": [
    {
     "name": "stdout",
     "output_type": "stream",
     "text": [
      "              precision    recall  f1-score   support\n",
      "\n",
      "           0       1.00      1.00      1.00    554691\n",
      "           1       1.00      1.00      1.00     80321\n",
      "\n",
      "    accuracy                           1.00    635012\n",
      "   macro avg       1.00      1.00      1.00    635012\n",
      "weighted avg       1.00      1.00      1.00    635012\n",
      "\n"
     ]
    }
   ],
   "source": [
    "print(classification_report(y_test,svc_predict))"
   ]
  },
  {
   "cell_type": "markdown",
   "id": "6909df00-0f5f-4a19-bdd9-d23fad9a62bc",
   "metadata": {},
   "source": [
    "**Redução de dimensionalidade**"
   ]
  },
  {
   "cell_type": "markdown",
   "id": "e5d1e619-75b1-4974-8b5e-87579a6126af",
   "metadata": {},
   "source": [
    "***Redução usando PCA***"
   ]
  },
  {
   "cell_type": "code",
   "execution_count": 55,
   "id": "2c90102e-6311-4697-b8e0-17a1a659aa56",
   "metadata": {},
   "outputs": [],
   "source": [
    "pca = PCA(n_components=2)\n",
    "fit_pca = pca.fit_transform(preproc_data)"
   ]
  },
  {
   "cell_type": "code",
   "execution_count": 58,
   "id": "187d3e12-bed6-481b-85ab-11b1c6d19ad7",
   "metadata": {},
   "outputs": [
    {
     "name": "stdout",
     "output_type": "stream",
     "text": [
      "                  PC1           PC2  Label\n",
      "0       -3.644387e+07 -2.056146e+06      0\n",
      "1       -3.685311e+07 -2.630024e+06      0\n",
      "2       -3.642254e+07 -2.041532e+06      0\n",
      "3       -3.650713e+07 -2.135745e+06      0\n",
      "4       -3.644470e+07 -2.068885e+06      0\n",
      "...               ...           ...    ...\n",
      "2540042 -3.691691e+07 -2.534285e+06      0\n",
      "2540043 -3.693176e+07 -2.674662e+06      0\n",
      "2540044 -3.693828e+07 -2.678484e+06      0\n",
      "2540045 -3.693171e+07 -2.082144e+06      0\n",
      "2540046 -3.693603e+07 -2.675761e+06      1\n",
      "\n",
      "[2540047 rows x 3 columns]\n"
     ]
    }
   ],
   "source": [
    "df_pca = pd.DataFrame(fit_pca, columns=['PC1','PC2'])\n",
    "df_pca_labeled = pd.concat([df_pca,data['Label']],axis=1)\n",
    "print(df_pca_labeled)"
   ]
  },
  {
   "cell_type": "code",
   "execution_count": 60,
   "id": "4d4c6d7d-7414-4e19-8e4e-9c22d1c15a2c",
   "metadata": {},
   "outputs": [
    {
     "data": {
      "image/png": "[encoded data removed]",
      "text/plain": [
       "<Figure size 640x480 with 1 Axes>"
      ]
     },
     "metadata": {},
     "output_type": "display_data"
    }
   ],
   "source": [
    "sns.scatterplot(\n",
    "    data=df_pca_labeled,\n",
    "    x='PC1',\n",
    "    y='PC2',\n",
    "    hue='Label'\n",
    ");"
   ]
  },
  {
   "cell_type": "markdown",
   "id": "b519243f-3d19-4cf2-ba30-59fce86dd7b1",
   "metadata": {},
   "source": [
    "***Redução por tSNE***"
   ]
  },
  {
   "cell_type": "code",
   "execution_count": null,
   "id": "8ea0570e-d604-4092-9e04-7a2ee15728a3",
   "metadata": {},
   "outputs": [],
   "source": [
    "fit_tsne = TSNE(n_components=2, \n",
    "                  learning_rate='auto',\n",
    "                  init='random',\n",
    "                  perplexity=3\n",
    "                 ).fit_transform(preproc_data)"
   ]
  },
  {
   "cell_type": "code",
   "execution_count": null,
   "id": "8f6dec43-2d17-48ea-8ed3-5195f92927c3",
   "metadata": {},
   "outputs": [],
   "source": [
    "df_fit_tsne = pd.DataFrame(fit_tsne, columns=['T1','T2'])\n",
    "df_fit_tsne_labeled = pd.concat([df_pca,data['Label']],axis=1)\n",
    "df_fit_tsne_labeled"
   ]
  },
  {
   "cell_type": "code",
   "execution_count": null,
   "id": "e605bcfb-f651-4442-a1c9-a4538465396f",
   "metadata": {},
   "outputs": [],
   "source": [
    "sns.scatterplot(\n",
    "    data=df_fit_tsne_labeled,\n",
    "    x='T1',\n",
    "    y='T2',\n",
    "    hue='label'\n",
    ");"
   ]
  }
 ],
 "metadata": {
  "kernelspec": {
   "display_name": "Python 3 (ipykernel)",
   "language": "python",
   "name": "python3"
  },
  "language_info": {
   "codemirror_mode": {
    "name": "ipython",
    "version": 3
   },
   "file_extension": ".py",
   "mimetype": "text/x-python",
   "name": "python",
   "nbconvert_exporter": "python",
   "pygments_lexer": "ipython3",
   "version": "3.13.5"
  }
 },
 "nbformat": 4,
 "nbformat_minor": 5
}
